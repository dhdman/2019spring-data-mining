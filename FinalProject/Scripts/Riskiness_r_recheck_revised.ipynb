{
 "cells": [
  {
   "cell_type": "markdown",
   "metadata": {},
   "source": [
    "# Riskiness r修改"
   ]
  },
  {
   "cell_type": "code",
   "execution_count": 1,
   "metadata": {},
   "outputs": [],
   "source": [
    "import sympy\n",
    "from pandas import Series,DataFrame\n",
    "from scipy.optimize import fsolve\n",
    "import math\n",
    "import time\n",
    "import pandas as pd\n",
    "import numpy  as  np\n",
    "import os"
   ]
  },
  {
   "cell_type": "markdown",
   "metadata": {},
   "source": [
    "# 無風險利率\n",
    "* 我們須扣除無風險利率，得到超額報酬率以計算Riskiness r\n",
    "* 目前使用LIBOR [1個月利率](https://www.global-rates.com/interest-rates/libor/american-dollar/usd-libor-interest-rate-overnight.aspx)"
   ]
  },
  {
   "cell_type": "code",
   "execution_count": 2,
   "metadata": {
    "scrolled": false
   },
   "outputs": [
    {
     "data": {
      "text/plain": [
       "0.0020482083333333333"
      ]
     },
     "execution_count": 2,
     "metadata": {},
     "output_type": "execute_result"
    }
   ],
   "source": [
    "rfrate = 2.45785 / 12 /100\n",
    "rfrate"
   ]
  },
  {
   "cell_type": "markdown",
   "metadata": {},
   "source": [
    "# 主要調動部分:\n",
    "\n",
    "### fi()\n",
    "* np.mean( np.exp(-1*arr_returns/x) ) - 1  使得其值較接近0\n",
    "\n",
    "### get_riskiness_r ()\n",
    "* 原本fsolve疊代出來的值不是我們想像的接近0，這是誤差的來源!!!!\n",
    "* 現在將算出來的r回代，算出來後確認接近為0才跳脫迴圈。\n",
    "* guess建議代10**(-8)"
   ]
  },
  {
   "cell_type": "code",
   "execution_count": 3,
   "metadata": {},
   "outputs": [],
   "source": [
    "def f1(x,arr_returns):\n",
    "    arr_returns = arr_returns\n",
    "    return np.mean( np.exp(-1*arr_returns/x) ) - 1\n",
    "def get_riskiness_r(guess , arr_returns):\n",
    "    while (guess<10**(2)):\n",
    "        risk2 = fsolve(f1,guess,arr_returns)  #引用函數f1\n",
    "        print('guess:',guess,'risk:',risk2,\"value:\",f1(risk2,arr_returns))\n",
    "        if (risk2 != guess) and (f1(risk2,arr_returns)<0.1):\n",
    "            break\n",
    "        guess = guess*10\n",
    "    return risk2"
   ]
  },
  {
   "cell_type": "code",
   "execution_count": 4,
   "metadata": {
    "scrolled": false
   },
   "outputs": [
    {
     "name": "stdout",
     "output_type": "stream",
     "text": [
      "CHEP\n",
      "guess: 1e-08 risk: [1.e-08] value: inf\n",
      "guess: 1e-07 risk: [1.e-07] value: inf\n",
      "guess: 1e-06 risk: [1.e-06] value: inf\n",
      "guess: 9.999999999999999e-06 risk: [1.e-05] value: inf\n",
      "guess: 9.999999999999999e-05 risk: [0.00019112] value: 5.4728749386818545e+129\n",
      "guess:"
     ]
    },
    {
     "name": "stderr",
     "output_type": "stream",
     "text": [
      "C:\\Users\\R\\Anaconda3\\lib\\site-packages\\scipy\\optimize\\minpack.py:163: RuntimeWarning: The iteration is not making good progress, as measured by the \n",
      "  improvement from the last ten iterations.\n",
      "  warnings.warn(msg, RuntimeWarning)\n",
      "C:\\Users\\R\\Anaconda3\\lib\\site-packages\\scipy\\optimize\\minpack.py:163: RuntimeWarning: The number of calls to function has reached maxfev = 400.\n",
      "  warnings.warn(msg, RuntimeWarning)\n"
     ]
    },
    {
     "name": "stdout",
     "output_type": "stream",
     "text": [
      " 0.001 risk: [1.32339162e+13] value: 2.220446049250313e-16\n",
      "CPI\n",
      "guess: 1e-08 risk: [1.e-08] value: inf\n",
      "guess: 1e-07 risk: [1.e-07] value: inf\n",
      "guess: 1e-06 risk: [1.e-06] value: inf\n",
      "guess: 9.999999999999999e-06 risk: [1.e-05] value: inf\n",
      "guess: 9.999999999999999e-05 risk: [4.14772066e+12] value: 0.0\n",
      "FLAG\n",
      "guess: 1e-08 risk: [1.e-08] value: inf\n",
      "guess: 1e-07 risk: [1.e-07] value: inf\n",
      "guess: 1e-06 risk: [1.e-06] value: inf\n",
      "guess: 9.999999999999999e-06 risk: [1.e-05] value: inf\n",
      "guess: 9.999999999999999e-05 risk: [0.00017189] value: 8.042837224772817e+164\n",
      "guess: 0.001 risk: [0.10875815] value: 4.440892098500626e-16\n",
      "HDG\n",
      "guess: 1e-08 risk: [1.e-08] value: inf\n",
      "guess: 1e-07 risk: [1.e-07] value: inf\n",
      "guess: 1e-06 risk: [1.e-06] value: inf\n",
      "guess: 9.999999999999999e-06 risk: [1.e-05] value: inf\n",
      "guess: 9.999999999999999e-05 risk: [0.06657258] value: 0.03192654082430746\n",
      "MCRO\n",
      "guess: 1e-08 risk: [1.e-08] value: inf\n",
      "guess: 1e-07 risk: [1.e-07] value: inf\n",
      "guess: 1e-06 risk: [1.e-06] value: inf\n",
      "guess: 9.999999999999999e-06 risk: [1.e-05] value: inf\n",
      "guess: 9.999999999999999e-05 risk: [0.4112832] value: 0.007543467076761345\n",
      "MNA\n",
      "guess: 1e-08 risk: [1.e-08] value: inf\n",
      "guess: 1e-07 risk: [1.e-07] value: inf\n",
      "guess: 1e-06 risk: [1.e-06] value: inf\n",
      "guess: 9.999999999999999e-06 risk: [1.e-05] value: inf\n",
      "guess: 9.999999999999999e-05 risk: [0.05058234] value: -4.440892098500626e-16\n",
      "MOM\n",
      "guess: 1e-08 risk: [1.e-08] value: inf\n",
      "guess: 1e-07 risk: [1.e-07] value: inf\n",
      "guess: 1e-06 risk: [1.e-06] value: inf\n",
      "guess: 9.999999999999999e-06 risk: [1.e-05] value: inf\n",
      "guess: 9.999999999999999e-05 risk: [0.00017686] value: 1.3636040140265233e+154\n",
      "guess: 0.001 risk: [1.58230036e+13] value: 2.220446049250313e-16\n",
      "MRGR\n",
      "guess: 1e-08 risk: [1.e-08] value: inf\n",
      "guess: 1e-07 risk: [1.e-07] value: inf\n",
      "guess: 1e-06 risk: [1.e-06] value: inf\n",
      "guess: 9.999999999999999e-06 risk: [1.e-05] value: inf\n",
      "guess: 9.999999999999999e-05 risk: [11320612.57215443] value: 2.617417393935284e-10\n",
      "QAI\n",
      "guess: 1e-08 risk: [1.e-08] value: inf\n",
      "guess: 1e-07 risk: [1.e-07] value: inf\n",
      "guess: 1e-06 risk: [1.e-06] value: inf\n",
      "guess: 9.999999999999999e-06 risk: [1.e-05] value: inf\n",
      "guess: 9.999999999999999e-05 risk: [0.15105757] value: 0.012863152157852165\n",
      "RALS\n",
      "guess: 1e-08 risk: [1.e-08] value: inf\n",
      "guess: 1e-07 risk: [1.e-07] value: inf\n",
      "guess: 1e-06 risk: [1.e-06] value: inf\n",
      "guess: 9.999999999999999e-06 risk: [1.e-05] value: inf\n",
      "guess: 9.999999999999999e-05 risk: [0.00041201] value: 4.7689795853683515e+36\n",
      "guess: 0.001 risk: [6.42191758e+12] value: 2.220446049250313e-16\n",
      "RLY\n",
      "guess: 1e-08 risk: [1.e-08] value: inf\n",
      "guess: 1e-07 risk: [1.e-07] value: inf\n",
      "guess: 1e-06 risk: [1.e-06] value: inf\n",
      "guess: 9.999999999999999e-06 risk: [1.e-05] value: inf\n",
      "guess: 9.999999999999999e-05 risk: [1.e-04] value: inf\n",
      "guess: 0.001 risk: [2.20979406e+13] value: 0.0\n",
      "SIZ\n",
      "guess: 1e-08 risk: [1.e-08] value: inf\n",
      "guess: 1e-07 risk: [1.e-07] value: inf\n",
      "guess: 1e-06 risk: [1.e-06] value: inf\n",
      "guess: 9.999999999999999e-06 risk: [1.e-05] value: inf\n",
      "guess: 9.999999999999999e-05 risk: [0.00018576] value: 8.834844745473789e+137\n",
      "guess: 0.001 risk: [2.05336766e+13] value: 2.220446049250313e-16\n",
      "WTMF\n",
      "guess: 1e-08 risk: [1.e-08] value: inf\n",
      "guess: 1e-07 risk: [1.e-07] value: inf\n",
      "guess: 1e-06 risk: [1.e-06] value: inf\n",
      "guess: 9.999999999999999e-06 risk: [1.e-05] value: inf\n",
      "guess: 9.999999999999999e-05 risk: [0.00036407] value: 4.3626587428588906e+43\n",
      "guess: 0.001 risk: [4.39601961e+12] value: 0.0\n",
      "test\n",
      "guess: 1e-08 risk: [1.e-08] value: inf\n",
      "guess: 1e-07 risk: [1.e-07] value: inf\n",
      "guess: 1e-06 risk: [1.e-06] value: inf\n",
      "guess: 9.999999999999999e-06 risk: [1.e-05] value: inf\n",
      "guess: 9.999999999999999e-05 risk: [0.00745288] value: -4.440892098500626e-16\n"
     ]
    },
    {
     "data": {
      "text/plain": [
       "[('test', array([0.00745288])),\n",
       " ('MNA', array([0.05058234])),\n",
       " ('HDG', array([0.06657258])),\n",
       " ('FLAG', array([0.10875815])),\n",
       " ('QAI', array([0.15105757])),\n",
       " ('MCRO', array([0.4112832])),\n",
       " ('MRGR', array([11320612.57215443])),\n",
       " ('CPI', array([4.14772066e+12])),\n",
       " ('WTMF', array([4.39601961e+12])),\n",
       " ('RALS', array([6.42191758e+12]))]"
      ]
     },
     "execution_count": 4,
     "metadata": {},
     "output_type": "execute_result"
    }
   ],
   "source": [
    "data_file = './fortestriskr.csv'\n",
    "df = pd.read_csv(data_file)\n",
    "etf_list = list(df.columns)[1:]\n",
    "df = df.iloc[:,1:]\n",
    "\n",
    "# 計算每支ETF的riskiness r\n",
    "etf_dic = {}\n",
    "\n",
    "for etf_name in etf_list[:]:\n",
    "    # 過濾平均值正負\n",
    "    #if df[etf_name].mean(axis=0) < 0:\n",
    "    #    continue\n",
    "    arr_returns = df[etf_name] - rfrate\n",
    "    guess = 10**(-8) #注意疊代\n",
    "    #### 列出細項\n",
    "    #print('%s指標值:  %f' %(etf_name,risk2[0]) )\n",
    "    print(etf_name)\n",
    "    etf_dic[etf_name] = get_riskiness_r(guess,arr_returns)\n",
    "'''\n",
    "#etf_name = 'CPI'\n",
    "etf_name = 'MOM'\n",
    "arr_returns = df[etf_name] - rfrate\n",
    "#arr_returns = arr_returns*1000      #調整數量級\n",
    "guess = 10**(-3)\n",
    "#### 列出細項\n",
    "#print('%s指標值:  %f' %(etf_name,risk2[0]) )\n",
    "etf_dic[etf_name] = get_riskiness_r(guess,arr_returns)\n",
    "\n",
    "'''\n",
    "#print(etf_dic)\n",
    "sorted_x = sorted(etf_dic.items(), key=lambda kv: kv[1])\n",
    "    #sorted_reversed_x = list(reversed(sorted_x))\n",
    "\n",
    "# 取前10名\n",
    "top10 = sorted_x[:10]\n",
    "top10"
   ]
  },
  {
   "cell_type": "code",
   "execution_count": 5,
   "metadata": {},
   "outputs": [
    {
     "data": {
      "text/plain": [
       "0.01387906907430847"
      ]
     },
     "execution_count": 5,
     "metadata": {},
     "output_type": "execute_result"
    }
   ],
   "source": [
    "etf_name = 'MCRO'\n",
    "arr_returns = df[etf_name] - rfrate\n",
    "f1(0.23324478,arr_returns)"
   ]
  },
  {
   "cell_type": "markdown",
   "metadata": {},
   "source": [
    "# 計算Riskiness R，並依照R值排序，傳回前十名的ETF"
   ]
  },
  {
   "cell_type": "raw",
   "metadata": {},
   "source": [
    "def get_top10_etf(data_file):\n",
    "    # 讀檔\n",
    "    #data_file = '../../HW1/ETF_data_set/return_data/Alternatives ETF List (35)/Alternatives ETF List (35)_return.csv';\n",
    "    df = pd.read_csv(data_file)\n",
    "    etf_list = list(df.columns)[1:]\n",
    "    df = df.iloc[:,1:]\n",
    "    \n",
    "    # 計算每支ETF的riskiness r\n",
    "    etf_dic = {}\n",
    "    for etf_name in etf_list:\n",
    "        # 過濾平均值正負\n",
    "        #if df[etf_name].mean(axis=0) < 0:\n",
    "        #    continue\n",
    "        arr_returns = df[etf_name] - rfrate\n",
    "        #arr_returns = arr_returns*1000      #調整數量級\n",
    "        guess = 10**(-5)\n",
    "        #### 列出細項\n",
    "        #print('%s指標值:  %f' %(etf_name,risk2[0]) )\n",
    "        etf_dic[etf_name] = get_riskiness_r(guess,arr_returns)\n",
    "    \n",
    "    # ETF依照riskiness r排序\n",
    "    sorted_x = sorted(etf_dic.items(), key=lambda kv: kv[1])\n",
    "        #sorted_reversed_x = list(reversed(sorted_x))\n",
    "    \n",
    "    # 取前10名\n",
    "    top10 = sorted_x[:10]\n",
    "        # top10 = sorted_reversed_x[:10]\n",
    "    #print(top10)\n",
    "    \n",
    "    # 取前10的ETF名稱\n",
    "    etf_top10 = [etf[0] for etf in top10]\n",
    "    \n",
    "    #前10的平均\n",
    "    top10_average = df[etf_top10].mean(axis=1)\n",
    "    \n",
    "    #print(etf_top10)\n",
    "    return etf_top10 , top10_average"
   ]
  },
  {
   "cell_type": "markdown",
   "metadata": {},
   "source": [
    "# 讀取全部ETF資料夾"
   ]
  },
  {
   "cell_type": "raw",
   "metadata": {},
   "source": [
    "data_path = '../../HW1/ETF_data_set/return_data/'\n",
    "allgroup_top10_return = DataFrame()\n",
    "for subdir in os.listdir(data_path):\n",
    "    subdir_path = os.path.join(data_path, subdir)\n",
    "    if os.path.exists(subdir_path) and os.path.isdir(subdir_path):\n",
    "        file = subdir + '_return.csv'\n",
    "        file_path = os.path.join(subdir_path, file)\n",
    "        #print(file_path)\n",
    "        if os.path.isfile(file_path):\n",
    "            # 提出[前10名的名稱,前10名的平均各期報酬]\n",
    "            [ top10_etf,allgroup_top10_return[subdir] ] = get_top10_etf(file_path)\n",
    "            print('Group:',subdir)\n",
    "            print('Top10:',top10_etf)\n",
    "            print('================')"
   ]
  }
 ],
 "metadata": {
  "kernelspec": {
   "display_name": "Python 3",
   "language": "python",
   "name": "python3"
  },
  "language_info": {
   "codemirror_mode": {
    "name": "ipython",
    "version": 3
   },
   "file_extension": ".py",
   "mimetype": "text/x-python",
   "name": "python",
   "nbconvert_exporter": "python",
   "pygments_lexer": "ipython3",
   "version": "3.6.5"
  }
 },
 "nbformat": 4,
 "nbformat_minor": 2
}
