{
 "cells": [
  {
   "cell_type": "markdown",
   "metadata": {},
   "source": [
    "# 測試報酬率分布約在何種水位時，能將riskiness r的數值控制在合理的水位\n",
    "* 平均報酬要為正\n",
    "* 報酬值不能所有皆為正\n",
    "* 如果試算平均期望值來看，在r小的時候期望值超過1(原本報酬是負的)的資產，通常是較差的資產。然後圖形會隨著r值上升而變小，最後趨近於1\n",
    "* 若是隨著r值增加而增加的，通常都是較好的資產，可以一開始都全部再向負的地方平移。"
   ]
  },
  {
   "cell_type": "code",
   "execution_count": 1,
   "metadata": {},
   "outputs": [],
   "source": [
    "import sympy\n",
    "import math\n",
    "from scipy.optimize import fsolve\n",
    "import time\n",
    "import numpy as np\n",
    "import matplotlib.pyplot as plt"
   ]
  },
  {
   "cell_type": "code",
   "execution_count": 2,
   "metadata": {},
   "outputs": [
    {
     "data": {
      "text/plain": [
       "array([ 70., -10.,  20.,  30.,  50.,  50.,  50.,  50.,  50.,  50.,  50.,\n",
       "        50.,  50.,  50.])"
      ]
     },
     "execution_count": 2,
     "metadata": {},
     "output_type": "execute_result"
    }
   ],
   "source": [
    "# test data\n",
    "#arr_returns = [0.01, 0.02, -0.01, 0.02, 0.04, 0.03, 0.015, 0.01, 0.02, 0.03]\n",
    "arr_returns = 1000*np.array([0.07, -0.01,0.02,0.03]+[0.05]*10)\n",
    "arr_returns"
   ]
  },
  {
   "cell_type": "markdown",
   "metadata": {},
   "source": [
    "### 方法一：用sympy的solve"
   ]
  },
  {
   "cell_type": "raw",
   "metadata": {},
   "source": [
    "def calRiskiness(arr_returns):\n",
    "    x = sympy.symbols('x')\n",
    "    s = -1 * len(arr_returns)\n",
    "    for r in arr_returns:\n",
    "        s = s + sympy.exp(-1*r/x)\n",
    "    return sympy.solve(s,x)"
   ]
  },
  {
   "cell_type": "raw",
   "metadata": {},
   "source": [
    "start_time = time.time()\n",
    "risk = calRiskiness(arr_returns)\n",
    "end_time = time.time()\n",
    "print(\"--- %s seconds ---\" % (end_time - start_time))\n",
    "print(risk)"
   ]
  },
  {
   "cell_type": "markdown",
   "metadata": {},
   "source": [
    "### 方法二：用scipy的fsolve"
   ]
  },
  {
   "cell_type": "code",
   "execution_count": 13,
   "metadata": {},
   "outputs": [
    {
     "name": "stdout",
     "output_type": "stream",
     "text": [
      "[3.78979501]\n"
     ]
    },
    {
     "name": "stderr",
     "output_type": "stream",
     "text": [
      "D:\\Anaconda3\\lib\\site-packages\\scipy\\optimize\\minpack.py:163: RuntimeWarning: The iteration is not making good progress, as measured by the \n",
      "  improvement from the last ten iterations.\n",
      "  warnings.warn(msg, RuntimeWarning)\n"
     ]
    }
   ],
   "source": [
    "\n",
    "arr_ret = np.array(arr_returns)\n",
    "def f1(x):\n",
    "    #return math.exp(-1*arr_returns[0]/x) + math.exp(-1*arr_returns[1]/x) + math.exp(-1*arr_returns[2]/x) - 3\n",
    "    return sum( np.exp(-1*arr_ret/x) ) - len(arr_ret)\n",
    "guess = 10**(-2)\n",
    "while (guess<1000):\n",
    "    risk2 = fsolve(f1,guess)\n",
    "    if risk2 != guess:\n",
    "        break\n",
    "    guess = guess*10\n",
    "print(risk2)"
   ]
  },
  {
   "cell_type": "markdown",
   "metadata": {},
   "source": [
    "### 驗算"
   ]
  },
  {
   "cell_type": "raw",
   "metadata": {},
   "source": [
    "r1 = arr_returns[0]\n",
    "r2 = arr_returns[1]\n",
    "r3 = arr_returns[2]\n",
    "\n",
    "e1 = (math.exp(-1*r1/risk[0]) + math.exp(-1*r2/risk[0]) + math.exp(-1*r3/risk[0]))/3\n",
    "e2 = (math.exp(-1*r1/risk2) + math.exp(-1*r2/risk2) + math.exp(-1*r3/risk2))/3\n",
    "print(e1)\n",
    "print(e2)"
   ]
  },
  {
   "cell_type": "markdown",
   "metadata": {},
   "source": [
    "# 畫圖測試"
   ]
  },
  {
   "cell_type": "code",
   "execution_count": 4,
   "metadata": {
    "scrolled": true
   },
   "outputs": [
    {
     "name": "stdout",
     "output_type": "stream",
     "text": [
      "[ 1.  2.  3.  4.  5.  6.  7.  8.  9. 10.]\n",
      "[22012.46579480878, 134.41320480854768, 14.032943506105614, -1.8101777162855743, -6.589694679177607, -8.66068573948033, -9.748119407240273, -10.38459129537086, -10.779148062395192, -11.028304467980067]\n"
     ]
    },
    {
     "data": {
      "text/plain": [
       "[<matplotlib.lines.Line2D at 0x11cf7817f98>]"
      ]
     },
     "execution_count": 4,
     "metadata": {},
     "output_type": "execute_result"
    },
    {
     "data": {
      "image/png": "[encoded data removed]",
      "text/plain": [
       "<Figure size 432x288 with 1 Axes>"
      ]
     },
     "metadata": {},
     "output_type": "display_data"
    }
   ],
   "source": [
    "\n",
    "x = np.linspace(1,10,10)\n",
    "y = [f1(a) for a in x]\n",
    "print(x)\n",
    "print(y)\n",
    "plt.plot(x,y)"
   ]
  },
  {
   "cell_type": "code",
   "execution_count": null,
   "metadata": {},
   "outputs": [],
   "source": []
  }
 ],
 "metadata": {
  "kernelspec": {
   "display_name": "Python 3",
   "language": "python",
   "name": "python3"
  },
  "language_info": {
   "codemirror_mode": {
    "name": "ipython",
    "version": 3
   },
   "file_extension": ".py",
   "mimetype": "text/x-python",
   "name": "python",
   "nbconvert_exporter": "python",
   "pygments_lexer": "ipython3",
   "version": "3.6.5"
  }
 },
 "nbformat": 4,
 "nbformat_minor": 2
}
