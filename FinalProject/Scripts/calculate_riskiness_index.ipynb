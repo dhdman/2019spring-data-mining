{
 "cells": [
  {
   "cell_type": "code",
   "execution_count": 1,
   "metadata": {},
   "outputs": [],
   "source": [
    "import sympy\n",
    "import math\n",
    "from scipy.optimize import fsolve\n",
    "import time"
   ]
  },
  {
   "cell_type": "code",
   "execution_count": 2,
   "metadata": {},
   "outputs": [],
   "source": [
    "# test data\n",
    "#arr_returns = [0.01, 0.02, -0.01, 0.02, 0.04, 0.03, 0.015, 0.01, 0.02, 0.03]\n",
    "arr_returns = [0.01, 0.02, -0.01]"
   ]
  },
  {
   "cell_type": "markdown",
   "metadata": {},
   "source": [
    "### 方法一：用sympy的solve"
   ]
  },
  {
   "cell_type": "code",
   "execution_count": 3,
   "metadata": {},
   "outputs": [],
   "source": [
    "def calRiskiness(arr_returns):\n",
    "    x = sympy.symbols('x')\n",
    "    s = -1 * len(arr_returns)\n",
    "    for r in arr_returns:\n",
    "        s = s + sympy.exp(-1*r/x)\n",
    "    return sympy.solve(s,x)"
   ]
  },
  {
   "cell_type": "code",
   "execution_count": 4,
   "metadata": {},
   "outputs": [
    {
     "name": "stdout",
     "output_type": "stream",
     "text": [
      "--- 0.518669605255127 seconds ---\n",
      "[0.0113459265710651]\n"
     ]
    }
   ],
   "source": [
    "start_time = time.time()\n",
    "risk = calRiskiness(arr_returns)\n",
    "end_time = time.time()\n",
    "print(\"--- %s seconds ---\" % (end_time - start_time))\n",
    "print(risk)"
   ]
  },
  {
   "cell_type": "markdown",
   "metadata": {},
   "source": [
    "### 方法二：用scipy的fsolve"
   ]
  },
  {
   "cell_type": "code",
   "execution_count": 5,
   "metadata": {},
   "outputs": [
    {
     "name": "stdout",
     "output_type": "stream",
     "text": [
      "[2.50510988e+13]\n"
     ]
    },
    {
     "name": "stderr",
     "output_type": "stream",
     "text": [
      "/Users/alexis/anaconda3/lib/python3.7/site-packages/scipy/optimize/minpack.py:163: RuntimeWarning: The iteration is not making good progress, as measured by the \n",
      "  improvement from the last ten iterations.\n",
      "  warnings.warn(msg, RuntimeWarning)\n"
     ]
    }
   ],
   "source": [
    "def f1(x):\n",
    "    return math.exp(-1*arr_returns[0]/x) + math.exp(-1*arr_returns[1]/x) + math.exp(-1*arr_returns[2]/x) - 3\n",
    "\n",
    "guess = 0.5\n",
    "risk2 = fsolve(f1,guess)\n",
    "print(risk2)"
   ]
  },
  {
   "cell_type": "markdown",
   "metadata": {},
   "source": [
    "### 驗算"
   ]
  },
  {
   "cell_type": "code",
   "execution_count": 6,
   "metadata": {},
   "outputs": [
    {
     "name": "stdout",
     "output_type": "stream",
     "text": [
      "1.0\n",
      "0.9999999999999997\n"
     ]
    }
   ],
   "source": [
    "r1 = arr_returns[0]\n",
    "r2 = arr_returns[1]\n",
    "r3 = arr_returns[2]\n",
    "\n",
    "e1 = (math.exp(-1*r1/risk[0]) + math.exp(-1*r2/risk[0]) + math.exp(-1*r3/risk[0]))/3\n",
    "e2 = (math.exp(-1*r1/risk2) + math.exp(-1*r2/risk2) + math.exp(-1*r3/risk2))/3\n",
    "print(e1)\n",
    "print(e2)"
   ]
  },
  {
   "cell_type": "code",
   "execution_count": null,
   "metadata": {},
   "outputs": [],
   "source": []
  }
 ],
 "metadata": {
  "kernelspec": {
   "display_name": "Python 3",
   "language": "python",
   "name": "python3"
  },
  "language_info": {
   "codemirror_mode": {
    "name": "ipython",
    "version": 3
   },
   "file_extension": ".py",
   "mimetype": "text/x-python",
   "name": "python",
   "nbconvert_exporter": "python",
   "pygments_lexer": "ipython3",
   "version": "3.7.1"
  }
 },
 "nbformat": 4,
 "nbformat_minor": 2
}
