{
 "cells": [
  {
   "cell_type": "markdown",
   "metadata": {},
   "source": [
    "# 列舉所有資產的riskiness r"
   ]
  },
  {
   "cell_type": "code",
   "execution_count": 1,
   "metadata": {},
   "outputs": [],
   "source": [
    "import sympy\n",
    "from pandas import Series,DataFrame\n",
    "from scipy.optimize import fsolve\n",
    "import math\n",
    "import time\n",
    "import pandas as pd\n",
    "import numpy  as  np\n",
    "import os"
   ]
  },
  {
   "cell_type": "markdown",
   "metadata": {},
   "source": [
    "# 無風險利率\n",
    "* 我們須扣除無風險利率，得到超額報酬率以計算Riskiness r\n",
    "* 目前使用LIBOR [1個月利率](https://www.global-rates.com/interest-rates/libor/american-dollar/usd-libor-interest-rate-overnight.aspx)"
   ]
  },
  {
   "cell_type": "code",
   "execution_count": 2,
   "metadata": {
    "scrolled": false
   },
   "outputs": [
    {
     "data": {
      "text/plain": [
       "0.0020482083333333333"
      ]
     },
     "execution_count": 2,
     "metadata": {},
     "output_type": "execute_result"
    }
   ],
   "source": [
    "rfrate = 2.45785 / 12 /100\n",
    "rfrate"
   ]
  },
  {
   "cell_type": "markdown",
   "metadata": {},
   "source": [
    "# 關於超額報酬的數量級:\n",
    "* 將要帶入公式的數值調整到介在0-100間，目的是為了讓大部分的Riskiness r介在0-100間。"
   ]
  },
  {
   "cell_type": "code",
   "execution_count": 3,
   "metadata": {},
   "outputs": [],
   "source": [
    "def f1(x,arr_returns):\n",
    "    return sum( np.exp(-1*arr_returns/x) ) - len(arr_returns)"
   ]
  },
  {
   "cell_type": "code",
   "execution_count": 4,
   "metadata": {},
   "outputs": [],
   "source": [
    "def get_riskiness_r(guess , arr_returns):\n",
    "    while (guess<1000):\n",
    "        risk2 = fsolve(f1,guess,arr_returns)  #引用函數f1\n",
    "        if risk2[0] != guess:\n",
    "            break\n",
    "        guess = guess*10\n",
    "    return risk2[0]"
   ]
  },
  {
   "cell_type": "markdown",
   "metadata": {},
   "source": [
    "# 計算Riskiness R，並依照R值排序，傳回前十名的ETF"
   ]
  },
  {
   "cell_type": "code",
   "execution_count": 5,
   "metadata": {},
   "outputs": [],
   "source": [
    "def get_top10_etf(data_file):\n",
    "    # 讀檔\n",
    "    #data_file = '../../HW1/ETF_data_set/return_data/Alternatives ETF List (35)/Alternatives ETF List (35)_return.csv';\n",
    "    df = pd.read_csv(data_file)\n",
    "    etf_list = list(df.columns)[1:]\n",
    "    df = df.iloc[:,1:]\n",
    "    \n",
    "    # 計算每支ETF的riskiness r\n",
    "    etf_dic = {}\n",
    "    for etf_name in etf_list:\n",
    "        # 過濾平均值正負\n",
    "        #if df[etf_name].mean(axis=0) < 0:\n",
    "        #    continue\n",
    "        arr_returns = df[etf_name] - rfrate\n",
    "        #arr_returns = arr_returns*1000      #調整數量級\n",
    "        guess = 10**(-5)\n",
    "        #### 列出細項\n",
    "        #print('%s指標值:  %f' %(etf_name,risk2[0]) )\n",
    "        etf_dic[etf_name] = get_riskiness_r(guess,arr_returns)\n",
    "    \n",
    "    # ETF依照riskiness r排序\n",
    "    sorted_x = sorted(etf_dic.items(), key=lambda kv: kv[1])\n",
    "        #sorted_reversed_x = list(reversed(sorted_x))\n",
    "    \n",
    "    # 取前10名\n",
    "    top10 = sorted_x[:10]\n",
    "        # top10 = sorted_reversed_x[:10]\n",
    "    #print(top10)\n",
    "    \n",
    "    # 取前10的ETF名稱\n",
    "    etf_top10 = [etf[0] for etf in top10]\n",
    "    \n",
    "    #前10的平均\n",
    "    top10_average = df[etf_top10].mean(axis=1)\n",
    "    \n",
    "    #print(etf_top10)\n",
    "    return etf_top10 , top10_average"
   ]
  },
  {
   "cell_type": "markdown",
   "metadata": {},
   "source": [
    "# 讀取全部ETF資料夾"
   ]
  },
  {
   "cell_type": "code",
   "execution_count": 6,
   "metadata": {},
   "outputs": [
    {
     "name": "stderr",
     "output_type": "stream",
     "text": [
      "D:\\Anaconda3\\lib\\site-packages\\scipy\\optimize\\minpack.py:163: RuntimeWarning: The iteration is not making good progress, as measured by the \n",
      "  improvement from the last ten iterations.\n",
      "  warnings.warn(msg, RuntimeWarning)\n",
      "D:\\Anaconda3\\lib\\site-packages\\scipy\\optimize\\minpack.py:163: RuntimeWarning: The number of calls to function has reached maxfev = 400.\n",
      "  warnings.warn(msg, RuntimeWarning)\n"
     ]
    },
    {
     "name": "stdout",
     "output_type": "stream",
     "text": [
      "Group: Alternatives ETF List (35)\n",
      "Top10: ['MOM', 'RLY', 'CHEP', 'VAMO', 'FTLS', 'SIZ', 'QAI', 'WTMF', 'MCRO', 'HDG']\n",
      "================\n",
      "Group: Broad Asia ETF List (44)\n",
      "Top10: ['AXJL', 'IQDE', 'HEEM', 'DBAP', 'AIA', 'GEM', 'IEMG', 'EEMA', 'XSOE', 'AAXJ']\n",
      "================\n",
      "Group: Commodity ETF List (125)\n",
      "Top10: ['DBA', 'BCM', 'RJZ', 'DBB', 'UCI', 'RJI', 'FTGC', 'GCC', 'KOLD', 'BOIL']\n",
      "================\n",
      "Group: Consumer Discretionary Equity ETF List (31)\n",
      "Top10: ['RETL', 'FDIS', 'IYC', 'VCR', 'XLY', 'RTH', 'INCO', 'RXI', 'PSCD', 'UCC']\n",
      "================\n",
      "Group: Consumer Staples Equity ETF List (26)\n",
      "Top10: ['WBIE', 'PSL', 'PSCC', 'VDC', 'EMCG', 'FSTA', 'RHS', 'KXI', 'IYK', 'UGE']\n",
      "================\n",
      "Group: Crude Oil ETF List (22)\n",
      "Top10: ['UCO', 'DTO', 'SCO', 'USL', 'SZO', 'OLEM', 'OLO', 'DBO', 'USO']\n",
      "================\n",
      "Group: Currency ETF List (36)\n",
      "Top10: ['FXCH', 'FXS', 'FXA', 'CEW', 'DBV', 'FXC', 'EUFX', 'USDU', 'UUP', 'FXF']\n",
      "================\n",
      "Group: Developed Asia Pacific ETF List (108)\n",
      "Top10: ['DOL', 'JPMV', 'EWV', 'DVYA', 'DTH', 'IDOG', 'DOO', 'JPNL', 'ENZL', 'HEWJ']\n",
      "================\n",
      "Group: Developed Markets ETF List 1 (100)\n",
      "Top10: ['GII', 'JXI', 'WDIV', 'DOL', 'GUNR', 'ACWV', 'HDEF', 'DTH', 'IDOG', 'IDLV']\n",
      "================\n",
      "Group: Developed Markets ETF List 2 (100)\n",
      "Top10: ['EFZ', 'CID', 'LVL', 'EUMV', 'IQDE', 'HDAW', 'DOO', 'GRES', 'JDST', 'DUST']\n",
      "================\n",
      "Group: Developed Markets ETF List 3 (93)\n",
      "Top10: ['FTRI', 'YLCO', 'GDXS', 'FTAG', 'ROGS', 'GSD', 'TLDH', 'ISZE', 'CROP', 'HGSD']\n",
      "================\n",
      "Group: Emerging Asia Pacific ETF List (114)\n",
      "Top10: ['VWO', 'ADRE', 'EWM', 'FEM', 'XCEM', 'ASEA', 'EDIV', 'IDX', 'EUM', 'CNHX']\n",
      "================\n",
      "Group: Emerging Markets ETF List (79)\n",
      "Top10: ['BICK', 'DVYE', 'ADRE', 'TLEH', 'JPEM', 'EELV', 'PXH', 'FNDE', 'EDIV', 'SPEM']\n",
      "================\n",
      "Group: Energy Equity ETF List (80)\n",
      "Top10: ['GUSH', 'GASL', 'DRIP', 'KOL', 'NLR', 'CRAK', 'PZD', 'YLCO', 'FILL', 'GRID']\n",
      "================\n",
      "Group: Financials Equity ETF List (51)\n",
      "Top10: ['VQT', 'PHDG', 'UYG', 'DPST', 'FINZ', 'FINU', 'FAS', 'KBWP', 'KIE', 'XLF']\n",
      "================\n",
      "Group: Global ETF List (72)\n",
      "Top10: ['EMFM', 'TLEH', 'FM', 'SIL', 'GDXJ', 'JDST', 'EDC', 'FLN', 'SLVP', 'DBAW']\n",
      "================\n",
      "Group: Gold ETF List (17)\n",
      "Top10: ['DGLD', 'IAU', 'OUNZ', 'SGOL', 'GLD', 'UBG', 'DGL', 'DGP', 'UGLD', 'DGZ']\n",
      "================\n",
      "Group: Healthcare Equity ETF List (49)\n",
      "Top10: ['LABU', 'IBB', 'UBIO', 'BIB', 'BBC', 'ZBIO', 'XBI', 'IHI', 'XHE', 'IYH']\n",
      "================\n",
      "Group: Industrials Equity ETF List (37)\n",
      "Top10: ['SIJ', 'CGW', 'FIW', 'EVX', 'PHO', 'PIO', 'IYJ', 'RGI', 'EXI', 'FIDU']\n",
      "================\n",
      "Group: Investment Grade Corporate ETF List (50)\n",
      "Top10: ['SKOR', 'LDRI', 'SLQD', 'IGSB', 'VCSH', 'LKOR', 'IGLB', 'IGIH', 'VCLT', 'SPLB']\n",
      "================\n",
      "Group: Junk ETF List (43)\n",
      "Top10: ['HYND', 'HYHG', 'HYGH', 'HYZD', 'HYIH', 'HYLD', 'CJNK', 'SJB', 'HYLS', 'JNK']\n",
      "================\n",
      "Group: Materials Equity ETF List (62)\n",
      "Top10: ['GUNR', 'GRES', 'JDST', 'DUST', 'GDXS', 'JNUG', 'HOML', 'NAIL', 'GDXX', 'MOO']\n",
      "================\n",
      "Group: Municipal Bond ETF List (29)\n",
      "Top10: ['MEAR', 'SHYD', 'ITM', 'PVI', 'PZA', 'TFI', 'MUB', 'VTEB', 'SMB', 'RVNU']\n",
      "================\n",
      "Group: Preferred Stock ETF List (12)\n",
      "Top10: ['PSK', 'PGF', 'PFXF', 'PFF', 'FPE', 'SPFF', 'IPFF']\n",
      "================\n",
      "Group: Real Estate ETF List (48)\n",
      "Top10: ['RWX', 'IFGL', 'FFR', 'WPS', 'REM', 'SRET', 'MORT', 'DRW', 'MORL', 'MRRL']\n",
      "================\n",
      "Group: Target Maturity Date Corporate Bond ETF List (24)\n",
      "Top10: ['BSCP', 'IBDP', 'IBDQ', 'BSCO', 'IBDD', 'IBDO', 'IBDC', 'IBCD', 'IBCE', 'BSCN']\n",
      "================\n",
      "Group: Technology Equity ETF List (75)\n",
      "Top10: ['USD', 'SSG', 'SOXL', 'XNTK', 'SKYY', 'IGV', 'VGT', 'XLK', 'RYT', 'PSJ']\n",
      "================\n",
      "Group: Telecom Equity ETF List (10)\n",
      "Top10: ['ERUS', 'FONE', 'FCOM', 'XTL', 'IYZ', 'LTL', 'VOX', 'IXP']\n",
      "================\n",
      "Group: Total Bond Market ETF List (82)\n",
      "Top10: ['FTSD', 'LDUR', 'RAVI', 'MINT', 'NEAR', 'ULST', 'XMPT', 'BLV', 'ILTB', 'BIV']\n",
      "================\n",
      "Group: Treasuries ETF List (51)\n",
      "Top10: ['SCHO', 'VGSH', 'SHY', 'TUZ', 'TYBS', 'ZROZ', 'UBT', 'EDV', 'RISE', 'TYD']\n",
      "================\n",
      "Group: Utilities Equity ETF List (24)\n",
      "Top10: ['FXU', 'GII', 'JXI', 'WBIC', 'VPU', 'IDU', 'UTES', 'FUTY', 'PUI', 'XLU']\n",
      "================\n",
      "Group: Volatility ETF List (18)\n",
      "Top10: ['UVXY', 'VIXY', 'ZIV', 'SVXY', 'TVIX', 'VIIX', 'XVZ', 'VIXM']\n",
      "================\n"
     ]
    }
   ],
   "source": [
    "data_path = '../../HW1/ETF_data_set/return_data/'\n",
    "allgroup_top10_return = DataFrame()\n",
    "for subdir in os.listdir(data_path):\n",
    "    subdir_path = os.path.join(data_path, subdir)\n",
    "    if os.path.exists(subdir_path) and os.path.isdir(subdir_path):\n",
    "        file = subdir + '_return.csv'\n",
    "        file_path = os.path.join(subdir_path, file)\n",
    "        #print(file_path)\n",
    "        if os.path.isfile(file_path):\n",
    "            # 提出[前10名的名稱,前10名的平均各期報酬]\n",
    "            [ top10_etf,allgroup_top10_return[subdir] ] = get_top10_etf(file_path)\n",
    "            print('Group:',subdir)\n",
    "            print('Top10:',top10_etf)\n",
    "            print('================')"
   ]
  },
  {
   "cell_type": "code",
   "execution_count": 7,
   "metadata": {},
   "outputs": [
    {
     "data": {
      "text/plain": [
       "0    -0.014848\n",
       "1     0.004294\n",
       "2     0.017014\n",
       "3     0.001131\n",
       "4    -0.004865\n",
       "5     0.000849\n",
       "6     0.010138\n",
       "7    -0.004461\n",
       "8     0.006556\n",
       "9    -0.009867\n",
       "10    0.015666\n",
       "11    0.005291\n",
       "12   -0.003252\n",
       "13    0.004224\n",
       "14   -0.006747\n",
       "15    0.000585\n",
       "16   -0.005576\n",
       "17    0.002532\n",
       "18    0.007081\n",
       "19    0.000081\n",
       "20    0.013821\n",
       "21    0.007662\n",
       "22    0.004123\n",
       "23    0.010876\n",
       "24    0.017250\n",
       "25   -0.020208\n",
       "26   -0.006661\n",
       "27    0.010356\n",
       "28    0.009172\n",
       "29   -0.013563\n",
       "30    0.007572\n",
       "31    0.005089\n",
       "32   -0.006795\n",
       "33   -0.035729\n",
       "34   -0.001529\n",
       "35   -0.034942\n",
       "Name: Alternatives ETF List (35), dtype: float64"
      ]
     },
     "execution_count": 7,
     "metadata": {},
     "output_type": "execute_result"
    }
   ],
   "source": [
    "allgroup_top10_return.iloc[:,0]"
   ]
  },
  {
   "cell_type": "code",
   "execution_count": 33,
   "metadata": {},
   "outputs": [],
   "source": [
    "def risk(x):\n",
    "    guess  = 10**(-5)\n",
    "    while (guess<1000):\n",
    "        risk2 = fsolve(f1,guess,x)  #引用函數f1\n",
    "        if risk2[0] != guess:\n",
    "            break\n",
    "        guess = guess*10\n",
    "    return risk2[0]\n",
    "    #return np.std(x)\n",
    "\n",
    "def sumrisk(weight,all_return):\n",
    "    w = weight\n",
    "    a = all_return\n",
    "    v = 0\n",
    "    for i in range(len(w)):\n",
    "        v = v + w[i]*risk(w[i]*(all_return.iloc[:,i]))\n",
    "    return v\n",
    "\n",
    "def penalty(w):\n",
    "    if min(w)<0 or max(w)>1:\n",
    "        return 100000\n",
    "    else:\n",
    "        return 0\n",
    "def portretmean(weight,all_return):\n",
    "    w = weight\n",
    "    a = all_return\n",
    "    return np.mean(np.dot(np.array(all_return),np.array(weight)))    \n",
    "\n",
    "def bestweight(w):\n",
    "    r = []\n",
    "    r.append(penalty(w)+np.abs(sum(w)-1))\n",
    "    for i in range(len(w)-1):\n",
    "        v =  np.abs( risk(w[i]*(all_return.iloc[:,i]))/ sumrisk(w,all_return)  \\\n",
    "            - (np.mean(all_return.iloc[:,i])-rfrate)/(portretmean(w,all_return)-rfrate) ) \\\n",
    "            + np.abs( risk(w[i+1]*(all_return.iloc[:,i+1]))/ sumrisk(w,all_return)  \\\n",
    "            - (np.mean(all_return.iloc[:,i+1])-rfrate)/(portretmean(w,all_return)-rfrate))\n",
    "        r.append(v) \n",
    "    print('權重:',w,'誤差值:',v+penalty(w)+np.abs(sum(w)-1))\n",
    "    return r"
   ]
  },
  {
   "cell_type": "code",
   "execution_count": 9,
   "metadata": {
    "scrolled": true
   },
   "outputs": [],
   "source": [
    "def fourdrop(x):\n",
    "    a = []\n",
    "    for i in range(len(x)):\n",
    "        a.append(round(sum(x[i]),3))\n",
    "    return a\n",
    "x = np.array(allgroup_top10_return.iloc[:,[0]])\n",
    "x = fourdrop(x)\n",
    "y = np.array(allgroup_top10_return.iloc[:,[1]])\n",
    "y = fourdrop(y)\n",
    "all_return = pd.DataFrame([x,y]).T\n",
    "all_return = all_return"
   ]
  },
  {
   "cell_type": "code",
   "execution_count": 10,
   "metadata": {},
   "outputs": [],
   "source": [
    "x = np.array([-0.01,0,0.0258])\n",
    "y = np.array([-0.05,0,0.134])\n",
    "all_return = pd.DataFrame([x,y]).T"
   ]
  },
  {
   "cell_type": "code",
   "execution_count": 39,
   "metadata": {
    "scrolled": false
   },
   "outputs": [
    {
     "name": "stderr",
     "output_type": "stream",
     "text": [
      "D:\\Anaconda3\\lib\\site-packages\\scipy\\optimize\\minpack.py:163: RuntimeWarning: The number of calls to function has reached maxfev = 400.\n",
      "  warnings.warn(msg, RuntimeWarning)\n",
      "D:\\Anaconda3\\lib\\site-packages\\scipy\\optimize\\minpack.py:163: RuntimeWarning: The iteration is not making good progress, as measured by the \n",
      "  improvement from the last ten iterations.\n",
      "  warnings.warn(msg, RuntimeWarning)\n"
     ]
    },
    {
     "name": "stdout",
     "output_type": "stream",
     "text": [
      "權重: [0.14285714 0.14285714 0.14285714 0.14285714 0.14285714 0.14285714\n",
      " 0.14285714] 誤差值: 15.269959401830814\n",
      "權重: [0.14285714 0.14285714 0.14285714 0.14285714 0.14285714 0.14285714\n",
      " 0.14285714] 誤差值: 15.269959401830814\n",
      "權重: [0.14285714 0.14285714 0.14285714 0.14285714 0.14285714 0.14285714\n",
      " 0.14285714] 誤差值: 15.269959401830814\n",
      "權重: [0.14285714 0.14285714 0.14285714 0.14285714 0.14285714 0.14285714\n",
      " 0.14285714] 誤差值: 15.269959410413197\n",
      "權重: [0.14285714 0.14285714 0.14285714 0.14285714 0.14285714 0.14285714\n",
      " 0.14285714] 誤差值: 15.269959184662707\n",
      "權重: [0.14285714 0.14285714 0.14285714 0.14285714 0.14285714 0.14285714\n",
      " 0.14285714] 誤差值: 15.269959357155638\n",
      "權重: [0.14285714 0.14285714 0.14285714 0.14285714 0.14285714 0.14285714\n",
      " 0.14285714] 誤差值: 15.269959188258305\n",
      "權重: [0.14285714 0.14285714 0.14285714 0.14285714 0.14285714 0.14285714\n",
      " 0.14285714] 誤差值: 15.269959300601887\n",
      "權重: [0.14285714 0.14285714 0.14285714 0.14285714 0.14285714 0.14285714\n",
      " 0.14285714] 誤差值: 15.269959421311881\n",
      "權重: [0.14285714 0.14285714 0.14285714 0.14285714 0.14285714 0.14285714\n",
      " 0.14285714] 誤差值: 15.269959303934233\n",
      "權重: [ 3.49466232  3.85061528  1.01706645 -2.12378359 -3.38682507 -2.13744957\n",
      "  0.28571419] 誤差值: 100004.13496997666\n",
      "權重: [-0.5642039   0.24361837 -0.74844608  0.04474255  0.82914329  1.0935289\n",
      "  0.2857143 ] 誤差值: 100004.28741443995\n",
      "權重: [0.14285714 0.14285714 0.14285714 0.14285714 0.14285714 0.14285714\n",
      " 0.14285714] 誤差值: 15.269959410413197\n",
      "權重: [0.14285714 0.14285714 0.14285714 0.14285714 0.14285714 0.14285714\n",
      " 0.14285714] 誤差值: 15.269959184662707\n",
      "權重: [0.14285714 0.14285714 0.14285714 0.14285714 0.14285714 0.14285714\n",
      " 0.14285714] 誤差值: 15.269959357155638\n",
      "權重: [0.14285714 0.14285714 0.14285714 0.14285714 0.14285714 0.14285714\n",
      " 0.14285714] 誤差值: 15.269959188258305\n",
      "權重: [0.14285714 0.14285714 0.14285714 0.14285714 0.14285714 0.14285714\n",
      " 0.14285714] 誤差值: 15.269959300601887\n",
      "權重: [0.14285714 0.14285714 0.14285714 0.14285714 0.14285714 0.14285714\n",
      " 0.14285714] 誤差值: 15.269959421311881\n",
      "權重: [0.14285714 0.14285714 0.14285714 0.14285714 0.14285714 0.14285714\n",
      " 0.14285714] 誤差值: 15.269959303934233\n",
      "權重: [ 3.49466232  3.85061528  1.01706645 -2.12378359 -3.38682507 -2.13744957\n",
      "  0.28571419] 誤差值: 100004.13496997666\n",
      "權重: [-0.5642039   0.24361837 -0.74844608  0.04474255  0.82914329  1.0935289\n",
      "  0.2857143 ] 誤差值: 100004.28741443995\n",
      "權重: [-0.09184532  0.14425331  0.34253194  0.1321787   0.19352503 -0.09436883\n",
      "  0.28571429] 誤差值: 100005.29568460379\n",
      "權重: [0.01995371 0.15705307 0.14089662 0.16605932 0.14436598 0.16845824\n",
      " 0.20975902] 誤差值: 5.638830075645279\n",
      "權重: [ 0.31320442  0.14318343  0.11846836  0.1439826   0.14357066 -0.01548123\n",
      "  0.14987387] 誤差值: 100008.49004165475\n",
      "權重: [-0.07691249  0.14202757  0.13389652  0.14204205  0.14039429  0.11934023\n",
      "  0.14908908] 誤差值: 100014.88178035173\n",
      "權重: [0.18969055 0.143463   0.14292002 0.14351542 0.14453424 0.11349032\n",
      " 0.12923563] 誤差值: 15.691056089301778\n",
      "權重: [0.2686406  0.14373508 0.14055513 0.14384754 0.14562516 0.0815694\n",
      " 0.12380482] 誤差值: 8.845952037047883\n",
      "權重: [0.22273162 0.14472946 0.14807976 0.14447795 0.14899925 0.05916892\n",
      " 0.08252735] 誤差值: 9.460908369594328\n",
      "權重: [0.23320773 0.15640172 0.15076268 0.13732406 0.13818715 0.05250787\n",
      " 0.08327844] 誤差值: 7.981160893327118\n",
      "權重: [0.19158448 0.17963075 0.16463458 0.12372684 0.12085448 0.02021724\n",
      " 0.03907746] 誤差值: 43.94476191367175\n",
      "權重: [0.14468233 0.15219478 0.16294519 0.14103123 0.14902202 0.01850803\n",
      " 0.00909122] 誤差值: 61.84928354102296\n",
      "權重: [0.23320774 0.15640172 0.15076268 0.13732406 0.13818715 0.05250787\n",
      " 0.08327844] 誤差值: 7.981180632384152\n",
      "權重: [0.23320773 0.15640172 0.15076268 0.13732406 0.13818715 0.05250787\n",
      " 0.08327844] 誤差值: 7.981160714086055\n",
      "權重: [0.23320773 0.15640172 0.15076268 0.13732406 0.13818715 0.05250787\n",
      " 0.08327844] 誤差值: 7.981160854684414\n",
      "權重: [0.23320773 0.15640172 0.15076268 0.13732406 0.13818715 0.05250787\n",
      " 0.08327844] 誤差值: 7.981160738496448\n",
      "權重: [0.23320773 0.15640172 0.15076268 0.13732406 0.13818715 0.05250787\n",
      " 0.08327844] 誤差值: 7.9811608175980915\n",
      "權重: [0.23320773 0.15640172 0.15076268 0.13732406 0.13818715 0.05250787\n",
      " 0.08327844] 誤差值: 8.395616511689274\n",
      "權重: [0.23320773 0.15640172 0.15076268 0.13732406 0.13818715 0.05250787\n",
      " 0.08327844] 誤差值: 7.962646321413793\n",
      "權重: [0.23315117 0.15989863 0.16714404 0.14087926 0.14560643 0.05250787\n",
      " 0.08327845] 誤差值: 8.439896551636336\n",
      "權重: [0.23300599 0.16670746 0.19903927 0.14780159 0.1600524  0.05250787\n",
      " 0.08327848] 誤差值: 7.009274365320922\n",
      "權重: [0.23269557 0.18016957 0.26210445 0.1614881  0.18861474 0.05250786\n",
      " 0.08327853] 誤差值: 7.217881055558106\n",
      "權重: [0.23283285 0.19348112 0.33629005 0.17830385 0.22663625 0.05250785\n",
      " 0.08327901] 誤差值: 3.8416381786119773\n",
      "權重: [0.23608067 0.19764361 0.39305849 0.18598747 0.28293284 0.05250782\n",
      " 0.08327982] 誤差值: 7.1288504187067465\n",
      "權重: [0.23343775 0.17020992 0.41281264 0.18473526 0.31705651 0.05250784\n",
      " 0.08327917] 誤差值: 7.399404679001718\n",
      "權重: [0.23283285 0.19348112 0.33629005 0.17830385 0.22663625 0.05250785\n",
      " 0.08327901] 誤差值: 5.8053412056598335\n",
      "權重: [0.23283285 0.19348112 0.33629005 0.17830385 0.22663625 0.05250785\n",
      " 0.08327901] 誤差值: 3.8416381514025137\n",
      "權重: [0.23283285 0.19348112 0.33629005 0.17830385 0.22663625 0.05250785\n",
      " 0.08327901] 誤差值: 3.8416381724600024\n",
      "權重: [0.23283285 0.19348112 0.33629005 0.17830385 0.22663625 0.05250785\n",
      " 0.08327901] 誤差值: 3.8416381539916085\n",
      "權重: [0.23283285 0.19348112 0.33629005 0.17830385 0.22663626 0.05250785\n",
      " 0.08327901] 誤差值: 3.8416381653756626\n",
      "權重: [0.23283285 0.19348112 0.33629005 0.17830385 0.22663625 0.05250785\n",
      " 0.08327901] 誤差值: 4.167802310942782\n",
      "權重: [0.23283285 0.19348112 0.33629005 0.17830385 0.22663625 0.05250785\n",
      " 0.08327901] 誤差值: 3.841634478229701\n",
      "權重: [0.23283285 0.19627402 0.34932427 0.18114273 0.23255423 0.05250784\n",
      " 0.08327952] 誤差值: 9.260061660900925\n",
      "權重: [0.23283284 0.19593587 0.34368915 0.17929902 0.23016914 0.05250784\n",
      " 0.08327903] 誤差值: 6.106683846896745\n",
      "權重: [0.23283285 0.19368591 0.33947282 0.17933508 0.22798624 0.05250785\n",
      " 0.08327888] 誤差值: 8.553080494908265\n",
      "權重: [0.23283285 0.19322053 0.33488991 0.17801503 0.22602406 0.05250785\n",
      " 0.08327907] 誤差值: 5.957728861593034\n",
      "[0.23283285 0.19348112 0.33629005 0.17830385 0.22663625 0.05250785\n",
      " 0.08327901]\n"
     ]
    }
   ],
   "source": [
    "a = list(range(0, 7))\n",
    "all_return = allgroup_top10_return.iloc[:,a]\n",
    "n = all_return.shape[1]\n",
    "#weight = [0.4,0.6]\n",
    "weight = [1/n]*n\n",
    "r2 = fsolve(bestweight, weight)\n",
    "print(r2)"
   ]
  }
 ],
 "metadata": {
  "kernelspec": {
   "display_name": "Python 3",
   "language": "python",
   "name": "python3"
  },
  "language_info": {
   "codemirror_mode": {
    "name": "ipython",
    "version": 3
   },
   "file_extension": ".py",
   "mimetype": "text/x-python",
   "name": "python",
   "nbconvert_exporter": "python",
   "pygments_lexer": "ipython3",
   "version": "3.6.8"
  }
 },
 "nbformat": 4,
 "nbformat_minor": 2
}
