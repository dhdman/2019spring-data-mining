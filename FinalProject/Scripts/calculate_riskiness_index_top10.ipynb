{
 "cells": [
  {
   "cell_type": "markdown",
   "metadata": {},
   "source": [
    "# 列舉所有資產的riskiness r"
   ]
  },
  {
   "cell_type": "code",
   "execution_count": 1,
   "metadata": {},
   "outputs": [],
   "source": [
    "import sympy\n",
    "from pandas import Series,DataFrame\n",
    "from scipy.optimize import fsolve\n",
    "import math\n",
    "import time\n",
    "import pandas as pd\n",
    "import numpy  as  np\n",
    "import os"
   ]
  },
  {
   "cell_type": "markdown",
   "metadata": {},
   "source": [
    "# 無風險利率\n",
    "* 我們須扣除無風險利率，得到超額報酬率以計算Riskiness r\n",
    "* 目前使用LIBOR [1個月利率](https://www.global-rates.com/interest-rates/libor/american-dollar/usd-libor-interest-rate-overnight.aspx)"
   ]
  },
  {
   "cell_type": "code",
   "execution_count": 2,
   "metadata": {
    "scrolled": false
   },
   "outputs": [
    {
     "data": {
      "text/plain": [
       "0.0020482083333333333"
      ]
     },
     "execution_count": 2,
     "metadata": {},
     "output_type": "execute_result"
    }
   ],
   "source": [
    "rfrate = 2.45785 / 12 /100\n",
    "rfrate"
   ]
  },
  {
   "cell_type": "markdown",
   "metadata": {},
   "source": [
    "# 關於超額報酬的數量級:\n",
    "* 將要帶入公式的數值調整到介在0-100間，目的是為了讓大部分的Riskiness r介在0-100間。"
   ]
  },
  {
   "cell_type": "code",
   "execution_count": 3,
   "metadata": {},
   "outputs": [],
   "source": [
    "def f1(x,arr_returns):\n",
    "    return sum( np.exp(-1*arr_returns/x) ) - len(arr_returns)"
   ]
  },
  {
   "cell_type": "code",
   "execution_count": 4,
   "metadata": {},
   "outputs": [],
   "source": [
    "def get_riskiness_r(guess , arr_returns):\n",
    "    while (guess<1000):\n",
    "        risk2 = fsolve(f1,guess,arr_returns)  #引用函數f1\n",
    "        if risk2[0] != guess:\n",
    "            break\n",
    "        guess = guess*10\n",
    "    return risk2[0]"
   ]
  },
  {
   "cell_type": "markdown",
   "metadata": {},
   "source": [
    "# 計算Riskiness R，並依照R值排序，傳回前十名的ETF"
   ]
  },
  {
   "cell_type": "code",
   "execution_count": 5,
   "metadata": {},
   "outputs": [],
   "source": [
    "def get_top10_etf(data_file):\n",
    "    # 讀檔\n",
    "    #data_file = '../../HW1/ETF_data_set/return_data/Alternatives ETF List (35)/Alternatives ETF List (35)_return.csv';\n",
    "    df = pd.read_csv(data_file)\n",
    "    etf_list = list(df.columns)[1:]\n",
    "    df = df.iloc[:,1:]\n",
    "    \n",
    "    # 計算每支ETF的riskiness r\n",
    "    etf_dic = {}\n",
    "    for etf_name in etf_list:\n",
    "        # 過濾平均值正負\n",
    "        #if df[etf_name].mean(axis=0) < 0:\n",
    "        #    continue\n",
    "        arr_returns = df[etf_name] - rfrate\n",
    "        #arr_returns = arr_returns*1000      #調整數量級\n",
    "        guess = 10**(-5)\n",
    "        #### 列出細項\n",
    "        #print('%s指標值:  %f' %(etf_name,risk2[0]) )\n",
    "        etf_dic[etf_name] = get_riskiness_r(guess,arr_returns)\n",
    "    \n",
    "    # ETF依照riskiness r排序\n",
    "    sorted_x = sorted(etf_dic.items(), key=lambda kv: kv[1])\n",
    "        #sorted_reversed_x = list(reversed(sorted_x))\n",
    "    \n",
    "    # 取前10名\n",
    "    top10 = sorted_x[:10]\n",
    "        # top10 = sorted_reversed_x[:10]\n",
    "    #print(top10)\n",
    "    \n",
    "    # 取前10的ETF名稱\n",
    "    etf_top10 = [etf[0] for etf in top10]\n",
    "    \n",
    "    #前10的平均\n",
    "    top10_average = df[etf_top10].mean(axis=1)\n",
    "    \n",
    "    #print(etf_top10)\n",
    "    return etf_top10 , top10_average"
   ]
  },
  {
   "cell_type": "markdown",
   "metadata": {},
   "source": [
    "# 讀取全部ETF資料夾"
   ]
  },
  {
   "cell_type": "code",
   "execution_count": 6,
   "metadata": {},
   "outputs": [
    {
     "name": "stderr",
     "output_type": "stream",
     "text": [
      "C:\\Users\\R\\Anaconda3\\lib\\site-packages\\scipy\\optimize\\minpack.py:163: RuntimeWarning: The iteration is not making good progress, as measured by the \n",
      "  improvement from the last ten iterations.\n",
      "  warnings.warn(msg, RuntimeWarning)\n",
      "C:\\Users\\R\\Anaconda3\\lib\\site-packages\\scipy\\optimize\\minpack.py:163: RuntimeWarning: The number of calls to function has reached maxfev = 400.\n",
      "  warnings.warn(msg, RuntimeWarning)\n"
     ]
    },
    {
     "name": "stdout",
     "output_type": "stream",
     "text": [
      "Group: Alternatives ETF List (35)\n",
      "Top10: ['MOM', 'RLY', 'CHEP', 'VAMO', 'FTLS', 'SIZ', 'QAI', 'WTMF', 'MCRO', 'HDG']\n",
      "================\n",
      "Group: Broad Asia ETF List (44)\n",
      "Top10: ['AXJL', 'IQDE', 'HEEM', 'DBAP', 'AIA', 'GEM', 'IEMG', 'EEMA', 'XSOE', 'AAXJ']\n",
      "================\n",
      "Group: Commodity ETF List (125)\n",
      "Top10: ['DBA', 'BCM', 'RJZ', 'DBB', 'UCI', 'RJI', 'FTGC', 'GCC', 'KOLD', 'BOIL']\n",
      "================\n",
      "Group: Consumer Discretionary Equity ETF List (31)\n",
      "Top10: ['RETL', 'FDIS', 'IYC', 'VCR', 'XLY', 'RTH', 'INCO', 'RXI', 'PSCD', 'UCC']\n",
      "================\n",
      "Group: Consumer Staples Equity ETF List (26)\n",
      "Top10: ['WBIE', 'PSL', 'PSCC', 'VDC', 'EMCG', 'FSTA', 'RHS', 'KXI', 'IYK', 'UGE']\n",
      "================\n",
      "Group: Crude Oil ETF List (22)\n",
      "Top10: ['UCO', 'DTO', 'SCO', 'USL', 'SZO', 'OLEM', 'OLO', 'DBO', 'USO']\n",
      "================\n",
      "Group: Currency ETF List (36)\n",
      "Top10: ['FXCH', 'FXS', 'FXA', 'CEW', 'DBV', 'FXC', 'EUFX', 'USDU', 'UUP', 'FXF']\n",
      "================\n",
      "Group: Developed Asia Pacific ETF List (108)\n",
      "Top10: ['DOL', 'JPMV', 'EWV', 'DVYA', 'DTH', 'IDOG', 'DOO', 'JPNL', 'ENZL', 'HEWJ']\n",
      "================\n",
      "Group: Developed Markets ETF List 1 (100)\n",
      "Top10: ['GII', 'JXI', 'WDIV', 'DOL', 'GUNR', 'ACWV', 'HDEF', 'DTH', 'IDOG', 'IDLV']\n",
      "================\n",
      "Group: Developed Markets ETF List 2 (100)\n",
      "Top10: ['EFZ', 'CID', 'LVL', 'EUMV', 'IQDE', 'HDAW', 'DOO', 'GRES', 'JDST', 'DUST']\n",
      "================\n",
      "Group: Developed Markets ETF List 3 (93)\n",
      "Top10: ['FTRI', 'YLCO', 'GDXS', 'FTAG', 'ROGS', 'GSD', 'TLDH', 'ISZE', 'CROP', 'HGSD']\n",
      "================\n",
      "Group: Emerging Asia Pacific ETF List (114)\n",
      "Top10: ['VWO', 'ADRE', 'EWM', 'FEM', 'XCEM', 'ASEA', 'EDIV', 'IDX', 'EUM', 'CNHX']\n",
      "================\n",
      "Group: Emerging Markets ETF List (79)\n",
      "Top10: ['BICK', 'DVYE', 'ADRE', 'TLEH', 'JPEM', 'EELV', 'PXH', 'FNDE', 'EDIV', 'SPEM']\n",
      "================\n",
      "Group: Energy Equity ETF List (80)\n",
      "Top10: ['GUSH', 'GASL', 'DRIP', 'KOL', 'NLR', 'CRAK', 'PZD', 'YLCO', 'FILL', 'GRID']\n",
      "================\n",
      "Group: Financials Equity ETF List (51)\n",
      "Top10: ['VQT', 'PHDG', 'UYG', 'DPST', 'FINZ', 'FINU', 'FAS', 'KBWP', 'KIE', 'XLF']\n",
      "================\n",
      "Group: Global ETF List (72)\n",
      "Top10: ['EMFM', 'TLEH', 'FM', 'SIL', 'GDXJ', 'JDST', 'EDC', 'FLN', 'SLVP', 'DBAW']\n",
      "================\n",
      "Group: Gold ETF List (17)\n",
      "Top10: ['DGLD', 'IAU', 'OUNZ', 'SGOL', 'GLD', 'UBG', 'DGL', 'DGP', 'UGLD', 'DGZ']\n",
      "================\n",
      "Group: Healthcare Equity ETF List (49)\n",
      "Top10: ['LABU', 'IBB', 'UBIO', 'BIB', 'BBC', 'ZBIO', 'XBI', 'IHI', 'XHE', 'IYH']\n",
      "================\n",
      "Group: Industrials Equity ETF List (37)\n",
      "Top10: ['SIJ', 'CGW', 'FIW', 'EVX', 'PHO', 'PIO', 'IYJ', 'RGI', 'EXI', 'FIDU']\n",
      "================\n",
      "Group: Investment Grade Corporate ETF List (50)\n",
      "Top10: ['SKOR', 'LDRI', 'SLQD', 'IGSB', 'VCSH', 'LKOR', 'IGLB', 'IGIH', 'VCLT', 'SPLB']\n",
      "================\n",
      "Group: Junk ETF List (43)\n",
      "Top10: ['HYND', 'HYHG', 'HYGH', 'HYZD', 'HYIH', 'HYLD', 'CJNK', 'SJB', 'HYLS', 'JNK']\n",
      "================\n",
      "Group: Materials Equity ETF List (62)\n",
      "Top10: ['GUNR', 'GRES', 'JDST', 'DUST', 'GDXS', 'JNUG', 'HOML', 'NAIL', 'GDXX', 'MOO']\n",
      "================\n",
      "Group: Municipal Bond ETF List (29)\n",
      "Top10: ['MEAR', 'SHYD', 'ITM', 'PVI', 'PZA', 'TFI', 'MUB', 'VTEB', 'SMB', 'RVNU']\n",
      "================\n",
      "Group: Preferred Stock ETF List (12)\n",
      "Top10: ['PSK', 'PGF', 'PFXF', 'PFF', 'FPE', 'SPFF', 'IPFF']\n",
      "================\n",
      "Group: Real Estate ETF List (48)\n",
      "Top10: ['RWX', 'IFGL', 'FFR', 'WPS', 'REM', 'SRET', 'MORT', 'DRW', 'MORL', 'MRRL']\n",
      "================\n",
      "Group: Target Maturity Date Corporate Bond ETF List (24)\n",
      "Top10: ['BSCP', 'IBDP', 'IBDQ', 'BSCO', 'IBDD', 'IBDO', 'IBDC', 'IBCD', 'IBCE', 'BSCN']\n",
      "================\n",
      "Group: Technology Equity ETF List (75)\n",
      "Top10: ['USD', 'SSG', 'SOXL', 'XNTK', 'SKYY', 'IGV', 'VGT', 'XLK', 'RYT', 'PSJ']\n",
      "================\n",
      "Group: Telecom Equity ETF List (10)\n",
      "Top10: ['ERUS', 'FONE', 'FCOM', 'XTL', 'IYZ', 'LTL', 'VOX', 'IXP']\n",
      "================\n",
      "Group: Total Bond Market ETF List (82)\n",
      "Top10: ['FTSD', 'LDUR', 'RAVI', 'MINT', 'NEAR', 'ULST', 'XMPT', 'BLV', 'ILTB', 'BIV']\n",
      "================\n",
      "Group: Treasuries ETF List (51)\n",
      "Top10: ['SCHO', 'VGSH', 'SHY', 'TUZ', 'TYBS', 'ZROZ', 'UBT', 'EDV', 'RISE', 'TYD']\n",
      "================\n",
      "Group: Utilities Equity ETF List (24)\n",
      "Top10: ['FXU', 'GII', 'JXI', 'WBIC', 'VPU', 'IDU', 'UTES', 'FUTY', 'PUI', 'XLU']\n",
      "================\n",
      "Group: Volatility ETF List (18)\n",
      "Top10: ['UVXY', 'VIXY', 'ZIV', 'SVXY', 'TVIX', 'VIIX', 'XVZ', 'VIXM']\n",
      "================\n"
     ]
    }
   ],
   "source": [
    "data_path = '../../HW1/ETF_data_set/return_data/'\n",
    "allgroup_top10_return = DataFrame()\n",
    "for subdir in os.listdir(data_path):\n",
    "    subdir_path = os.path.join(data_path, subdir)\n",
    "    if os.path.exists(subdir_path) and os.path.isdir(subdir_path):\n",
    "        file = subdir + '_return.csv'\n",
    "        file_path = os.path.join(subdir_path, file)\n",
    "        #print(file_path)\n",
    "        if os.path.isfile(file_path):\n",
    "            # 提出[前10名的名稱,前10名的平均各期報酬]\n",
    "            [ top10_etf,allgroup_top10_return[subdir] ] = get_top10_etf(file_path)\n",
    "            print('Group:',subdir)\n",
    "            print('Top10:',top10_etf)\n",
    "            print('================')"
   ]
  },
  {
   "cell_type": "code",
   "execution_count": 15,
   "metadata": {},
   "outputs": [
    {
     "data": {
      "text/plain": [
       "0    -0.014848\n",
       "1     0.004294\n",
       "2     0.017014\n",
       "3     0.001131\n",
       "4    -0.004865\n",
       "5     0.000849\n",
       "6     0.010138\n",
       "7    -0.004461\n",
       "8     0.006556\n",
       "9    -0.009867\n",
       "10    0.015666\n",
       "11    0.005291\n",
       "12   -0.003252\n",
       "13    0.004224\n",
       "14   -0.006747\n",
       "15    0.000585\n",
       "16   -0.005576\n",
       "17    0.002532\n",
       "18    0.007081\n",
       "19    0.000081\n",
       "20    0.013821\n",
       "21    0.007662\n",
       "22    0.004123\n",
       "23    0.010876\n",
       "24    0.017250\n",
       "25   -0.020208\n",
       "26   -0.006661\n",
       "27    0.010356\n",
       "28    0.009172\n",
       "29   -0.013563\n",
       "30    0.007572\n",
       "31    0.005089\n",
       "32   -0.006795\n",
       "33   -0.035729\n",
       "34   -0.001529\n",
       "35   -0.034942\n",
       "Name: Alternatives ETF List (35), dtype: float64"
      ]
     },
     "execution_count": 15,
     "metadata": {},
     "output_type": "execute_result"
    }
   ],
   "source": [
    "allgroup_top10_return.iloc[:,0]"
   ]
  },
  {
   "cell_type": "code",
   "execution_count": 14,
   "metadata": {},
   "outputs": [
    {
     "data": {
      "text/plain": [
       "0.2609026919793188"
      ]
     },
     "execution_count": 14,
     "metadata": {},
     "output_type": "execute_result"
    }
   ],
   "source": [
    "x = allgroup_top10_return.iloc[:,0]\n",
    "def f(x):\n",
    "    return sum(x)\n",
    "f(x)"
   ]
  }
 ],
 "metadata": {
  "kernelspec": {
   "display_name": "Python 3",
   "language": "python",
   "name": "python3"
  },
  "language_info": {
   "codemirror_mode": {
    "name": "ipython",
    "version": 3
   },
   "file_extension": ".py",
   "mimetype": "text/x-python",
   "name": "python",
   "nbconvert_exporter": "python",
   "pygments_lexer": "ipython3",
   "version": "3.6.5"
  }
 },
 "nbformat": 4,
 "nbformat_minor": 2
}
