{
 "cells": [
  {
   "cell_type": "markdown",
   "metadata": {},
   "source": [
    "# 測試報酬率分布約在何種水位時，能將riskiness r的數值控制在合理的水位\n",
    "* 平均報酬要為正\n",
    "* 報酬值不能所有皆為正\n",
    "* 如果試算平均期望值來看，在r小的時候期望值超過1(原本報酬是負的)的資產，通常是較差的資產。然後圖形會隨著r值上升而變小，最後趨近於1\n",
    "* 若是隨著r值增加而增加的，通常都是較好的資產，可以一開始都全部再向負的地方平移。"
   ]
  },
  {
   "cell_type": "code",
   "execution_count": 1,
   "metadata": {},
   "outputs": [],
   "source": [
    "import sympy\n",
    "import math\n",
    "from scipy.optimize import fsolve\n",
    "import time\n",
    "import numpy as np\n",
    "import matplotlib.pyplot as plt"
   ]
  },
  {
   "cell_type": "code",
   "execution_count": 2,
   "metadata": {},
   "outputs": [
    {
     "data": {
      "text/plain": [
       "array([ 70., -10.,  20.,  30.])"
      ]
     },
     "execution_count": 2,
     "metadata": {},
     "output_type": "execute_result"
    }
   ],
   "source": [
    "# test data\n",
    "#arr_returns = [0.01, 0.02, -0.01, 0.02, 0.04, 0.03, 0.015, 0.01, 0.02, 0.03]\n",
    "arr_returns = 1000*np.array([0.07, -0.01,0.02,0.03])\n",
    "arr_returns"
   ]
  },
  {
   "cell_type": "markdown",
   "metadata": {},
   "source": [
    "### 方法一：用sympy的solve"
   ]
  },
  {
   "cell_type": "raw",
   "metadata": {},
   "source": [
    "def calRiskiness(arr_returns):\n",
    "    x = sympy.symbols('x')\n",
    "    s = -1 * len(arr_returns)\n",
    "    for r in arr_returns:\n",
    "        s = s + sympy.exp(-1*r/x)\n",
    "    return sympy.solve(s,x)"
   ]
  },
  {
   "cell_type": "raw",
   "metadata": {},
   "source": [
    "start_time = time.time()\n",
    "risk = calRiskiness(arr_returns)\n",
    "end_time = time.time()\n",
    "print(\"--- %s seconds ---\" % (end_time - start_time))\n",
    "print(risk)"
   ]
  },
  {
   "cell_type": "markdown",
   "metadata": {},
   "source": [
    "### 方法二：用scipy的fsolve"
   ]
  },
  {
   "cell_type": "code",
   "execution_count": 3,
   "metadata": {},
   "outputs": [
    {
     "name": "stdout",
     "output_type": "stream",
     "text": [
      "[7.32266026]\n"
     ]
    }
   ],
   "source": [
    "\n",
    "arr_ret = np.array(arr_returns)\n",
    "def f1(x):\n",
    "    #return math.exp(-1*arr_returns[0]/x) + math.exp(-1*arr_returns[1]/x) + math.exp(-1*arr_returns[2]/x) - 3\n",
    "    return sum( np.exp(-1*arr_ret/x) ) - len(arr_ret)\n",
    "guess = 10**(-1)\n",
    "risk2 = fsolve(f1,guess)\n",
    "print(risk2)"
   ]
  },
  {
   "cell_type": "markdown",
   "metadata": {},
   "source": [
    "### 驗算"
   ]
  },
  {
   "cell_type": "raw",
   "metadata": {},
   "source": [
    "r1 = arr_returns[0]\n",
    "r2 = arr_returns[1]\n",
    "r3 = arr_returns[2]\n",
    "\n",
    "e1 = (math.exp(-1*r1/risk[0]) + math.exp(-1*r2/risk[0]) + math.exp(-1*r3/risk[0]))/3\n",
    "e2 = (math.exp(-1*r1/risk2) + math.exp(-1*r2/risk2) + math.exp(-1*r3/risk2))/3\n",
    "print(e1)\n",
    "print(e2)"
   ]
  },
  {
   "cell_type": "markdown",
   "metadata": {},
   "source": [
    "# 畫圖測試"
   ]
  },
  {
   "cell_type": "code",
   "execution_count": 4,
   "metadata": {},
   "outputs": [
    {
     "name": "stdout",
     "output_type": "stream",
     "text": [
      "[  0.          11.11111111  22.22222222  33.33333333  44.44444444\n",
      "  55.55555556  66.66666667  77.77777778  88.88888889 100.        ]\n",
      "[inf, -1.306056183104685, -1.7230257672563, -1.5723034683363895, -1.3938851588976604, -1.2387040319333984, -1.1097816358570705, -1.0030051790465486, -0.9138787229031662, -0.8386948043732434]\n"
     ]
    },
    {
     "name": "stderr",
     "output_type": "stream",
     "text": [
      "C:\\Users\\R\\Anaconda3\\lib\\site-packages\\ipykernel_launcher.py:5: RuntimeWarning: divide by zero encountered in true_divide\n",
      "  \"\"\"\n"
     ]
    },
    {
     "data": {
      "text/plain": [
       "[<matplotlib.lines.Line2D at 0x17e25ebd198>]"
      ]
     },
     "execution_count": 4,
     "metadata": {},
     "output_type": "execute_result"
    },
    {
     "data": {
      "image/png": "[encoded data removed]",
      "text/plain": [
       "<Figure size 432x288 with 1 Axes>"
      ]
     },
     "metadata": {},
     "output_type": "display_data"
    }
   ],
   "source": [
    "\n",
    "x = np.linspace(0,100,10)\n",
    "y = [f1(a) for a in x]\n",
    "print(x)\n",
    "print(y)\n",
    "plt.plot(x,y)"
   ]
  },
  {
   "cell_type": "markdown",
   "metadata": {},
   "source": [
    "# 測試"
   ]
  },
  {
   "cell_type": "raw",
   "metadata": {},
   "source": [
    "a = [1,2,3]\n",
    "a = np.array(a)\n",
    "b = a * 3\n",
    "sum(np.exp(-1*a/4))\n",
    "np.exp(-1*arr_ret/5)"
   ]
  },
  {
   "cell_type": "code",
   "execution_count": 5,
   "metadata": {},
   "outputs": [
    {
     "data": {
      "text/plain": [
       "inf"
      ]
     },
     "execution_count": 5,
     "metadata": {},
     "output_type": "execute_result"
    }
   ],
   "source": [
    "f1(10**(-6))"
   ]
  },
  {
   "cell_type": "code",
   "execution_count": 6,
   "metadata": {},
   "outputs": [
    {
     "data": {
      "text/plain": [
       "[inf,\n",
       " -1.306056183104685,\n",
       " -1.7230257672563,\n",
       " -1.5723034683363895,\n",
       " -1.3938851588976604,\n",
       " -1.2387040319333984,\n",
       " -1.1097816358570705,\n",
       " -1.0030051790465486,\n",
       " -0.9138787229031662,\n",
       " -0.8386948043732434]"
      ]
     },
     "execution_count": 6,
     "metadata": {},
     "output_type": "execute_result"
    }
   ],
   "source": [
    "y"
   ]
  },
  {
   "cell_type": "code",
   "execution_count": null,
   "metadata": {},
   "outputs": [],
   "source": []
  }
 ],
 "metadata": {
  "kernelspec": {
   "display_name": "Python 3",
   "language": "python",
   "name": "python3"
  },
  "language_info": {
   "codemirror_mode": {
    "name": "ipython",
    "version": 3
   },
   "file_extension": ".py",
   "mimetype": "text/x-python",
   "name": "python",
   "nbconvert_exporter": "python",
   "pygments_lexer": "ipython3",
   "version": "3.6.5"
  }
 },
 "nbformat": 4,
 "nbformat_minor": 2
}
