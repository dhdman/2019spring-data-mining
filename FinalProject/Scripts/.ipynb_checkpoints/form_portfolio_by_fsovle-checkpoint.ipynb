{
 "cells": [
  {
   "cell_type": "code",
   "execution_count": 1,
   "metadata": {},
   "outputs": [],
   "source": [
    "import numpy as np\n",
    "import pandas as pd\n",
    "import math\n",
    "from scipy.optimize import fsolve"
   ]
  },
  {
   "cell_type": "markdown",
   "metadata": {},
   "source": [
    "# 測試的"
   ]
  },
  {
   "cell_type": "code",
   "execution_count": 2,
   "metadata": {},
   "outputs": [
    {
     "name": "stdout",
     "output_type": "stream",
     "text": [
      "[-99.9 -99.9]\n"
     ]
    },
    {
     "name": "stderr",
     "output_type": "stream",
     "text": [
      "C:\\Users\\R\\Anaconda3\\lib\\site-packages\\scipy\\optimize\\minpack.py:163: RuntimeWarning: The iteration is not making good progress, as measured by the \n",
      "  improvement from the last ten iterations.\n",
      "  warnings.warn(msg, RuntimeWarning)\n"
     ]
    }
   ],
   "source": [
    "def f(x):\n",
    "    return x + 1000\n",
    " \n",
    "def g(y):\n",
    "    return y * 3\n",
    "\n",
    "def bestweight_pre(w):\n",
    "    w0 = w[0]\n",
    "    w1 = w[1]\n",
    "    return [\n",
    "        f(w0) + 3*g(w0) - 1,\n",
    "        f(w1) + 3*g(w1) - 1\n",
    "    ]\n",
    "\n",
    "r = fsolve(bestweight_pre, [0,0])\n",
    "print(r)"
   ]
  },
  {
   "cell_type": "markdown",
   "metadata": {},
   "source": [
    "# 開發中的"
   ]
  },
  {
   "cell_type": "code",
   "execution_count": 3,
   "metadata": {
    "scrolled": false
   },
   "outputs": [],
   "source": [
    "def risk(x):\n",
    "    return np.var(x)\n",
    "\n",
    "def sumrisk(weight,all_return):\n",
    "    w = weight\n",
    "    a = all_return\n",
    "    portreturn = np.dot(np.array(all_return),np.array(weight))\n",
    "    return risk(portreturn)\n",
    "\n",
    "# 這是原本峻安要的輸出的內容，是以4個weight值為例\n",
    "def bestweight_sample(w):\n",
    "    return [\n",
    "        risk(w[0]*all_return.iloc[:,0]) - np.mean(all_return.iloc[:,0])*sumrisk(w,all_return) - np.mean(all_return.iloc[:,0]*w[0]) , \n",
    "        risk(w[1]*all_return.iloc[:,1]) - np.mean(all_return.iloc[:,1])*sumrisk(w,all_return) - np.mean(all_return.iloc[:,1]*w[1]) , \n",
    "        risk(w[2]*all_return.iloc[:,2]) - np.mean(all_return.iloc[:,2])*sumrisk(w,all_return) - np.mean(all_return.iloc[:,2]*w[2]) , \n",
    "        risk(w[3]*all_return.iloc[:,3]) - np.mean(all_return.iloc[:,3])*sumrisk(w,all_return) - np.mean(all_return.iloc[:,3]*w[3])\n",
    "    ]\n",
    "\n",
    "# 比較好的寫法，沒有限制weight的數量(亦即ETF的支數)\n",
    "def bestweight(w):\n",
    "    r = []\n",
    "    for i in range(len(w)):\n",
    "        v = risk(w[i]*all_return.iloc[:,i]) - np.mean(all_return.iloc[:,i])*sumrisk(w,all_return) - np.mean(all_return.iloc[:,i]*w[i])\n",
    "        r.append(v)\n",
    "    return r"
   ]
  },
  {
   "cell_type": "code",
   "execution_count": 4,
   "metadata": {},
   "outputs": [
    {
     "name": "stdout",
     "output_type": "stream",
     "text": [
      "(5, 4)\n",
      "[1.5e-323 0.0e+000 0.0e+000 4.9e-324]\n",
      "[1.5e-323 0.0e+000 0.0e+000 4.9e-324]\n"
     ]
    }
   ],
   "source": [
    "d1 = [-0.1,0.2,0.3,0.4]\n",
    "d2 = [0.1,-0.2,-0.3,0.4]\n",
    "d3 = [-0.1,0.3,0.4,0.5]\n",
    "d4 = [-0.2,-0.4,0.5,0.6]\n",
    "d5 = [-0.2,-0.4,0.6,0.8]\n",
    "\n",
    "all_return = pd.DataFrame([d1,d2,d3,d4,d5])\n",
    "print(all_return.shape)\n",
    "\n",
    "weight = [0.1,0.2,0.2,0.5]\n",
    "\n",
    "r1 = fsolve(bestweight_sample, [0.1,0.2,0.2,0.5])\n",
    "print(r1)\n",
    "\n",
    "r2 = fsolve(bestweight, [0.1,0.2,0.2,0.5])\n",
    "print(r2)"
   ]
  },
  {
   "cell_type": "code",
   "execution_count": null,
   "metadata": {},
   "outputs": [],
   "source": []
  }
 ],
 "metadata": {
  "kernelspec": {
   "display_name": "Python 3",
   "language": "python",
   "name": "python3"
  },
  "language_info": {
   "codemirror_mode": {
    "name": "ipython",
    "version": 3
   },
   "file_extension": ".py",
   "mimetype": "text/x-python",
   "name": "python",
   "nbconvert_exporter": "python",
   "pygments_lexer": "ipython3",
   "version": "3.6.5"
  }
 },
 "nbformat": 4,
 "nbformat_minor": 2
}
