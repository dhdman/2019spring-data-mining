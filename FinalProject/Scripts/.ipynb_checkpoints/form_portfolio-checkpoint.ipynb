{
 "cells": [
  {
   "cell_type": "markdown",
   "metadata": {},
   "source": [
    "# 組合的系統風險測度B值\n",
    "<img src=\"./sysB.jpg\">"
   ]
  },
  {
   "cell_type": "markdown",
   "metadata": {},
   "source": [
    "[多因子模型公式](https://wiki.mbalib.com/zh-tw/APT%E6%A8%A1%E5%9E%8B)"
   ]
  },
  {
   "cell_type": "markdown",
   "metadata": {},
   "source": [
    "參數說明:\n",
    "* alpha是各個資產的分配比例\n"
   ]
  },
  {
   "cell_type": "code",
   "execution_count": 1,
   "metadata": {},
   "outputs": [],
   "source": [
    "import numpy  as  np\n",
    "import math"
   ]
  },
  {
   "cell_type": "code",
   "execution_count": 2,
   "metadata": {},
   "outputs": [
    {
     "ename": "SyntaxError",
     "evalue": "invalid syntax (<ipython-input-2-2cf213067acd>, line 2)",
     "output_type": "error",
     "traceback": [
      "\u001b[1;36m  File \u001b[1;32m\"<ipython-input-2-2cf213067acd>\"\u001b[1;36m, line \u001b[1;32m2\u001b[0m\n\u001b[1;33m    np.mean(np.exp()*) / np.mean()\u001b[0m\n\u001b[1;37m                     ^\u001b[0m\n\u001b[1;31mSyntaxError\u001b[0m\u001b[1;31m:\u001b[0m invalid syntax\n"
     ]
    }
   ],
   "source": [
    "def sysBrisk(alpha,i):\n",
    "    np.mean(np.exp()*) / np.mean()"
   ]
  },
  {
   "cell_type": "code",
   "execution_count": null,
   "metadata": {},
   "outputs": [],
   "source": [
    "def extend_get_top10_etf(data_file):\n",
    "    # 讀檔\n",
    "    #data_file = '../../HW1/ETF_data_set/return_data/Alternatives ETF List (35)/Alternatives ETF List (35)_return.csv';\n",
    "    df = pd.read_csv(data_file)\n",
    "    etf_list = list(df.columns)[1:]\n",
    "    df = df.iloc[:,1:]\n",
    "    \n",
    "    # 計算每支ETF的riskiness r\n",
    "    etf_dic = {}\n",
    "    for etf_name in etf_list:\n",
    "        # 過濾平均值正負\n",
    "        #if df[etf_name].mean(axis=0) < 0:\n",
    "        #    continue\n",
    "        arr_returns = df[etf_name] - rfrate\n",
    "        #arr_returns = arr_returns*1000      #調整數量級\n",
    "        guess = 10**(-5)\n",
    "        while (guess<1000):\n",
    "            risk2 = fsolve(f1,guess,arr_returns)\n",
    "            if risk2[0] != guess:\n",
    "                break\n",
    "            guess = guess*10\n",
    "        #### 列出細項\n",
    "        #print('%s指標值:  %f' %(etf_name,risk2[0]) )\n",
    "        etf_dic[etf_name] = risk2[0]\n",
    "    \n",
    "    # ETF依照riskiness r排序\n",
    "    sorted_x = sorted(etf_dic.items(), key=lambda kv: kv[1])\n",
    "        #sorted_reversed_x = list(reversed(sorted_x))\n",
    "    \n",
    "    # 取前10名\n",
    "    top10 = sorted_x[:10]\n",
    "        # top10 = sorted_reversed_x[:10]\n",
    "    #print(top10)\n",
    "    \n",
    "    # 取前10的ETF名稱\n",
    "    etf_top10 = [etf[0] for etf in top10]\n",
    "    #print(etf_top10)\n",
    "    return etf_top10"
   ]
  },
  {
   "cell_type": "markdown",
   "metadata": {},
   "source": [
    "# 求解最佳組合\n",
    "* 個別指標 / 總和指標 = 個別報酬 / 投組報酬\n",
    "* 共n條方程式\n"
   ]
  },
  {
   "cell_type": "code",
   "execution_count": null,
   "metadata": {},
   "outputs": [],
   "source": [
    "from scipy.optimize import fsolve\n",
    "\n",
    "def bestweight(alpha):\n",
    "    a = alpha\n",
    "    formula = []\n",
    "    for i in range(len(a)):\n",
    "        addline = ['R(i)/R()']\n",
    "        formula.append(addline)\n",
    "    return formula"
   ]
  },
  {
   "cell_type": "code",
   "execution_count": null,
   "metadata": {},
   "outputs": [],
   "source": [
    "li=[]\n",
    "i = 2\n",
    "li.append('i%dam'%i) \n",
    "li.append(2) \n",
    "li"
   ]
  },
  {
   "cell_type": "code",
   "execution_count": null,
   "metadata": {},
   "outputs": [],
   "source": [
    "i = 2\n",
    "a = ['ri%d(''123456'')am'%i]\n",
    "a"
   ]
  },
  {
   "cell_type": "code",
   "execution_count": 11,
   "metadata": {},
   "outputs": [
    {
     "name": "stdout",
     "output_type": "stream",
     "text": [
      "[ -99998.25 -100000.25]\n"
     ]
    }
   ],
   "source": [
    "from scipy.optimize import fsolve\n",
    "\n",
    "def f(x):\n",
    "    return  x+100000\n",
    " \n",
    "\n",
    "def bestweight(x):\n",
    "    return [ f(x[0]) + 3*f(x[1]) - 1,f(x[0]) - 5*f(x[1]) -3]\n",
    " \n",
    "\n",
    "r = fsolve(bestweight, [0,0])\n",
    "print(r)"
   ]
  }
 ],
 "metadata": {
  "kernelspec": {
   "display_name": "Python 3",
   "language": "python",
   "name": "python3"
  },
  "language_info": {
   "codemirror_mode": {
    "name": "ipython",
    "version": 3
   },
   "file_extension": ".py",
   "mimetype": "text/x-python",
   "name": "python",
   "nbconvert_exporter": "python",
   "pygments_lexer": "ipython3",
   "version": "3.6.8"
  }
 },
 "nbformat": 4,
 "nbformat_minor": 2
}
