{
 "cells": [
  {
   "cell_type": "code",
   "execution_count": 1,
   "metadata": {},
   "outputs": [],
   "source": [
    "import numpy as np\n",
    "import pandas as pd\n",
    "import math\n",
    "from scipy.optimize import fsolve"
   ]
  },
  {
   "cell_type": "markdown",
   "metadata": {},
   "source": [
    "# 測試的"
   ]
  },
  {
   "cell_type": "code",
   "execution_count": 2,
   "metadata": {},
   "outputs": [
    {
     "name": "stdout",
     "output_type": "stream",
     "text": [
      "[-99.9 -99.9]\n"
     ]
    },
    {
     "name": "stderr",
     "output_type": "stream",
     "text": [
      "C:\\Users\\R\\Anaconda3\\lib\\site-packages\\scipy\\optimize\\minpack.py:163: RuntimeWarning: The iteration is not making good progress, as measured by the \n",
      "  improvement from the last ten iterations.\n",
      "  warnings.warn(msg, RuntimeWarning)\n"
     ]
    }
   ],
   "source": [
    "def f(x):\n",
    "    return x + 1000\n",
    " \n",
    "def g(y):\n",
    "    return y * 3\n",
    "\n",
    "def bestweight_pre(w):\n",
    "    w0 = w[0]\n",
    "    w1 = w[1]\n",
    "    return [\n",
    "        f(w0) + 3*g(w0) - 1,\n",
    "        f(w1) + 3*g(w1) - 1\n",
    "    ]\n",
    "\n",
    "r = fsolve(bestweight_pre, [0,0])\n",
    "print(r)"
   ]
  },
  {
   "cell_type": "markdown",
   "metadata": {},
   "source": [
    "# 開發中的"
   ]
  },
  {
   "cell_type": "code",
   "execution_count": 3,
   "metadata": {},
   "outputs": [],
   "source": [
    "def f1(x,arr_returns):\n",
    "    arr_returns - rfrate \n",
    "    return sum( np.exp(-1*arr_returns/x) ) - len(arr_returns)\n",
    "def get_riskiness_r(arr_returns):\n",
    "    guess  = 10**(-5)\n",
    "    while (guess<1000):\n",
    "        risk2 = fsolve(f1,guess,arr_returns)  #引用函數f1\n",
    "        if risk2[0] != guess:\n",
    "            break\n",
    "        guess = guess*10\n",
    "    return risk2[0]"
   ]
  },
  {
   "cell_type": "code",
   "execution_count": 55,
   "metadata": {
    "scrolled": false
   },
   "outputs": [],
   "source": [
    "def risk(x):\n",
    "    guess  = 10**(-5)\n",
    "    while (guess<1000):\n",
    "        risk2 = fsolve(f1,guess,x)  #引用函數f1\n",
    "        if risk2[0] != guess:\n",
    "            break\n",
    "        guess = guess*10\n",
    "    return risk2[0]\n",
    "    #return np.std(x)\n",
    "\n",
    "def finalrisk(weight,all_return):\n",
    "    w = weight\n",
    "    a = all_return\n",
    "    portreturn = np.dot(np.array(all_return),np.array(weight).T)\n",
    "    return risk(portreturn)\n",
    "\n",
    "def sumrisk(weight,all_return):\n",
    "    w = weight\n",
    "    a = all_return\n",
    "    v = 0\n",
    "    for i in range(len(w)):\n",
    "        v = v + w[i]*risk(w[i]*(all_return.iloc[:,i]))\n",
    "    return v\n",
    "\n",
    "def portretmean(weight,all_return):\n",
    "    w = weight\n",
    "    a = all_return\n",
    "    return np.mean(np.dot(np.array(all_return),np.array(weight)))\n",
    "\n",
    "# 這是原本峻安要的輸出的內容，是以4個weight值為例\n",
    "def bestweight_sample(w):\n",
    "    return [\n",
    "        risk(w[0]*all_return.iloc[:,0]) - np.mean(all_return.iloc[:,0])*sumrisk(w,all_return) - np.mean(all_return.iloc[:,0]*w[0]) , \n",
    "        risk(w[1]*all_return.iloc[:,1]) - np.mean(all_return.iloc[:,1])*sumrisk(w,all_return) - np.mean(all_return.iloc[:,1]*w[1]) , \n",
    "        risk(w[2]*all_return.iloc[:,2]) - np.mean(all_return.iloc[:,2])*sumrisk(w,all_return) - np.mean(all_return.iloc[:,2]*w[2]) , \n",
    "        risk(w[3]*all_return.iloc[:,3]) - np.mean(all_return.iloc[:,3])*sumrisk(w,all_return) - np.mean(all_return.iloc[:,3]*w[3])\n",
    "    ]\n",
    "\n",
    "\n",
    "\n",
    "# 比較好的寫法，沒有限制weight的數量(亦即ETF的支數)\n",
    "def bestweight(w):\n",
    "    r = []\n",
    "    restrict = sum(w) - 1\n",
    "    r.append(restrict)\n",
    "    for i in range(len(w)-1):\n",
    "        v =(risk(w[i]*all_return.iloc[:,i]) \\\n",
    "            - (np.mean(all_return.iloc[:,i])-rfrate)*sumrisk(w,all_return) \\\n",
    "            - (np.mean(all_return.iloc[:,i]*w[i])-rfrate) )**4 \\\n",
    "            + (risk(w[i+1]*all_return.iloc[:,i+1]) \\\n",
    "            - (np.mean(all_return.iloc[:,i-1])-rfrate)*sumrisk(w,all_return) \\\n",
    "            - (np.mean(all_return.iloc[:,i+1]*w[i+1])-rfrate) )**4\n",
    "        r.append(v) \n",
    "    return r"
   ]
  },
  {
   "cell_type": "code",
   "execution_count": 5,
   "metadata": {
    "scrolled": true
   },
   "outputs": [
    {
     "name": "stdout",
     "output_type": "stream",
     "text": [
      "(4, 5)\n"
     ]
    },
    {
     "name": "stderr",
     "output_type": "stream",
     "text": [
      "C:\\Users\\R\\Anaconda3\\lib\\site-packages\\scipy\\optimize\\minpack.py:163: RuntimeWarning: The iteration is not making good progress, as measured by the \n",
      "  improvement from the last ten iterations.\n",
      "  warnings.warn(msg, RuntimeWarning)\n",
      "C:\\Users\\R\\Anaconda3\\lib\\site-packages\\scipy\\optimize\\minpack.py:163: RuntimeWarning: The number of calls to function has reached maxfev = 400.\n",
      "  warnings.warn(msg, RuntimeWarning)\n"
     ]
    },
    {
     "name": "stdout",
     "output_type": "stream",
     "text": [
      "[ 0.95666164 -0.47393711  0.22511148  0.39228776 -0.10012371]\n"
     ]
    },
    {
     "data": {
      "text/html": [
       "<div>\n",
       "<style scoped>\n",
       "    .dataframe tbody tr th:only-of-type {\n",
       "        vertical-align: middle;\n",
       "    }\n",
       "\n",
       "    .dataframe tbody tr th {\n",
       "        vertical-align: top;\n",
       "    }\n",
       "\n",
       "    .dataframe thead th {\n",
       "        text-align: right;\n",
       "    }\n",
       "</style>\n",
       "<table border=\"1\" class=\"dataframe\">\n",
       "  <thead>\n",
       "    <tr style=\"text-align: right;\">\n",
       "      <th></th>\n",
       "      <th>0</th>\n",
       "      <th>1</th>\n",
       "      <th>2</th>\n",
       "      <th>3</th>\n",
       "      <th>4</th>\n",
       "    </tr>\n",
       "  </thead>\n",
       "  <tbody>\n",
       "    <tr>\n",
       "      <th>0</th>\n",
       "      <td>-0.1</td>\n",
       "      <td>0.1</td>\n",
       "      <td>-0.1</td>\n",
       "      <td>-0.2</td>\n",
       "      <td>-0.2</td>\n",
       "    </tr>\n",
       "    <tr>\n",
       "      <th>1</th>\n",
       "      <td>0.2</td>\n",
       "      <td>-0.2</td>\n",
       "      <td>0.3</td>\n",
       "      <td>-0.4</td>\n",
       "      <td>-0.4</td>\n",
       "    </tr>\n",
       "    <tr>\n",
       "      <th>2</th>\n",
       "      <td>0.3</td>\n",
       "      <td>-0.3</td>\n",
       "      <td>0.4</td>\n",
       "      <td>0.5</td>\n",
       "      <td>0.6</td>\n",
       "    </tr>\n",
       "    <tr>\n",
       "      <th>3</th>\n",
       "      <td>0.4</td>\n",
       "      <td>0.4</td>\n",
       "      <td>0.5</td>\n",
       "      <td>0.6</td>\n",
       "      <td>0.8</td>\n",
       "    </tr>\n",
       "  </tbody>\n",
       "</table>\n",
       "</div>"
      ],
      "text/plain": [
       "     0    1    2    3    4\n",
       "0 -0.1  0.1 -0.1 -0.2 -0.2\n",
       "1  0.2 -0.2  0.3 -0.4 -0.4\n",
       "2  0.3 -0.3  0.4  0.5  0.6\n",
       "3  0.4  0.4  0.5  0.6  0.8"
      ]
     },
     "execution_count": 5,
     "metadata": {},
     "output_type": "execute_result"
    }
   ],
   "source": [
    "d1 = [-0.1,0.2,0.3,0.4]\n",
    "d2 = [0.1,-0.2,-0.3,0.4]\n",
    "d3 = [-0.1,0.3,0.4,0.5]\n",
    "d4 = [-0.2,-0.4,0.5,0.6]\n",
    "d5 = [-0.2,-0.4,0.6,0.8]\n",
    "# d1-d5共有五個資產\n",
    "\n",
    "rfrate = 0.2 \n",
    "\n",
    "# 這邊應該是要再多一個轉置，意即pd.DataFrame([d1,d2,d3,d4,d5]).T\n",
    "all_return = pd.DataFrame([d1,d2,d3,d4,d5]).T\n",
    "print(all_return.shape)\n",
    "\n",
    "# weight應該有五位數\n",
    "weight = [0.1,0.2,0.2,0.5,-0.1]\n",
    "\n",
    "#r1 = fsolve(bestweight_sample, weight)\n",
    "#print(r1)\n",
    "\n",
    "r2 = fsolve(bestweight, weight)\n",
    "print(r2)\n",
    "all_return"
   ]
  },
  {
   "cell_type": "code",
   "execution_count": 6,
   "metadata": {},
   "outputs": [
    {
     "name": "stdout",
     "output_type": "stream",
     "text": [
      "(4, 2)\n"
     ]
    },
    {
     "name": "stderr",
     "output_type": "stream",
     "text": [
      "C:\\Users\\R\\Anaconda3\\lib\\site-packages\\scipy\\optimize\\minpack.py:163: RuntimeWarning: The iteration is not making good progress, as measured by the \n",
      "  improvement from the last ten iterations.\n",
      "  warnings.warn(msg, RuntimeWarning)\n"
     ]
    },
    {
     "name": "stdout",
     "output_type": "stream",
     "text": [
      "[0.34992637 0.64797366]\n"
     ]
    }
   ],
   "source": [
    "d1 = [0.049,0.05,0.05,0.06]\n",
    "d2 = [0.028,0.03,0.07,0.04]\n",
    "all_return = pd.DataFrame([d1,d2]).T\n",
    "print(all_return.shape)\n",
    "\n",
    "\n",
    "#weight = [0.1,0.2,0.2,0.5]\n",
    "weight = [0.4,0.5]\n",
    "all_return\n",
    "r2 = fsolve(bestweight, weight)\n",
    "print(r2)"
   ]
  },
  {
   "cell_type": "markdown",
   "metadata": {},
   "source": [
    "# 參考文章:\n",
    "* [另外的python求解套件說明](https://github.com/wurmen/Gurobi-Python/blob/master/python-gurobi%20%20model/Python%2BGurobi%E5%BB%BA%E6%A8%A1.md)"
   ]
  },
  {
   "cell_type": "raw",
   "metadata": {
    "scrolled": false
   },
   "source": [
    "#硬幹法  每個硬帶入 未考慮無風險資產\n",
    "z_list = []     \n",
    "x_list = []\n",
    "d1 = [0.049,0.05,0.05,0.06]\n",
    "d2 = [0.028,0.03,0.07,0.04]\n",
    "all_return = pd.DataFrame([d1,d2]).T\n",
    "for i in range(0,101,1):\n",
    "    i = i/100\n",
    "    z_list.append(sumrisk([i,1-i],all_return))\n",
    "    x_list.append(i)\n",
    "    \n",
    "index = z_list.index(min(z_list))\n",
    "x_list[index]"
   ]
  },
  {
   "cell_type": "markdown",
   "metadata": {},
   "source": [
    "# 比較sharpe ratio是否符合原本假設\n",
    "## case1:正確解答"
   ]
  },
  {
   "cell_type": "code",
   "execution_count": 34,
   "metadata": {},
   "outputs": [],
   "source": [
    "import numpy as np\n",
    "x = np.array([-0.05,0.05,0.09,-0.01,0.04,0.01])\n",
    "y = np.array([0.1,-0.01,0.01,-0.02,0.02,-0.05])\n",
    "rfrate = 0.002"
   ]
  },
  {
   "cell_type": "code",
   "execution_count": 35,
   "metadata": {},
   "outputs": [
    {
     "name": "stdout",
     "output_type": "stream",
     "text": [
      "Optimization terminated successfully.\n",
      "         Current function value: 0.267391\n",
      "         Iterations: 12\n",
      "         Function evaluations: 24\n"
     ]
    },
    {
     "data": {
      "text/plain": [
       "0.6073730468749996"
      ]
     },
     "execution_count": 35,
     "metadata": {},
     "output_type": "execute_result"
    }
   ],
   "source": [
    "from scipy import optimize\n",
    "def f(a):\n",
    "    return np.std(a*x+(1-a)*y)/(np.sum(a*x+(1-a)*y)-rfrate) #倒數最小，原本值最大\n",
    "abc = optimize.fmin(f, 0.7)\n",
    "abc[0]"
   ]
  },
  {
   "cell_type": "markdown",
   "metadata": {},
   "source": [
    "## case2"
   ]
  },
  {
   "cell_type": "markdown",
   "metadata": {},
   "source": [
    "<img src=\"picture/bestweight.PNG\">\n"
   ]
  },
  {
   "cell_type": "code",
   "execution_count": 60,
   "metadata": {},
   "outputs": [],
   "source": [
    "def penalty(w):\n",
    "    if min(w)<0.05 or max(w)>0.95:\n",
    "        return 10\n",
    "    else:\n",
    "        return 0\n",
    "def bestweight(w):\n",
    "    r = []\n",
    "    for i in range(len(w)):\n",
    "        v = risk(w[i]*(all_return.iloc[:,i]))/ sumrisk(w,all_return)  \\\n",
    "            - (np.mean(all_return.iloc[:,i])-rfrate)/(portretmean(w,all_return)-rfrate) \\\n",
    "            + penalty(w)\n",
    "        r.append(v) \n",
    "    return r"
   ]
  },
  {
   "cell_type": "code",
   "execution_count": 37,
   "metadata": {
    "scrolled": true
   },
   "outputs": [],
   "source": [
    "def risk(x):\n",
    "    return np.std(x)"
   ]
  },
  {
   "cell_type": "code",
   "execution_count": 62,
   "metadata": {
    "scrolled": false
   },
   "outputs": [
    {
     "name": "stdout",
     "output_type": "stream",
     "text": [
      "(6, 2)\n"
     ]
    },
    {
     "name": "stderr",
     "output_type": "stream",
     "text": [
      "C:\\Users\\R\\Anaconda3\\lib\\site-packages\\scipy\\optimize\\minpack.py:163: RuntimeWarning: The iteration is not making good progress, as measured by the \n",
      "  improvement from the last ten iterations.\n",
      "  warnings.warn(msg, RuntimeWarning)\n",
      "C:\\Users\\R\\Anaconda3\\lib\\site-packages\\scipy\\optimize\\minpack.py:163: RuntimeWarning: The number of calls to function has reached maxfev = 400.\n",
      "  warnings.warn(msg, RuntimeWarning)\n"
     ]
    },
    {
     "name": "stdout",
     "output_type": "stream",
     "text": [
      "[0.44719264 0.55280736]\n"
     ]
    }
   ],
   "source": [
    "all_return = pd.DataFrame([x,y]).T\n",
    "print(all_return.shape)\n",
    "weight = [0.5,0.5]\n",
    "\n",
    "r2 = fsolve(bestweight, weight)\n",
    "print(r2)\n"
   ]
  },
  {
   "cell_type": "code",
   "execution_count": 39,
   "metadata": {},
   "outputs": [
    {
     "data": {
      "text/plain": [
       "-0.23246829204480313"
      ]
     },
     "execution_count": 39,
     "metadata": {},
     "output_type": "execute_result"
    }
   ],
   "source": [
    "i = 0\n",
    "w = [0.6,0.4]\n",
    "risk(w[i]*(all_return.iloc[:,i]))/ sumrisk(w,all_return)  \\\n",
    "- (np.mean(all_return.iloc[:,i])-rfrate)/(portretmean(w,all_return)-rfrate) "
   ]
  },
  {
   "cell_type": "code",
   "execution_count": 40,
   "metadata": {},
   "outputs": [],
   "source": [
    "def ttttest(w):\n",
    "    v = 0\n",
    "    for i in range(len(w)):\n",
    "        v = v + ( risk(w[i]*(all_return.iloc[:,i]))/ sumrisk(w,all_return)  \\\n",
    "        - (np.mean(all_return.iloc[:,i])-rfrate)/(portretmean(w,all_return)-rfrate) )**2\n",
    "    return v"
   ]
  },
  {
   "cell_type": "code",
   "execution_count": 56,
   "metadata": {
    "scrolled": true
   },
   "outputs": [
    {
     "name": "stderr",
     "output_type": "stream",
     "text": [
      "C:\\Users\\R\\Anaconda3\\lib\\site-packages\\scipy\\optimize\\minpack.py:163: RuntimeWarning: The iteration is not making good progress, as measured by the \n",
      "  improvement from the last ten iterations.\n",
      "  warnings.warn(msg, RuntimeWarning)\n"
     ]
    },
    {
     "name": "stdout",
     "output_type": "stream",
     "text": [
      "0.5 1.8353772701679452\n",
      "0.51 1.7689800757234069\n",
      "0.52 1.7025823310788335\n",
      "0.53 1.636126996405491\n"
     ]
    },
    {
     "name": "stderr",
     "output_type": "stream",
     "text": [
      "C:\\Users\\R\\Anaconda3\\lib\\site-packages\\scipy\\optimize\\minpack.py:163: RuntimeWarning: The number of calls to function has reached maxfev = 400.\n",
      "  warnings.warn(msg, RuntimeWarning)\n"
     ]
    },
    {
     "name": "stdout",
     "output_type": "stream",
     "text": [
      "0.54 1.6243357734784334\n",
      "0.55 3.2414695584358997\n",
      "0.56 4.237371695829466\n",
      "0.57 4.710836124647462\n",
      "0.58 5.042258515135968\n",
      "0.59 5.327296997784045\n",
      "0.6 5.599553404176629\n",
      "0.61 5.8744806242010394\n",
      "0.62 6.160863289672869\n",
      "0.63 6.4647034788735676\n",
      "0.64 6.790800395309272\n",
      "0.5 0.018803411214407557\n",
      "0.51 0.018298391899376543\n",
      "0.52 0.017813500089931683\n",
      "0.53 0.01734853354640198\n",
      "0.54 0.016903455900468656\n",
      "0.55 0.016478417004910983\n",
      "0.56 0.016073779112456194\n",
      "0.57 0.015690150227917057\n",
      "0.58 0.015328426216008866\n",
      "0.59 0.014989843427233083\n",
      "0.6 0.014676043605643653\n",
      "0.61 0.014389152435468953\n",
      "0.62 0.014131871860409208\n",
      "0.63 0.013907583595367944\n",
      "0.64 0.013720456042369334\n"
     ]
    }
   ],
   "source": [
    "\n",
    "for i in range(50,65):\n",
    "    a = i/100\n",
    "    print(a,ttttest([a,1-a])) "
   ]
  },
  {
   "cell_type": "code",
   "execution_count": 53,
   "metadata": {},
   "outputs": [],
   "source": [
    "z1_rf = np.mean(x)-rfrate\n",
    "z2_rf = np.mean(y)-rfrate\n",
    "[z1_rf,z2_rf]\n",
    "w = 0.6\n",
    "rfrate = 0.002\n",
    "portfo = w*x+(1-w)*y\n"
   ]
  },
  {
   "cell_type": "code",
   "execution_count": 54,
   "metadata": {},
   "outputs": [
    {
     "data": {
      "text/plain": [
       "-0.23246829204480313"
      ]
     },
     "execution_count": 54,
     "metadata": {},
     "output_type": "execute_result"
    }
   ],
   "source": [
    "risk(w*x) / (w*risk(w*x)+(1-w)*risk((1-w)*y)) - z1_rf/ (np.mean(portfo)-rfrate)"
   ]
  }
 ],
 "metadata": {
  "kernelspec": {
   "display_name": "Python 3",
   "language": "python",
   "name": "python3"
  },
  "language_info": {
   "codemirror_mode": {
    "name": "ipython",
    "version": 3
   },
   "file_extension": ".py",
   "mimetype": "text/x-python",
   "name": "python",
   "nbconvert_exporter": "python",
   "pygments_lexer": "ipython3",
   "version": "3.6.5"
  }
 },
 "nbformat": 4,
 "nbformat_minor": 2
}
