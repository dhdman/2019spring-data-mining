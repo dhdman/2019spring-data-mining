{
 "cells": [
  {
   "cell_type": "code",
   "execution_count": 1,
   "metadata": {},
   "outputs": [],
   "source": [
    "import numpy as np\n",
    "import pandas as pd\n",
    "import math\n",
    "from scipy.optimize import fsolve"
   ]
  },
  {
   "cell_type": "markdown",
   "metadata": {},
   "source": [
    "# 測試的"
   ]
  },
  {
   "cell_type": "code",
   "execution_count": 2,
   "metadata": {},
   "outputs": [
    {
     "name": "stdout",
     "output_type": "stream",
     "text": [
      "[-99.9 -99.9]\n"
     ]
    },
    {
     "name": "stderr",
     "output_type": "stream",
     "text": [
      "D:\\Anaconda3\\lib\\site-packages\\scipy\\optimize\\minpack.py:163: RuntimeWarning: The iteration is not making good progress, as measured by the \n",
      "  improvement from the last ten iterations.\n",
      "  warnings.warn(msg, RuntimeWarning)\n"
     ]
    }
   ],
   "source": [
    "def f(x):\n",
    "    return x + 1000\n",
    " \n",
    "def g(y):\n",
    "    return y * 3\n",
    "\n",
    "def bestweight_pre(w):\n",
    "    w0 = w[0]\n",
    "    w1 = w[1]\n",
    "    return [\n",
    "        f(w0) + 3*g(w0) - 1,\n",
    "        f(w1) + 3*g(w1) - 1\n",
    "    ]\n",
    "\n",
    "r = fsolve(bestweight_pre, [0,0])\n",
    "print(r)"
   ]
  },
  {
   "cell_type": "markdown",
   "metadata": {},
   "source": [
    "# 開發中的"
   ]
  },
  {
   "cell_type": "code",
   "execution_count": 3,
   "metadata": {},
   "outputs": [],
   "source": [
    "def f1(x,arr_returns):\n",
    "    arr_returns - rfrate \n",
    "    return sum( np.exp(-1*arr_returns/x) ) - len(arr_returns)\n",
    "def get_riskiness_r(arr_returns):\n",
    "    guess  = 10**(-5)\n",
    "    while (guess<1000):\n",
    "        risk2 = fsolve(f1,guess,arr_returns)  #引用函數f1\n",
    "        if risk2[0] != guess:\n",
    "            break\n",
    "        guess = guess*10\n",
    "    return risk2[0]"
   ]
  },
  {
   "cell_type": "code",
   "execution_count": 4,
   "metadata": {
    "scrolled": false
   },
   "outputs": [],
   "source": [
    "def risk(x):\n",
    "    guess  = 10**(-5)\n",
    "    while (guess<1000):\n",
    "        risk2 = fsolve(f1,guess,x)  #引用函數f1\n",
    "        if risk2[0] != guess:\n",
    "            break\n",
    "        guess = guess*10\n",
    "    return risk2[0]\n",
    "    #return np.std(x)\n",
    "\n",
    "def finalrisk(weight,all_return):\n",
    "    w = weight\n",
    "    a = all_return\n",
    "    portreturn = np.dot(np.array(all_return),np.array(weight).T)\n",
    "    return risk(portreturn)\n",
    "\n",
    "def sumrisk(weight,all_return):\n",
    "    w = weight\n",
    "    a = all_return\n",
    "    v = 0\n",
    "    for i in range(len(w)):\n",
    "        v = v + w[i]*risk(w[i]*(all_return.iloc[:,i]))\n",
    "    return v\n",
    "\n",
    "def portretmean(weight,all_return):\n",
    "    w = weight\n",
    "    a = all_return\n",
    "    return np.mean(np.dot(np.array(all_return),np.array(weight)))\n",
    "\n",
    "# 這是原本峻安要的輸出的內容，是以4個weight值為例\n",
    "def bestweight_sample(w):\n",
    "    return [\n",
    "        risk(w[0]*all_return.iloc[:,0]) - np.mean(all_return.iloc[:,0])*sumrisk(w,all_return) - np.mean(all_return.iloc[:,0]*w[0]) , \n",
    "        risk(w[1]*all_return.iloc[:,1]) - np.mean(all_return.iloc[:,1])*sumrisk(w,all_return) - np.mean(all_return.iloc[:,1]*w[1]) , \n",
    "        risk(w[2]*all_return.iloc[:,2]) - np.mean(all_return.iloc[:,2])*sumrisk(w,all_return) - np.mean(all_return.iloc[:,2]*w[2]) , \n",
    "        risk(w[3]*all_return.iloc[:,3]) - np.mean(all_return.iloc[:,3])*sumrisk(w,all_return) - np.mean(all_return.iloc[:,3]*w[3])\n",
    "    ]\n",
    "\n",
    "\n",
    "\n",
    "# 比較好的寫法，沒有限制weight的數量(亦即ETF的支數)\n",
    "def bestweight(w):\n",
    "    r = []\n",
    "    restrict = sum(w) - 1\n",
    "    r.append(restrict)\n",
    "    for i in range(len(w)-1):\n",
    "        v =(risk(w[i]*all_return.iloc[:,i]) \\\n",
    "            - (np.mean(all_return.iloc[:,i])-rfrate)*sumrisk(w,all_return) \\\n",
    "            - (np.mean(all_return.iloc[:,i]*w[i])-rfrate) )**4 \\\n",
    "            + (risk(w[i+1]*all_return.iloc[:,i+1]) \\\n",
    "            - (np.mean(all_return.iloc[:,i-1])-rfrate)*sumrisk(w,all_return) \\\n",
    "            - (np.mean(all_return.iloc[:,i+1]*w[i+1])-rfrate) )**4\n",
    "        r.append(v) \n",
    "    return r"
   ]
  },
  {
   "cell_type": "code",
   "execution_count": 5,
   "metadata": {
    "scrolled": true
   },
   "outputs": [
    {
     "name": "stderr",
     "output_type": "stream",
     "text": [
      "D:\\Anaconda3\\lib\\site-packages\\scipy\\optimize\\minpack.py:163: RuntimeWarning: The iteration is not making good progress, as measured by the \n",
      "  improvement from the last ten iterations.\n",
      "  warnings.warn(msg, RuntimeWarning)\n"
     ]
    },
    {
     "name": "stdout",
     "output_type": "stream",
     "text": [
      "(4, 5)\n"
     ]
    },
    {
     "name": "stderr",
     "output_type": "stream",
     "text": [
      "D:\\Anaconda3\\lib\\site-packages\\scipy\\optimize\\minpack.py:163: RuntimeWarning: The number of calls to function has reached maxfev = 400.\n",
      "  warnings.warn(msg, RuntimeWarning)\n"
     ]
    },
    {
     "name": "stdout",
     "output_type": "stream",
     "text": [
      "[ 0.1  0.2  0.2  0.5 -0.1]\n"
     ]
    },
    {
     "data": {
      "text/html": [
       "<div>\n",
       "<style scoped>\n",
       "    .dataframe tbody tr th:only-of-type {\n",
       "        vertical-align: middle;\n",
       "    }\n",
       "\n",
       "    .dataframe tbody tr th {\n",
       "        vertical-align: top;\n",
       "    }\n",
       "\n",
       "    .dataframe thead th {\n",
       "        text-align: right;\n",
       "    }\n",
       "</style>\n",
       "<table border=\"1\" class=\"dataframe\">\n",
       "  <thead>\n",
       "    <tr style=\"text-align: right;\">\n",
       "      <th></th>\n",
       "      <th>0</th>\n",
       "      <th>1</th>\n",
       "      <th>2</th>\n",
       "      <th>3</th>\n",
       "      <th>4</th>\n",
       "    </tr>\n",
       "  </thead>\n",
       "  <tbody>\n",
       "    <tr>\n",
       "      <th>0</th>\n",
       "      <td>-0.1</td>\n",
       "      <td>0.1</td>\n",
       "      <td>-0.1</td>\n",
       "      <td>-0.2</td>\n",
       "      <td>-0.2</td>\n",
       "    </tr>\n",
       "    <tr>\n",
       "      <th>1</th>\n",
       "      <td>0.2</td>\n",
       "      <td>-0.2</td>\n",
       "      <td>0.3</td>\n",
       "      <td>-0.4</td>\n",
       "      <td>-0.4</td>\n",
       "    </tr>\n",
       "    <tr>\n",
       "      <th>2</th>\n",
       "      <td>0.3</td>\n",
       "      <td>-0.3</td>\n",
       "      <td>0.4</td>\n",
       "      <td>0.5</td>\n",
       "      <td>0.6</td>\n",
       "    </tr>\n",
       "    <tr>\n",
       "      <th>3</th>\n",
       "      <td>0.4</td>\n",
       "      <td>0.4</td>\n",
       "      <td>0.5</td>\n",
       "      <td>0.6</td>\n",
       "      <td>0.8</td>\n",
       "    </tr>\n",
       "  </tbody>\n",
       "</table>\n",
       "</div>"
      ],
      "text/plain": [
       "     0    1    2    3    4\n",
       "0 -0.1  0.1 -0.1 -0.2 -0.2\n",
       "1  0.2 -0.2  0.3 -0.4 -0.4\n",
       "2  0.3 -0.3  0.4  0.5  0.6\n",
       "3  0.4  0.4  0.5  0.6  0.8"
      ]
     },
     "execution_count": 5,
     "metadata": {},
     "output_type": "execute_result"
    }
   ],
   "source": [
    "d1 = [-0.1,0.2,0.3,0.4]\n",
    "d2 = [0.1,-0.2,-0.3,0.4]\n",
    "d3 = [-0.1,0.3,0.4,0.5]\n",
    "d4 = [-0.2,-0.4,0.5,0.6]\n",
    "d5 = [-0.2,-0.4,0.6,0.8]\n",
    "# d1-d5共有五個資產\n",
    "\n",
    "rfrate = 0.2 \n",
    "\n",
    "# 這邊應該是要再多一個轉置，意即pd.DataFrame([d1,d2,d3,d4,d5]).T\n",
    "all_return = pd.DataFrame([d1,d2,d3,d4,d5]).T\n",
    "print(all_return.shape)\n",
    "\n",
    "# weight應該有五位數\n",
    "weight = [0.1,0.2,0.2,0.5,-0.1]\n",
    "\n",
    "#r1 = fsolve(bestweight_sample, weight)\n",
    "#print(r1)\n",
    "\n",
    "r2 = fsolve(bestweight, weight)\n",
    "print(r2)\n",
    "all_return"
   ]
  },
  {
   "cell_type": "code",
   "execution_count": 6,
   "metadata": {},
   "outputs": [
    {
     "name": "stdout",
     "output_type": "stream",
     "text": [
      "(4, 2)\n"
     ]
    },
    {
     "name": "stderr",
     "output_type": "stream",
     "text": [
      "D:\\Anaconda3\\lib\\site-packages\\scipy\\optimize\\minpack.py:163: RuntimeWarning: The iteration is not making good progress, as measured by the \n",
      "  improvement from the last ten iterations.\n",
      "  warnings.warn(msg, RuntimeWarning)\n"
     ]
    },
    {
     "name": "stdout",
     "output_type": "stream",
     "text": [
      "[0.18668277 0.60785989]\n"
     ]
    }
   ],
   "source": [
    "d1 = [0.049,0.05,0.05,0.06]\n",
    "d2 = [0.028,0.03,0.07,0.04]\n",
    "all_return = pd.DataFrame([d1,d2]).T\n",
    "print(all_return.shape)\n",
    "\n",
    "\n",
    "#weight = [0.1,0.2,0.2,0.5]\n",
    "weight = [0.4,0.5]\n",
    "all_return\n",
    "r2 = fsolve(bestweight, weight)\n",
    "print(r2)"
   ]
  },
  {
   "cell_type": "markdown",
   "metadata": {},
   "source": [
    "# 參考文章:\n",
    "* [另外的python求解套件說明](https://github.com/wurmen/Gurobi-Python/blob/master/python-gurobi%20%20model/Python%2BGurobi%E5%BB%BA%E6%A8%A1.md)"
   ]
  },
  {
   "cell_type": "raw",
   "metadata": {
    "scrolled": false
   },
   "source": [
    "#硬幹法  每個硬帶入 未考慮無風險資產\n",
    "z_list = []     \n",
    "x_list = []\n",
    "d1 = [0.049,0.05,0.05,0.06]\n",
    "d2 = [0.028,0.03,0.07,0.04]\n",
    "all_return = pd.DataFrame([d1,d2]).T\n",
    "for i in range(0,101,1):\n",
    "    i = i/100\n",
    "    z_list.append(sumrisk([i,1-i],all_return))\n",
    "    x_list.append(i)\n",
    "    \n",
    "index = z_list.index(min(z_list))\n",
    "x_list[index]"
   ]
  },
  {
   "cell_type": "markdown",
   "metadata": {},
   "source": [
    "# 比較sharpe ratio是否符合原本假設\n",
    "## case1:正確解答"
   ]
  },
  {
   "cell_type": "code",
   "execution_count": 88,
   "metadata": {},
   "outputs": [],
   "source": [
    "import numpy as np\n",
    "x = np.array([-0.05,0.05,0.09,-0.01,0.04,0.01]*2)\n",
    "y = np.array([0.1,-0.01,0.01,-0.02,0.02,-0.05]*2)\n",
    "rfrate = 0.002"
   ]
  },
  {
   "cell_type": "code",
   "execution_count": 93,
   "metadata": {},
   "outputs": [
    {
     "name": "stdout",
     "output_type": "stream",
     "text": [
      "Optimization terminated successfully.\n",
      "         Current function value: 0.132325\n",
      "         Iterations: 23\n",
      "         Function evaluations: 46\n"
     ]
    },
    {
     "data": {
      "text/plain": [
       "0.6063125000000006"
      ]
     },
     "execution_count": 93,
     "metadata": {},
     "output_type": "execute_result"
    }
   ],
   "source": [
    "from scipy import optimize\n",
    "def f(a):\n",
    "    return np.std(a*x+(1-a)*y)/(np.sum(a*x+(1-a)*y)-rfrate) #倒數最小，原本值最大\n",
    "abc = optimize.fmin(f, 0)\n",
    "abc[0]"
   ]
  },
  {
   "cell_type": "markdown",
   "metadata": {},
   "source": [
    "## case2"
   ]
  },
  {
   "cell_type": "markdown",
   "metadata": {},
   "source": [
    "<img src=\"picture/bestweight.PNG\">\n"
   ]
  },
  {
   "cell_type": "code",
   "execution_count": 114,
   "metadata": {},
   "outputs": [],
   "source": [
    "def penalty(w):\n",
    "    if min(w)<0 or max(w)>1:\n",
    "        return 100\n",
    "    else:\n",
    "        return 0\n",
    "def bestweight(w):\n",
    "    r = []\n",
    "    r.append(np.abs(sum(w)-1))\n",
    "    for i in range(len(w)-1):\n",
    "        v =  np.abs( risk(w[i]*(all_return.iloc[:,i]))/ sumrisk(w,all_return)  \\\n",
    "            - (np.mean(all_return.iloc[:,i])-rfrate)/(portretmean(w,all_return)-rfrate) ) \\\n",
    "            + np.abs( risk(w[i+1]*(all_return.iloc[:,i+1]))/ sumrisk(w,all_return)  \\\n",
    "            - (np.mean(all_return.iloc[:,i+1])-rfrate)/(portretmean(w,all_return)-rfrate))\n",
    "        r.append(v) \n",
    "    print('權重:',w,'誤差值:',v)\n",
    "    return r"
   ]
  },
  {
   "cell_type": "code",
   "execution_count": 112,
   "metadata": {},
   "outputs": [],
   "source": [
    "def bestweight(w):\n",
    "    r = []\n",
    "    r.append(penalty(w)+np.abs(sum(w)-1))\n",
    "    for i in range(len(w)-1):\n",
    "        v =  np.abs( risk(w[i]*(all_return.iloc[:,i]))/ sumrisk(w,all_return)  \\\n",
    "            - (np.mean(all_return.iloc[:,i])-rfrate)/(portretmean(w,all_return)-rfrate) ) \\\n",
    "            + np.abs( risk(w[i+1]*(all_return.iloc[:,i+1]))/ sumrisk(w,all_return)  \\\n",
    "            - (np.mean(all_return.iloc[:,i+1])-rfrate)/(portretmean(w,all_return)-rfrate))\n",
    "        r.append(v) \n",
    "    print('權重:',w,'誤差值:',v)\n",
    "    return r"
   ]
  },
  {
   "cell_type": "code",
   "execution_count": 10,
   "metadata": {
    "scrolled": true
   },
   "outputs": [],
   "source": [
    "def risk(x):\n",
    "    return np.std(x)"
   ]
  },
  {
   "cell_type": "code",
   "execution_count": 113,
   "metadata": {
    "scrolled": false
   },
   "outputs": [
    {
     "name": "stdout",
     "output_type": "stream",
     "text": [
      "權重: [0.1 0.1] 誤差值: 16.000000000000025\n",
      "權重: [0.1 0.1] 誤差值: 16.000000000000025\n",
      "權重: [0.1 0.1] 誤差值: 16.000000000000025\n",
      "權重: [0.1 0.1] 誤差值: 15.999999233592906\n",
      "權重: [0.1 0.1] 誤差值: 15.999999753128154\n",
      "權重: [-0.23425188  1.23425187] 誤差值: 7.10741473189867\n",
      "權重: [0.11591007 0.14724472] 誤差值: 8.706201727505066\n",
      "權重: [0.15143398 0.090306  ] 誤差值: 4.974239251387037\n",
      "權重: [-0.65599455  1.87075946] 誤差值: 42.506977108508146\n",
      "權重: [ 0.21866357 -0.0474736 ] 誤差值: 5.205609191362866\n",
      "權重: [0.15143398 0.090306  ] 誤差值: 4.974239042096608\n",
      "權重: [0.15143398 0.090306  ] 誤差值: 4.9742391991924615\n",
      "權重: [-0.02299105  0.6358384 ] 誤差值: 7.654585074135182\n",
      "權重: [0.18606189 0.12208013] 誤差值: 3.19586441838291\n",
      "權重: [0.27253659 0.14873505] 誤差值: 1.3813769608999134\n",
      "權重: [0.38502341 0.14107634] 誤差值: 0.3635538073552802\n",
      "權重: [0.51417639 0.09750341] 誤差值: 0.36764362006590945\n",
      "權重: [0.77281568 0.02047292] 誤差值: 0.4145490957243804\n",
      "權重: [ 1.29069006 -0.11291002] 誤差值: 0.18690958394024526\n",
      "權重: [0.75305968 0.04373553] 誤差值: 0.36778566210566754\n",
      "權重: [0.5089764  0.32024402] 誤差值: 0.6594657825170741\n",
      "權重: [ 0.87552774 -0.09083568] 誤差值: 0.32386248996902134\n",
      "權重: [0.7530597  0.04373553] 誤差值: 0.3677856547305313\n",
      "權重: [0.75305968 0.04373553] 誤差值: 0.36778566040514177\n",
      "權重: [0.80218671 0.17566104] 誤差值: 0.12524920178367\n",
      "權重: [0.77714123 0.22285876] 誤差值: 0.03300324840325841\n",
      "權重: [0.76000785 0.23999215] 誤差值: 0.009323881894062525\n",
      "權重: [0.75326148 0.24673852] 誤差值: 0.02697766175423766\n",
      "權重: [0.76357096 0.23642904] 誤差值: 0.00022684036314352118\n",
      "權重: [0.7636598 0.2363402] 誤差值: 1.9925827832167897e-06\n",
      "權重: [0.76366059 0.23633941] 誤差值: 5.699420380089748e-10\n",
      "權重: [0.76366059 0.23633941] 誤差值: 2.7493046728110926e-10\n",
      "權重: [0.76366059 0.23633941] 誤差值: 5.498147492843941e-10\n",
      "權重: [0.76366059 0.23633941] 誤差值: 4.996003610813204e-16\n",
      "[0.76366059 0.23633941]\n"
     ]
    }
   ],
   "source": [
    "all_return = pd.DataFrame([x,y]).T\n",
    "#print(all_return.shape)\n",
    "weight = [0.1,0.1]\n",
    "\n",
    "r2 = fsolve(bestweight, weight)\n",
    "#for i in range(10):\n",
    "#    r2 = fsolve(bestweight, r2)\n",
    "print(r2)\n"
   ]
  },
  {
   "cell_type": "code",
   "execution_count": 13,
   "metadata": {},
   "outputs": [],
   "source": [
    "def ttttest(w):\n",
    "    v = 0\n",
    "    for i in range(len(w)):\n",
    "        v = v + ( risk(w[i]*(all_return.iloc[:,i]))/ sumrisk(w,all_return)  \\\n",
    "        - (np.mean(all_return.iloc[:,i])-rfrate)/(portretmean(w,all_return)-rfrate) )**2\n",
    "    return v"
   ]
  },
  {
   "cell_type": "code",
   "execution_count": 85,
   "metadata": {
    "scrolled": true
   },
   "outputs": [
    {
     "name": "stdout",
     "output_type": "stream",
     "text": [
      "0.1 6.0665077129419736\n",
      "0.2 3.843225607347518\n",
      "0.3 2.3303515734980462\n",
      "0.4 1.2695095364017597\n",
      "0.5 0.5675298667580613\n",
      "0.6 0.1756348971202411\n",
      "0.7 0.020188468598254558\n",
      "0.8 0.0048025470511581896\n",
      "0.9 0.048384805317532455\n",
      "1.0 0.10370583165756968\n"
     ]
    }
   ],
   "source": [
    "\n",
    "for i in range(1,11):\n",
    "    a = i/10\n",
    "    print(a,ttttest([a,1-a])) "
   ]
  }
 ],
 "metadata": {
  "kernelspec": {
   "display_name": "Python 3",
   "language": "python",
   "name": "python3"
  },
  "language_info": {
   "codemirror_mode": {
    "name": "ipython",
    "version": 3
   },
   "file_extension": ".py",
   "mimetype": "text/x-python",
   "name": "python",
   "nbconvert_exporter": "python",
   "pygments_lexer": "ipython3",
   "version": "3.6.8"
  }
 },
 "nbformat": 4,
 "nbformat_minor": 2
}
