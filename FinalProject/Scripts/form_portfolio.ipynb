{
 "cells": [
  {
   "cell_type": "markdown",
   "metadata": {},
   "source": [
    "# 組合的系統風險測度B值\n",
    "<img src=\"picture/sysB.jpg\">"
   ]
  },
  {
   "cell_type": "markdown",
   "metadata": {},
   "source": [
    "[多因子模型公式](https://wiki.mbalib.com/zh-tw/APT%E6%A8%A1%E5%9E%8B)"
   ]
  },
  {
   "cell_type": "markdown",
   "metadata": {},
   "source": [
    "參數說明:\n",
    "* alpha是各個資產的分配比例\n"
   ]
  },
  {
   "cell_type": "code",
   "execution_count": 1,
   "metadata": {},
   "outputs": [],
   "source": [
    "import numpy  as  np\n",
    "import math"
   ]
  },
  {
   "cell_type": "code",
   "execution_count": 2,
   "metadata": {},
   "outputs": [
    {
     "ename": "SyntaxError",
     "evalue": "invalid syntax (<ipython-input-2-2cf213067acd>, line 2)",
     "output_type": "error",
     "traceback": [
      "\u001b[1;36m  File \u001b[1;32m\"<ipython-input-2-2cf213067acd>\"\u001b[1;36m, line \u001b[1;32m2\u001b[0m\n\u001b[1;33m    np.mean(np.exp()*) / np.mean()\u001b[0m\n\u001b[1;37m                     ^\u001b[0m\n\u001b[1;31mSyntaxError\u001b[0m\u001b[1;31m:\u001b[0m invalid syntax\n"
     ]
    }
   ],
   "source": [
    "def sysBrisk(alpha,i):\n",
    "    np.mean(np.exp()*) / np.mean()"
   ]
  },
  {
   "cell_type": "code",
   "execution_count": null,
   "metadata": {},
   "outputs": [],
   "source": [
    "def extend_get_top10_etf(data_file):\n",
    "    # 讀檔\n",
    "    #data_file = '../../HW1/ETF_data_set/return_data/Alternatives ETF List (35)/Alternatives ETF List (35)_return.csv';\n",
    "    df = pd.read_csv(data_file)\n",
    "    etf_list = list(df.columns)[1:]\n",
    "    df = df.iloc[:,1:]\n",
    "    \n",
    "    # 計算每支ETF的riskiness r\n",
    "    etf_dic = {}\n",
    "    for etf_name in etf_list:\n",
    "        # 過濾平均值正負\n",
    "        #if df[etf_name].mean(axis=0) < 0:\n",
    "        #    continue\n",
    "        arr_returns = df[etf_name] - rfrate\n",
    "        #arr_returns = arr_returns*1000      #調整數量級\n",
    "        guess = 10**(-5)\n",
    "        while (guess<1000):\n",
    "            risk2 = fsolve(f1,guess,arr_returns)\n",
    "            if risk2[0] != guess:\n",
    "                break\n",
    "            guess = guess*10\n",
    "        #### 列出細項\n",
    "        #print('%s指標值:  %f' %(etf_name,risk2[0]) )\n",
    "        etf_dic[etf_name] = risk2[0]\n",
    "    \n",
    "    # ETF依照riskiness r排序\n",
    "    sorted_x = sorted(etf_dic.items(), key=lambda kv: kv[1])\n",
    "        #sorted_reversed_x = list(reversed(sorted_x))\n",
    "    \n",
    "    # 取前10名\n",
    "    top10 = sorted_x[:10]\n",
    "        # top10 = sorted_reversed_x[:10]\n",
    "    #print(top10)\n",
    "    \n",
    "    # 取前10的ETF名稱\n",
    "    etf_top10 = [etf[0] for etf in top10]\n",
    "    #print(etf_top10)\n",
    "    return etf_top10"
   ]
  },
  {
   "cell_type": "markdown",
   "metadata": {},
   "source": [
    "# 求解最佳組合\n",
    "* 個別指標 / 總和指標 = 個別報酬 / 投組報酬\n",
    "* 共n條方程式\n"
   ]
  },
  {
   "cell_type": "code",
   "execution_count": null,
   "metadata": {},
   "outputs": [],
   "source": [
    "from scipy.optimize import fsolve\n",
    "\n",
    "def bestweight(alpha):\n",
    "    a = alpha\n",
    "    formula = []\n",
    "    for i in range(len(a)):\n",
    "        addline = ['R(i)/R()']\n",
    "        formula.append(addline)\n",
    "    return formula"
   ]
  },
  {
   "cell_type": "code",
   "execution_count": null,
   "metadata": {},
   "outputs": [],
   "source": [
    "li=[]\n",
    "i = 2\n",
    "li.append('i%dam'%i) \n",
    "li.append(2) \n",
    "li"
   ]
  },
  {
   "cell_type": "code",
   "execution_count": null,
   "metadata": {},
   "outputs": [],
   "source": [
    "i = 2\n",
    "a = ['ri%d(''123456'')am'%i]\n",
    "a"
   ]
  },
  {
   "cell_type": "markdown",
   "metadata": {},
   "source": [
    "<img src=\"picture/bestweight.PNG\">\n"
   ]
  },
  {
   "cell_type": "code",
   "execution_count": null,
   "metadata": {},
   "outputs": [],
   "source": []
  },
  {
   "cell_type": "code",
   "execution_count": 5,
   "metadata": {},
   "outputs": [
    {
     "name": "stdout",
     "output_type": "stream",
     "text": [
      "[ -99998.25 -100000.25]\n"
     ]
    }
   ],
   "source": [
    "from scipy.optimize import fsolve\n",
    "\n",
    "def f(x):\n",
    "    return  x+100000\n",
    " \n",
    "\n",
    "def bestweight_pre(x):\n",
    "    return [ f(x[0]) + 3*f(x[1]) - 1,f(x[0]) - 5*f(x[1]) -3,]\n",
    " \n",
    "\n",
    "r = fsolve(bestweight_pre, [0,0])\n",
    "print(r)"
   ]
  },
  {
   "cell_type": "code",
   "execution_count": null,
   "metadata": {},
   "outputs": [],
   "source": [
    "def f1(x,arr_returns):\n",
    "    return sum( np.exp(-1*arr_returns/x) ) - len(arr_returns)\n",
    "def get_riskiness_r(arr_returns):\n",
    "    guess  = 10**(-5)\n",
    "    while (guess<1000):\n",
    "        risk2 = fsolve(f1,guess,arr_returns)  #引用函數f1\n",
    "        if risk2[0] != guess:\n",
    "            break\n",
    "        guess = guess*10\n",
    "    return risk2[0]"
   ]
  },
  {
   "cell_type": "code",
   "execution_count": 106,
   "metadata": {
    "scrolled": true
   },
   "outputs": [
    {
     "data": {
      "text/plain": [
       "0.08061875000000002"
      ]
     },
     "execution_count": 106,
     "metadata": {},
     "output_type": "execute_result"
    }
   ],
   "source": [
    "import pandas as pd\n",
    "a1 = pd.DataFrame([-0.1,0.2,0.3,0.4])\n",
    "a2 = pd.DataFrame([0.1,-0.2,-0.3,0.4])\n",
    "a3 = pd.DataFrame([-0.1,0.3,0.4,0.5])\n",
    "a4 = pd.DataFrame([-0.2,-0.4,0.5,0.6])\n",
    "all_return = pd.concat([a1,a2,a3,a4],axis=1)\n",
    "#pd.DataFrame(all_return)\n",
    "all_return.iloc[:,1]\n",
    "weight = [0.1,0.2,0.2,0.5]\n",
    "\n",
    "def risk(x):\n",
    "    return np.var(x)\n",
    "def sumrisk(weight,all_return):\n",
    "    w = weight\n",
    "    a = all_return\n",
    "    portreturn = np.dot(np.array(all_return),np.array(weight).T)\n",
    "    return risk(portreturn)\n",
    "\n",
    "sumrisk(weight,all_return)"
   ]
  },
  {
   "cell_type": "code",
   "execution_count": 98,
   "metadata": {},
   "outputs": [
    {
     "data": {
      "text/plain": [
       "array([-0.075, -0.025,  0.225,  0.475])"
      ]
     },
     "execution_count": 98,
     "metadata": {},
     "output_type": "execute_result"
    }
   ],
   "source": [
    "\n",
    "np.array(all_return).T\n",
    "#np.array(weight).reshape(4,1)\n",
    "np.dot(np.array(all_return),np.array(weight))"
   ]
  },
  {
   "cell_type": "code",
   "execution_count": 30,
   "metadata": {},
   "outputs": [
    {
     "ename": "IndentationError",
     "evalue": "expected an indented block (<ipython-input-30-622888f293d3>, line 5)",
     "output_type": "error",
     "traceback": [
      "\u001b[1;36m  File \u001b[1;32m\"<ipython-input-30-622888f293d3>\"\u001b[1;36m, line \u001b[1;32m5\u001b[0m\n\u001b[1;33m    def bestweight(weight):\u001b[0m\n\u001b[1;37m      ^\u001b[0m\n\u001b[1;31mIndentationError\u001b[0m\u001b[1;31m:\u001b[0m expected an indented block\n"
     ]
    }
   ],
   "source": [
    "weight = [0.1,0.2,0.2,0.5]\n",
    "\n",
    "\n",
    "def risk(x):\n",
    "    return np.var(x)\n",
    "def sumrisk(weight,all_return):\n",
    "    w = weight\n",
    "    a = all_return\n",
    "    portreturn = np.dot(np.array(all_return),np.array(weight).T)\n",
    "    return risk(portreturn)\n",
    "\n",
    "def bestweight(weight):\n",
    "    w = weight\n",
    "    text = str()\n",
    "    for num in range(len(weight)):\n",
    "        i = str(num)\n",
    "        text = text +'risk(w['+i+']*all_return.iloc[:,'+i+'])'  \\\n",
    "                + ' -mean(z['+i+'])*sumrisk(w,all_return)' \\\n",
    "                + '-mean(z['+i+']*w['+i+']) = 0, '\n",
    "    return text   \n",
    "bestweight(weight)   "
   ]
  },
  {
   "cell_type": "code",
   "execution_count": 26,
   "metadata": {},
   "outputs": [
    {
     "data": {
      "text/plain": [
       "'jso6cokkl(),'"
      ]
     },
     "execution_count": 26,
     "metadata": {},
     "output_type": "execute_result"
    }
   ],
   "source": [
    "i = 6\n",
    "j = str(i)\n",
    "str()+j+'so%d'%i+'cokkl()'+','"
   ]
  },
  {
   "cell_type": "code",
   "execution_count": 102,
   "metadata": {},
   "outputs": [
    {
     "data": {
      "text/plain": [
       "0.6666666666666666"
      ]
     },
     "execution_count": 102,
     "metadata": {},
     "output_type": "execute_result"
    }
   ],
   "source": [
    "def ggg(x):\n",
    "    return x+1\n",
    "abc =ggg\n",
    "abc(1) + \\\n",
    "2\n",
    "np.var([0,-1,1])"
   ]
  }
 ],
 "metadata": {
  "kernelspec": {
   "display_name": "Python 3",
   "language": "python",
   "name": "python3"
  },
  "language_info": {
   "codemirror_mode": {
    "name": "ipython",
    "version": 3
   },
   "file_extension": ".py",
   "mimetype": "text/x-python",
   "name": "python",
   "nbconvert_exporter": "python",
   "pygments_lexer": "ipython3",
   "version": "3.6.5"
  }
 },
 "nbformat": 4,
 "nbformat_minor": 2
}
