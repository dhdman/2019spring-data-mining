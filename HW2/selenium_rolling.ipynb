{
 "cells": [
  {
   "cell_type": "markdown",
   "metadata": {},
   "source": [
    "# 修改日期的文章  將不可以填寫的資料改為可以填寫\n",
    "* https://www.itread01.com/content/1504627456.html\n",
    "* https://blog.csdn.net/huilan_same/article/details/52385401\n"
   ]
  },
  {
   "cell_type": "code",
   "execution_count": 102,
   "metadata": {
    "scrolled": true
   },
   "outputs": [],
   "source": [
    "from selenium import webdriver\n",
    "from time import sleep\n",
    "\n",
    "url = \"https://news.cnyes.com/news/cat/tw_stock\"\n",
    "path = \"./googledriver/chromedriver.exe\"\n",
    "driver = webdriver.Chrome(executable_path=path)\n",
    "\n",
    "driver.get(url)\n",
    "\n",
    "sleep(2)\n",
    "#js = \"$('input[id=_2SRO2]').attr('readonly','')\" \n",
    "js = \"document.documentElement.scrollTop = 10000\"\n",
    "\n",
    "for i in range(1,10):\n",
    "    sleep(5)\n",
    "    driver.execute_script(js)\n",
    "\n",
    "\n",
    "\n",
    "\n",
    "#driver.close()"
   ]
  },
  {
   "cell_type": "code",
   "execution_count": null,
   "metadata": {},
   "outputs": [],
   "source": [
    "#取消訂閱\n",
    "driver.find_element_by_xpath('//*[@id=\"content\"]/div/div/div[1]/div[2]/button[2]').click()"
   ]
  },
  {
   "cell_type": "code",
   "execution_count": 93,
   "metadata": {},
   "outputs": [],
   "source": [
    "\n",
    "#點開\n",
    "driver.find_element_by_xpath('//*[@id=\"content\"]/div/div/div[2]/main/div[4]/div[1]/nav/fieldset/input').click()\n",
    "\n",
    "#driver.find_element_by_xpath('//*[@id=\"content\"]/div/div/div[1]/div[2]/button[2]  ').click()\n"
   ]
  },
  {
   "cell_type": "code",
   "execution_count": 94,
   "metadata": {},
   "outputs": [],
   "source": [
    "#向前幾頁\n",
    "kpage = 5\n",
    "for i in range(1,kpage):\n",
    "    driver.find_element_by_xpath('//*[@id=\"content\"]/div/div/div[2]/main/div[4]/div[1]/nav/div/div/div[1]/div[1]/div[1]/div[1]').click()"
   ]
  },
  {
   "cell_type": "code",
   "execution_count": 85,
   "metadata": {
    "scrolled": true
   },
   "outputs": [
    {
     "ename": "SyntaxError",
     "evalue": "invalid syntax (<ipython-input-85-611a40a07958>, line 1)",
     "output_type": "error",
     "traceback": [
      "\u001b[1;36m  File \u001b[1;32m\"<ipython-input-85-611a40a07958>\"\u001b[1;36m, line \u001b[1;32m1\u001b[0m\n\u001b[1;33m    (/*[@id=\"content\"]/div/div/div[2]/main/div[4]/div[1]/nav/div/div/div[1]/div[2]/div[3]/div[3]/div)\u001b[0m\n\u001b[1;37m     ^\u001b[0m\n\u001b[1;31mSyntaxError\u001b[0m\u001b[1;31m:\u001b[0m invalid syntax\n"
     ]
    }
   ],
   "source": [
    "//*[@id=\"content\"]/div/div/div[2]/main/div[4]/div[1]/nav/div/div/div[1]/div[2]/div[3]/div[3]/div\n",
    "//*[@id=\"content\"]/div/div/div[2]/main/div[4]/div[1]/nav/div/div/div[1]/div[2]/div[3]/div[4]/div\n",
    "\n",
    "\n",
    "//*[@id=\"content\"]/div/div/div[2]/main/div[4]/div[1]/nav/div/div/div[1]/div[1]/div[2]/div[7]/div\n",
    "//*[@id=\"content\"]/div/div/div[2]/main/div[4]/div[1]/nav/div/div/div[1]/div[1]/div[3]/div[7]/div\n",
    "//*[@id=\"content\"]/div/div/div[2]/main/div[4]/div[1]/nav/div/div/div[1]/div[1]/div[4]/div[7]/div\n",
    "//*[@id=\"content\"]/div/div/div[2]/main/div[4]/div[1]/nav/div/div/div[1]/div[1]/div[2]/div[4]/div\n",
    "//*[@id=\"content\"]/div/div/div[2]/main/div[4]/div[1]/nav/div/div/div[1]/div[1]/div[3]/div[1]/div"
   ]
  },
  {
   "cell_type": "code",
   "execution_count": 95,
   "metadata": {},
   "outputs": [],
   "source": [
    "driver.find_element_by_xpath(' //*[@id=\"content\"]/div/div/div[2]/main/div[4]/div[1]/nav/div/div/div[1]/div[1]/div[2]/div[7]/div ').click()\n"
   ]
  },
  {
   "cell_type": "code",
   "execution_count": 92,
   "metadata": {},
   "outputs": [],
   "source": [
    "#確認鍵\n",
    "driver.find_element_by_xpath('//*[@id=\"content\"]/div/div/div[2]/main/div[4]/div[1]/nav/div/div/div[2]/button[1]').click()\n"
   ]
  },
  {
   "cell_type": "code",
   "execution_count": null,
   "metadata": {},
   "outputs": [],
   "source": [
    "<input type=\"text\" value=\"2019/03/31 - 2019/04/10\" readonly=\"\" data-reactid=\"230\">"
   ]
  }
 ],
 "metadata": {
  "kernelspec": {
   "display_name": "Python 3",
   "language": "python",
   "name": "python3"
  },
  "language_info": {
   "codemirror_mode": {
    "name": "ipython",
    "version": 3
   },
   "file_extension": ".py",
   "mimetype": "text/x-python",
   "name": "python",
   "nbconvert_exporter": "python",
   "pygments_lexer": "ipython3",
   "version": "3.6.5"
  }
 },
 "nbformat": 4,
 "nbformat_minor": 2
}
