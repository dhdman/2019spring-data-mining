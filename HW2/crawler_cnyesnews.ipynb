{
 "cells": [
  {
   "cell_type": "markdown",
   "metadata": {},
   "source": [
    "# 按照自由時報那篇格式處理\n",
    "[助教的程式碼](https://github.com/MiccWan/Political-News-Analysis/blob/master/crawler/new_talk_crawler.ipynb)"
   ]
  },
  {
   "cell_type": "code",
   "execution_count": 5,
   "metadata": {},
   "outputs": [],
   "source": [
    "from selenium import webdriver\n",
    "import numpy as np\n",
    "import pandas as pd\n",
    "import time\n",
    "import requests\n",
    "from bs4 import BeautifulSoup as bs\n",
    "from selenium import webdriver\n",
    "from pathlib import Path, PureWindowsPath\n",
    "from selenium.webdriver.chrome.options import Options\n",
    "\n",
    "import sys\n",
    "import pickle\n",
    "import requests\n",
    "from datetime import datetime\n"
   ]
  },
  {
   "cell_type": "code",
   "execution_count": null,
   "metadata": {},
   "outputs": [],
   "source": [
    "\n",
    "# 參考用的\n",
    "def process_document(document, date):\n",
    "    \n",
    "   \n",
    "    nodes = document.select('ul.list > li')\n",
    "    #nodes = document.find_all(class_=\"_2bF theme-list\")\n",
    "    \n",
    "    data = list()\n",
    "\n",
    "    for li in nodes:\n",
    "        # check if is empty element\n",
    "        if li.select_one('a') == None:\n",
    "            continue\n",
    "\n",
    "        # get link\n",
    "        li_link = 'http://news.ltn.com.tw/' + li.select_one('a')['href']\n",
    "        #li_link = 'https://news.cnyes.com' + li.select_one('a')['href']\n",
    "        \n",
    "\n",
    "        # request for document\n",
    "        li_res = requests.get(li_link)\n",
    "        li_doc = bs(li_res.text, 'lxml')\n",
    "\n",
    "        # get date\n",
    "        li_date = datetime.strptime(date, \"%Y%m%d\").strftime('%Y-%m-%d')\n",
    "\n",
    "        #get title\n",
    "        li_title = li.select_one('p').get_text()\n",
    "\n",
    "        #get content\n",
    "        li_content = \"\"\n",
    "        for ele in li_doc.select('div.text > p'):\n",
    "            if not 'appE1121' in ele.get('class', []):\n",
    "                li_content += ele.get_text()\n",
    "\n",
    "        # append new row\n",
    "        data.append({\n",
    "            'date' : li_date,\n",
    "            'title': li_title,\n",
    "            'link' : li_link,\n",
    "            'content' : li_content,\n",
    "            'tags' : []\n",
    "        })\n",
    "    return data"
   ]
  },
  {
   "cell_type": "code",
   "execution_count": 7,
   "metadata": {},
   "outputs": [],
   "source": [
    "res = requests.get('https://news.cnyes.com/news/cat/tw_stock_news')\n",
    "doc = bs(res.text, 'lxml')\n"
   ]
  },
  {
   "cell_type": "code",
   "execution_count": 68,
   "metadata": {},
   "outputs": [
    {
     "data": {
      "text/plain": [
       "'/news/id/4298273'"
      ]
     },
     "execution_count": 68,
     "metadata": {},
     "output_type": "execute_result"
    }
   ],
   "source": [
    "#nodes = doc.find_all(class_=\"_2bF theme-list\")\n",
    "nodes = doc.find_all(class_=\"_1Zd\")\n",
    "nodes[0].get('href')"
   ]
  },
  {
   "cell_type": "code",
   "execution_count": 69,
   "metadata": {},
   "outputs": [
    {
     "data": {
      "text/plain": [
       "[{'link': 'https://news.cnyes.com/news/id/4298273'},\n",
       " {'link': 'https://news.cnyes.com/news/id/4298156'},\n",
       " {'link': 'https://news.cnyes.com/news/id/4298364'},\n",
       " {'link': 'https://news.cnyes.com/news/id/4298061'},\n",
       " {'link': 'https://news.cnyes.com/news/id/4298088'},\n",
       " {'link': 'https://news.cnyes.com/news/id/4298217'},\n",
       " {'link': 'https://news.cnyes.com/news/id/4297439'},\n",
       " {'link': 'https://news.cnyes.com/news/id/4298253'},\n",
       " {'link': 'https://news.cnyes.com/news/id/4298342'},\n",
       " {'link': 'https://news.cnyes.com/news/id/4298060'},\n",
       " {'link': 'https://news.cnyes.com/news/id/4297850'},\n",
       " {'link': 'https://news.cnyes.com/news/id/4298085'},\n",
       " {'link': 'https://news.cnyes.com/news/id/4297435'},\n",
       " {'link': 'https://news.cnyes.com/news/id/4298279'},\n",
       " {'link': 'https://news.cnyes.com/news/id/4298144'},\n",
       " {'link': 'https://news.cnyes.com/news/id/4297568'},\n",
       " {'link': 'https://news.cnyes.com/news/id/4298252'},\n",
       " {'link': 'https://news.cnyes.com/news/id/4297438'},\n",
       " {'link': 'https://news.cnyes.com/news/id/4298305'},\n",
       " {'link': 'https://news.cnyes.com/news/id/4298286'},\n",
       " {'link': 'https://news.cnyes.com/news/id/4298284'},\n",
       " {'link': 'https://news.cnyes.com/news/id/4298269'},\n",
       " {'link': 'https://news.cnyes.com/news/id/4298277'},\n",
       " {'link': 'https://news.cnyes.com/news/id/4298086'},\n",
       " {'link': 'https://news.cnyes.com/news/id/4297721'},\n",
       " {'link': 'https://news.cnyes.com/news/id/4298275'},\n",
       " {'link': 'https://news.cnyes.com/news/id/4298272'},\n",
       " {'link': 'https://news.cnyes.com/news/id/4297719'},\n",
       " {'link': 'https://news.cnyes.com/news/id/4298025'},\n",
       " {'link': 'https://news.cnyes.com/news/id/4298235'}]"
      ]
     },
     "execution_count": 69,
     "metadata": {},
     "output_type": "execute_result"
    }
   ],
   "source": [
    "data = list()\n",
    "for li in nodes:\n",
    "        # get link\n",
    "        li_link = 'https://news.cnyes.com' + li.get('href')\n",
    "        data.append({\n",
    "            'link' : li_link\n",
    "        })\n",
    "data"
   ]
  },
  {
   "cell_type": "code",
   "execution_count": null,
   "metadata": {},
   "outputs": [],
   "source": [
    "<a class=\"_1Zd\" title=\"〈Q2產業景氣展望〉華為手機出貨旺 散熱、砷化鎵族群Q2營運添動能\" href=\"/news/id/4298273\" style=\"display: block;\"><div class=\"_67t theme-meta\"><time datetime=\"2019-04-07T16:30:06+08:00\">16:30</time><div class=\"_jFb theme-sub-cat\">台股新聞</div></div><div class=\"_1xc\"><h3>〈Q2產業景氣展望〉華為手機出貨旺 散熱、砷化鎵族群Q2營運添動能</h3><figure class=\"\"><img src=\"https://cimg.cnyes.cool/prod/news/4298273/xs/b6168fe977414bb74f79345108bae357.jpg\" srcset=\"https://cimg.cnyes.cool/prod/news/4298273/xs/b6168fe977414bb74f79345108bae357.jpg 1x,https://cimg.cnyes.cool/prod/news/4298273/s/b6168fe977414bb74f79345108bae357.jpg 2x,https://cimg.cnyes.cool/prod/news/4298273/m/b6168fe977414bb74f79345108bae357.jpg 3x\" alt=\"\"><!-- react-text: 2587 --><!-- /react-text --></figure></div></a>"
   ]
  }
 ],
 "metadata": {
  "kernelspec": {
   "display_name": "Python 3",
   "language": "python",
   "name": "python3"
  },
  "language_info": {
   "codemirror_mode": {
    "name": "ipython",
    "version": 3
   },
   "file_extension": ".py",
   "mimetype": "text/x-python",
   "name": "python",
   "nbconvert_exporter": "python",
   "pygments_lexer": "ipython3",
   "version": "3.6.5"
  }
 },
 "nbformat": 4,
 "nbformat_minor": 2
}
