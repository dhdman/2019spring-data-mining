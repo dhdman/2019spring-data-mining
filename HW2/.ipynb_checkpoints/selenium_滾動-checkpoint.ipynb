{
 "cells": [
  {
   "cell_type": "code",
   "execution_count": null,
   "metadata": {},
   "outputs": [],
   "source": [
    "from selenium import webdriver\n",
    "from time import sleep\n",
    "\n",
    "url = \"https://news.cnyes.com/news/cat/tw_stock\"\n",
    "\n",
    "chrome  = webdriver.Chrome()\n",
    "\n",
    "chrome.get(url)\n",
    "\n",
    "sleep(5)\n",
    "\n",
    "js = \"document.documentElement.scrollTop = 10000\"\n",
    "\n",
    "chrome.execute_script(js)"
   ]
  }
 ],
 "metadata": {
  "kernelspec": {
   "display_name": "Python 3",
   "language": "python",
   "name": "python3"
  },
  "language_info": {
   "codemirror_mode": {
    "name": "ipython",
    "version": 3
   },
   "file_extension": ".py",
   "mimetype": "text/x-python",
   "name": "python",
   "nbconvert_exporter": "python",
   "pygments_lexer": "ipython3",
   "version": "3.7.3"
  }
 },
 "nbformat": 4,
 "nbformat_minor": 2
}
