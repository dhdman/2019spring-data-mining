{
 "cells": [
  {
   "cell_type": "markdown",
   "metadata": {},
   "source": [
    "# 工商時報的共矩陣"
   ]
  },
  {
   "cell_type": "code",
   "execution_count": 1,
   "metadata": {},
   "outputs": [
    {
     "name": "stderr",
     "output_type": "stream",
     "text": [
      "paramiko missing, opening SSH/SCP/SFTP paths will be disabled.  `pip install paramiko` to suppress\n"
     ]
    }
   ],
   "source": [
    "import os\n",
    "import jieba\n",
    "import numpy as np\n",
    "from collections import Counter\n",
    "# pip install gensim\n",
    "from gensim.corpora import Dictionary"
   ]
  },
  {
   "cell_type": "markdown",
   "metadata": {},
   "source": [
    "### 讀入stopwords"
   ]
  },
  {
   "cell_type": "code",
   "execution_count": 2,
   "metadata": {},
   "outputs": [
    {
     "name": "stderr",
     "output_type": "stream",
     "text": [
      "Building prefix dict from C:\\Users\\R\\Desktop\\github檔案\\2019spring-data-mining\\HW2\\jieba_data\\dict.txt.big ...\n",
      "Loading model from cache C:\\Users\\R\\AppData\\Local\\Temp\\jieba.u9a9d1ba96cca8ebf92c3837ab3abc275.cache\n",
      "Loading model cost 1.347 seconds.\n",
      "Prefix dict has been built succesfully.\n"
     ]
    }
   ],
   "source": [
    "stopwords = []\n",
    "jieba.set_dictionary('./jieba_data/dict.txt.big')\n",
    "jieba.load_userdict('./jieba_data/userdict.txt')\n",
    "\n",
    "with open('./jieba_data/stopwords.txt', 'r', encoding='UTF-8') as file:\n",
    "    for data in file.readlines():\n",
    "        data = data.strip()\n",
    "        stopwords.append(data)"
   ]
  },
  {
   "cell_type": "code",
   "execution_count": 3,
   "metadata": {},
   "outputs": [],
   "source": [
    "def getTokens(text):\n",
    "    tokens = []\n",
    "    if len(text) > 0:\n",
    "        segments = jieba.cut(text,cut_all=False)\n",
    "        for t in segments:\n",
    "            t = t.strip()\n",
    "            if not t in stopwords:\n",
    "                tokens.append(t)\n",
    "    return tokens"
   ]
  },
  {
   "cell_type": "code",
   "execution_count": 4,
   "metadata": {},
   "outputs": [],
   "source": [
    "def getText(filename):\n",
    "    with open(filename,'r', encoding='UTF-8') as file:\n",
    "        lines = file.readlines()\n",
    "        \n",
    "    news_title = lines[2]\n",
    "    news_body = lines[3]\n",
    "    text = news_title + news_body\n",
    "    return(text)    "
   ]
  },
  {
   "cell_type": "markdown",
   "metadata": {},
   "source": [
    "### 取出全部文件(180個)的內容做斷詞"
   ]
  },
  {
   "cell_type": "code",
   "execution_count": 5,
   "metadata": {},
   "outputs": [],
   "source": [
    "text = ''\n",
    "dir_path = './ctee_TSMC'\n",
    "for file in os.listdir(dir_path):\n",
    "    file_path = os.path.join(dir_path,file)\n",
    "    if os.path.isfile(file_path) and not file.startswith('.'):\n",
    "        text = text + getText(file_path)\n",
    "\n",
    "tokens = getTokens(text)"
   ]
  },
  {
   "cell_type": "markdown",
   "metadata": {},
   "source": [
    "### 共有約2萬個詞"
   ]
  },
  {
   "cell_type": "code",
   "execution_count": 6,
   "metadata": {
    "scrolled": true
   },
   "outputs": [
    {
     "name": "stdout",
     "output_type": "stream",
     "text": [
      "19702\n"
     ]
    }
   ],
   "source": [
    "print(len(tokens))"
   ]
  },
  {
   "cell_type": "code",
   "execution_count": 7,
   "metadata": {},
   "outputs": [
    {
     "data": {
      "text/plain": [
       "['摩爾定律', '推進', '台積電', '領先', '布局', '奈米', '奈米', '|', '科技', '脈動']"
      ]
     },
     "execution_count": 7,
     "metadata": {},
     "output_type": "execute_result"
    }
   ],
   "source": [
    "tokens[0:10]"
   ]
  },
  {
   "cell_type": "code",
   "execution_count": 8,
   "metadata": {},
   "outputs": [],
   "source": [
    "#counter = Counter(tokens)\n",
    "#print(len(counter))"
   ]
  },
  {
   "cell_type": "code",
   "execution_count": 9,
   "metadata": {},
   "outputs": [],
   "source": [
    "#counter"
   ]
  },
  {
   "cell_type": "markdown",
   "metadata": {},
   "source": [
    "### 共有約5000個不重複詞"
   ]
  },
  {
   "cell_type": "markdown",
   "metadata": {},
   "source": [
    "# 修改處\n",
    "# 加入助教篩選字詞意義的方式"
   ]
  },
  {
   "cell_type": "code",
   "execution_count": 10,
   "metadata": {},
   "outputs": [
    {
     "data": {
      "text/plain": [
       "[('台積電', 435), ('工商時報', 197)]"
      ]
     },
     "execution_count": 10,
     "metadata": {},
     "output_type": "execute_result"
    }
   ],
   "source": [
    "from tamodules import *\n",
    "cutted_dict = get_cutted_dict(tokens)\n",
    "high_freq_pair = first_n_words(cutted_dict, 500)\n",
    "high_freq_pair[0:2]"
   ]
  },
  {
   "cell_type": "code",
   "execution_count": 11,
   "metadata": {},
   "outputs": [
    {
     "name": "stdout",
     "output_type": "stream",
     "text": [
      "['台積電', '工商時報', '億元', '台積', '奈米', '營收', '外資', '製程', '今日焦點', '積電', '市場', '10', '晶圓', '台股', '法人', '成長', '去年', '科技', '股價', '代工', '脈動', '股利', '預期', '龍頭', '半導體', '現金', '2330', '買超', '新高', '第一季', '台灣', '12', '市值', '晶片', '蘋果', '影響', '指出', '產業', '技術', '先進', '新台幣', '可望', '客戶', '上漲', '公司', '每股', '持續', '設計', '營運', '第四季', '全球', '投資', '獲利', '證券', '產能', '董事長', '手機', '歷史', '預估', '訂單', '指數', '合併', '11', '處理器', '張忠謀', '未來', '大立光', '16', '董事會', '明年', '減少', '個股', '億美元', '2019年', '展望', '包括', '帶動', '財經', '2018年', '毛利率', '發展', '美元', '表現', '增加', '聯發科', '全年', '受惠', '13', '需求', '業績', '出貨', '兆元', '2020年', '產品', '14', '漲幅', '行情', '即時新聞', '事件', '創新', '20', '盤中', '第二季', '創意', '配發', '營收達', '大陸', '看好', '量產', '震盪', '季減', '稅後', '紀錄', '英特爾', '優於', '企業', '營業', '淨利', '資金', '11月', '31', '去年同期', '運算', '動能', '權值', '評等', '比特', '加上', '發放', '鴻海', '21', '核准', '南京', '超過', '18', '金額', '利益', '機會', '員工', '國際', '大漲', '30', '17', '美國', '資本', '智慧型', '28', '上半年', '權證', '利率', '目標', '近期', '提供', '符合', '最新', '公布', '19', '計畫', '分析師', '布局', '300', '貢獻', '樂觀', '推升', '要聞', '預計', '相關', '下滑', '盈餘', '供應鏈', '報導', '首季', '人工智慧', '一度', '下半年', '放量', '三星', '股東', '第三季', '今日', '25', '買盤', '智慧', '15', '矽智財', '鏡頭', '領先', '大廠', '平均', '下修', '面臨', '交易日', '賣超', '財測', '進一步', '公告', '超微', '挖礦', '淡季', '來看', '對台', '強勁', '導致', '22', '銷售', '財報', '三大', '順利', '排名', '投資人', '劉德音', '提升', '生產', '業界', '上市', '日前', '政策', '12月', '百分點', '第一', '70', '股市', '波段', '磋商', '000', '支援', '單季', '2017', '台幣', '執行長', '財務', '庫存', '仍將', '衝擊', '連續', '法說', '推出', '華為', '世界', '股東會', '目標價', '之間', '38', '同步', '一年', '電子', '累計', '利空', '留意', '開發', '申請', '電將', '創下', '電在', '說明會', '魏哲家', '多頭', '今早', '來到', '正式', '情況', '試產', '採用', '賣壓', '考量', '走揚', '55', '小跌', '穩定', '南科', '開出', '突破', '傳出', '年度', '年增', '里昂', '普通股', '機構', '規劃', '大學', '投顧', '壓力', '反彈', '介於', '向上', '整體', '調升', '領域', '銀行', '67', '報廢', '每季', '升息', '履歷', '美元匯率', '大關', '超越', '再創新高', '升值', '高點', '拿下', '高通', '來自', '成熟', '激勵', '再創', '大盤', '26', '關注', '月營', '季營收', '有望', '繪圖', '輝達', '達成', '一路', '經濟', '股權', '將於', '建廠', '50', '先前', '挑戰', '關鍵', '37', '39', '41', '平台', '貨幣', '支撐', '配息', '投片', '薪酬', '希望', '保守', '歸屬', '母公司', '85', '貿易戰', '估計', '官股', '合計', '89', '基金', '衰退', '貿易', '青年', '54', '大立', '年減', '方式', '104', '凱升', '世代', '匯率', '77', '跌破', '價值', '比重', '加權指數', '將在', '科技股', '本周', '指標', '動態', '改寫', '80', '預算', '風險', '時間', '除息', '登場', '低於', '百大', '24', '摩根士丹利', '同期', '區間', '工業', '之上', '走勢', '退休', '支持', '環球', '題材', '啟動', '興建', '服務', '降評', '競爭', '合作', '交易', '營收將', '觀察', '上周五', '小漲', '裝置', '47', '長線', '預測', '推測', '萬元', '新低', '81', '早盤', '成交量', '新鮮', '提高', '系統', '高階', '漲停', '德意志', '技術論壇', '提出', '能力', '年線', '力道', '基本面', '跳空', '電腦病毒', '擔憂', '高達', '車用', '透過', '利用率', '社會', '計劃', '工作', '顯示', '股息', '專利', '美股', '走高', '陸美', '益航', '人力', '高檔', '副總', '長期', '針對', '元為', '昨日', '一口氣', '於今', '趨勢', '高效能', '開盤', '支出', '電源', '23', '短線', '關卡', '下跌', '08', '跌幅', '成功', '86', '旗下', '報告', '本季', '上海', '中國', '逆勢', '晶圓廠', '29', '領軍', '族群', '日台', '79', '夥伴', '季度', '製造', '大摩', '電第', '設備', '業者', '滿載', '第三', '大幅', '84', '價格', '站上', '83', '終場', '廣達', '舉辦', '兩檔', '商機', '較前年', '認購', '93', '投信', '回補', '正面', '紫外光', '94', '看法', '季營', '循環', '優勢']\n"
     ]
    }
   ],
   "source": [
    "all_tokens = []\n",
    "for t in high_freq_pair:\n",
    "    all_tokens.append(t[0])\n",
    "\n",
    "print(all_tokens)    "
   ]
  },
  {
   "cell_type": "markdown",
   "metadata": {},
   "source": [
    "### 取出詞頻最高前500個詞(原本的方式)"
   ]
  },
  {
   "cell_type": "raw",
   "metadata": {},
   "source": [
    "#top_tokens_tuple = (字詞,出現次數)\n",
    "top_tokens_tuple = counter.most_common(500)\n",
    "all_tokens = []\n",
    "for t in top_tokens_tuple:\n",
    "    all_tokens.append(t[0])\n",
    "\n",
    "print(all_tokens)"
   ]
  },
  {
   "cell_type": "markdown",
   "metadata": {},
   "source": [
    "### 過濾掉沒有在top 500裡的詞"
   ]
  },
  {
   "cell_type": "code",
   "execution_count": 12,
   "metadata": {},
   "outputs": [],
   "source": [
    "def filterTokens(tokens):\n",
    "    global all_tokens\n",
    "    filtered_tokens = []\n",
    "    for t in tokens:\n",
    "        if t in all_tokens:\n",
    "            filtered_tokens.append(t)\n",
    "    return filtered_tokens"
   ]
  },
  {
   "cell_type": "code",
   "execution_count": 13,
   "metadata": {},
   "outputs": [],
   "source": [
    "doc_tokens = []\n",
    "dir_path = './ctee_TSMC'\n",
    "for file in os.listdir(dir_path):\n",
    "    file_path = os.path.join(dir_path,file)\n",
    "    if os.path.isfile(file_path) and not file.startswith('.'):\n",
    "        wanted_tokens = []\n",
    "        text = getText(file_path)\n",
    "        tokens = getTokens(text)\n",
    "        tokens2 = filterTokens(tokens)\n",
    "        doc_tokens.append(tokens2)"
   ]
  },
  {
   "cell_type": "code",
   "execution_count": 14,
   "metadata": {},
   "outputs": [
    {
     "data": {
      "text/plain": [
       "['台積電',\n",
       " '領先',\n",
       " '布局',\n",
       " '奈米',\n",
       " '奈米',\n",
       " '科技',\n",
       " '脈動',\n",
       " '今日焦點',\n",
       " '工商時報',\n",
       " '持續',\n",
       " '代工',\n",
       " '龍頭',\n",
       " '台積',\n",
       " '技術',\n",
       " '創新',\n",
       " '可望',\n",
       " '先進',\n",
       " '製程',\n",
       " '持續',\n",
       " '奈米',\n",
       " '奈米',\n",
       " '世代',\n",
       " '台積',\n",
       " '電將',\n",
       " '000',\n",
       " '億元',\n",
       " '資金',\n",
       " '支援',\n",
       " '奈米',\n",
       " '奈米',\n",
       " '產能']"
      ]
     },
     "execution_count": 14,
     "metadata": {},
     "output_type": "execute_result"
    }
   ],
   "source": [
    "doc_tokens[0]"
   ]
  },
  {
   "cell_type": "markdown",
   "metadata": {},
   "source": [
    "### 稀疏矩陣"
   ]
  },
  {
   "cell_type": "code",
   "execution_count": 15,
   "metadata": {},
   "outputs": [],
   "source": [
    "sparse_matrix = []\n",
    "\n",
    "dir_path = './ctee_TSMC'\n",
    "for file in os.listdir(dir_path):\n",
    "    file_path = os.path.join(dir_path,file)\n",
    "    if os.path.isfile(file_path) and not file.startswith('.'):\n",
    "        text = getText(file_path)\n",
    "        tokens = getTokens(text)\n",
    "        doc_to_term = []\n",
    "        for t in all_tokens:\n",
    "            if t in tokens:\n",
    "                doc_to_term.append(1)\n",
    "            else:\n",
    "                doc_to_term.append(0)\n",
    "        sparse_matrix.append(doc_to_term)"
   ]
  },
  {
   "cell_type": "markdown",
   "metadata": {},
   "source": [
    "### 共現矩陣"
   ]
  },
  {
   "cell_type": "code",
   "execution_count": 16,
   "metadata": {},
   "outputs": [],
   "source": [
    "def co_occurrence_matrix(ls):\n",
    "    global matrix\n",
    "    length = len(ls)\n",
    "    for i in range(length):\n",
    "        for j in range(length):\n",
    "            if i != j:\n",
    "                #同一篇文章中 單詞和除了本身的單詞 出現次數+1\n",
    "                matrix[[ls[i]], [ls[j]]] += 1"
   ]
  },
  {
   "cell_type": "code",
   "execution_count": 17,
   "metadata": {},
   "outputs": [],
   "source": [
    "dimension = len(all_tokens)\n",
    "matrix = np.matrix([[0] * dimension] * dimension)\n",
    "\n",
    "dt = Dictionary(doc_tokens).token2id\n",
    "\n",
    "# dt[doc_tokens[0][1]] = dt['領先']\n",
    "# 將文字經過dt換成所代表數字\n",
    "doc_token_ids = [[dt[word] for word in words] for words in doc_tokens]\n",
    "\n",
    "for ids in doc_token_ids:\n",
    "    co_occurrence_matrix(ids)"
   ]
  },
  {
   "cell_type": "code",
   "execution_count": 18,
   "metadata": {},
   "outputs": [
    {
     "name": "stdout",
     "output_type": "stream",
     "text": [
      "{'000': 0, '世代': 1, '今日焦點': 2, '代工': 3, '億元': 4, '先進': 5, '創新': 6, '可望': 7, '台積': 8, '台積電': 9, '奈米': 10, '工商時報': 11, '布局': 12, '技術': 13, '持續': 14, '支援': 15, '產能': 16, '科技': 17, '脈動': 18, '製程': 19, '資金': 20, '電將': 21, '領先': 22, '龍頭': 23, '11月': 24, '個股': 25, '出貨': 26, '創下': 27, '受惠': 28, '合併': 29, '單季': 30, '大廠': 31, '新高': 32, '晶圓': 33, '機會': 34, '歷史': 35, '法人': 36, '營收': 37, '營收達': 38, '產業': 39, '目標': 40, '第四季': 41, '紀錄': 42, '蘋果': 43, '處理器': 44, '順利': 45, '高檔': 46, '副總': 47, '台灣': 48, '張忠謀': 49, '營運': 50, '董事長': 51, '10': 52, '供應鏈': 53, '公司': 54, '積電': 55, '長期': 56, '員工': 57, '報導': 58, '大陸': 59, '近期': 60, '針對': 61, '2330': 62, '元為': 63, '台股': 64, '股價': 65, '31': 66, '匯率': 67, '去年': 68, '大關': 69, '市場': 70, '平均': 71, '影響': 72, '新台幣': 73, '美元匯率': 74, '表現': 75, '電在': 76, '預估': 77, '首季': 78, '2017': 79, '去年同期': 80, '增加': 81, '300': 82, '排名': 83, '跌破': 84, '鴻海': 85, '價值': 86, '億美元': 87, '半導體': 88, '國際': 89, '外資': 90, '市值': 91, '投資人': 92, '指出': 93, '比重': 94, '英特爾': 95, '超越': 96, '21': 97, '30': 98, '一口氣': 99, '兆元': 100, '再創新高': 101, '加權指數': 102, '大漲': 103, '投資': 104, '昨日': 105, '獲利': 106, '貢獻': 107, '台幣': 108, '13': 109, '劉德音': 110, '升值': 111, '執行長': 112, '於今': 113, '美國': 114, '說明會': 115, '財務': 116, '預期': 117, '魏哲家': 118, '2020年': 119, '下修': 120, '人工智慧': 121, '仍將': 122, '優於': 123, '動能': 124, '將在': 125, '庫存': 126, '成長': 127, '提升': 128, '晶片': 129, '看好': 130, '趨勢': 131, '運算': 132, '高效能': 133, '今早': 134, '多頭': 135, '盤中': 136, '科技股': 137, '開盤': 138, '高點': 139, '指標': 140, '本周': 141, '80': 142, '一度': 143, '來到': 144, '動態': 145, '手機': 146, '改寫': 147, '衝擊': 148, '核准': 149, '董事會': 150, '資本': 151, '預算': 152, '全球': 153, '量產': 154, '下半年': 155, '客戶': 156, '情況': 157, '拿下': 158, '支出': 159, '放量': 160, '正式': 161, '第二季': 162, '訂單': 163, '電源': 164, '高通': 165, '12': 166, '2019年': 167, '三星': 168, '來自': 169, '採用': 170, '提供': 171, '時間': 172, '智慧型': 173, '設計': 174, '試產': 175, '面臨': 176, '風險': 177, '成熟': 178, '發展': 179, '再創': 180, '權值': 181, '激勵': 182, '股東': 183, '23': 184, '交易日': 185, '大盤': 186, '指數': 187, '漲幅': 188, '短線': 189, '賣壓': 190, '賣超': 191, '除息': 192, '震盪': 193, '11': 194, '26': 195, '低於': 196, '展望': 197, '樂觀': 198, '登場': 199, '第三季': 200, '考量': 201, '行情': 202, '證券': 203, '財測': 204, '關卡': 205, '24': 206, '28': 207, '企業': 208, '百大': 209, '連續': 210, '推升': 211, '摩根士丹利': 212, '產品': 213, '走揚': 214, '進一步': 215, '下跌': 216, '每股': 217, '法說': 218, '美元': 219, '買超': 220, '跌幅': 221, '關注': 222, '公告': 223, '區間': 224, '同期': 225, '季營收': 226, '成功': 227, '月營': 228, '有望': 229, '符合': 230, '上半年': 231, '明年': 232, '繪圖': 233, '超微': 234, '16': 235, '包括': 236, '推出': 237, '旗下': 238, '聯發科': 239, '華為': 240, '要聞': 241, '輝達': 242, '一路': 243, '報告': 244, '達成': 245, '小跌': 246, '世界': 247, '今日': 248, '帶動': 249, '本季': 250, '穩定': 251, '預計': 252, '工業': 253, '最新': 254, '評等': 255, '上海': 256, '中國': 257, '南京': 258, '未來': 259, '生產': 260, '19': 261, '之上': 262, '公布': 263, '走勢': 264, '逆勢': 265, '29': 266, '晶圓廠': 267, '經濟': 268, '業界': 269, '股東會': 270, '退休': 271, '領軍': 272, '上市': 273, '上漲': 274, '支持': 275, '族群': 276, '日台': 277, '環球': 278, '南科': 279, '將於': 280, '股權': 281, '開出': 282, '25': 283, '突破': 284, '買盤': 285, '題材': 286, '夥伴': 287, '超過': 288, '14': 289, '啟動': 290, '季度': 291, '建廠': 292, '興建': 293, '計畫': 294, '傳出': 295, '日前': 296, '服務': 297, '相關': 298, '製造': 299, '下滑': 300, '大摩': 301, '智慧': 302, '目標價': 303, '競爭': 304, '降評': 305, '電第': 306, '需求': 307, '政策': 308, '營業': 309, '財經': 310, '18': 311, '合作': 312, '年度': 313, '金額': 314, '50': 315, '交易': 316, '業者': 317, '設備': 318, '創意': 319, '挖礦': 320, '比特': 321, '淡季': 322, '減少': 323, '滿載': 324, '第一季': 325, '先前': 326, '12月': 327, '2018年': 328, '之間': 329, '來看': 330, '利益': 331, '即時新聞': 332, '大幅': 333, '挑戰': 334, '毛利率': 335, '營收將': 336, '百分點': 337, '第三': 338, '觀察': 339, '關鍵': 340, '上周五': 341, '全年': 342, '對台': 343, '小漲': 344, '平台': 345, '年增': 346, '業績': 347, '裝置': 348, '價格': 349, '分析師': 350, '貨幣': 351, '季減': 352, '現金': 353, '股利': 354, '加上': 355, '推測': 356, '站上': 357, '里昂': 358, '長線': 359, '預測': 360, '同步': 361, '支撐': 362, '普通股': 363, '發放': 364, '萬元': 365, '配息': 366, '配發': 367, '新低': 368, '成交量': 369, '早盤': 370, '投片': 371, '機構': 372, '規劃': 373, '17': 374, '20': 375, '終場': 376, '大學': 377, '新鮮': 378, '薪酬': 379, '廣達': 380, '提高': 381, '一年': 382, '淨利': 383, '盈餘': 384, '矽智財': 385, '稅後': 386, '系統': 387, '舉辦': 388, '高階': 389, '強勁': 390, '兩檔': 391, '希望': 392, '保守': 393, '商機': 394, '德意志': 395, '投顧': 396, '漲停': 397, '較前年': 398, '壓力': 399, '技術論壇': 400, '提出': 401, '能力': 402, '導致': 403, '年線': 404, '力道': 405, '反彈': 406, '基本面': 407, '權證': 408, '認購': 409, '電子': 410, '歸屬': 411, '母公司': 412, '累計': 413, '15': 414, '利空': 415, '回補': 416, '投信': 417, '留意': 418, '跳空': 419, '79': 420, '事件': 421, '介於': 422, '電腦病毒': 423, '擔憂': 424, '正面': 425, '紫外光': 426, '向上': 427, '看法': 428, '貿易戰': 429, '85': 430, '估計': 431, '季營': 432, '整體': 433, '循環': 434, '優勢': 435, '調升': 436, '領域': 437, '合計': 438, '大立光': 439, '官股': 440, '高達': 441, '銷售': 442, '車用': 443, '透過': 444, '開發': 445, '第一': 446, '財報': 447, '基金': 448, '銀行': 449, '22': 450, '衰退': 451, '利用率': 452, '申請': 453, '貿易': 454, '39': 455, '67': 456, '70': 457, '工作': 458, '社會': 459, '計劃': 460, '青年': 461, '大立': 462, '波段': 463, '股市': 464, '鏡頭': 465, '顯示': 466, '三大': 467, '年減': 468, '利率': 469, '77': 470, '股息': 471, '報廢': 472, '專利': 473, '41': 474, '方式': 475, '每季': 476, '47': 477, '美股': 478, '37': 479, '升息': 480, '走高': 481, '84': 482, '磋商': 483, '陸美': 484, '凱升': 485, '益航': 486, '104': 487, '人力': 488, '履歷': 489}\n"
     ]
    }
   ],
   "source": [
    "print(dt)"
   ]
  },
  {
   "cell_type": "code",
   "execution_count": 19,
   "metadata": {},
   "outputs": [
    {
     "name": "stdout",
     "output_type": "stream",
     "text": [
      "[[4 1 3 ... 0 0 0]\n",
      " [1 8 2 ... 0 0 0]\n",
      " [3 2 0 ... 0 0 0]\n",
      " ...\n",
      " [0 0 0 ... 0 0 0]\n",
      " [0 0 0 ... 0 0 0]\n",
      " [0 0 0 ... 0 0 0]]\n"
     ]
    }
   ],
   "source": [
    "print(matrix)"
   ]
  },
  {
   "cell_type": "code",
   "execution_count": 20,
   "metadata": {},
   "outputs": [
    {
     "data": {
      "text/plain": [
       "('台積電', 435)"
      ]
     },
     "execution_count": 20,
     "metadata": {},
     "output_type": "execute_result"
    }
   ],
   "source": [
    "high_freq_pair[0]"
   ]
  },
  {
   "cell_type": "code",
   "execution_count": 21,
   "metadata": {
    "scrolled": true
   },
   "outputs": [
    {
     "data": {
      "text/plain": [
       "435"
      ]
     },
     "execution_count": 21,
     "metadata": {},
     "output_type": "execute_result"
    }
   ],
   "source": [
    "#查詢台積電出現次數\n",
    "dict(high_freq_pair)[\"台積電\"]"
   ]
  },
  {
   "cell_type": "code",
   "execution_count": 22,
   "metadata": {},
   "outputs": [
    {
     "name": "stdout",
     "output_type": "stream",
     "text": [
      "000\n",
      "世代\n",
      "今日焦點\n",
      "代工\n",
      "億元\n",
      "先進\n",
      "創新\n",
      "可望\n",
      "台積\n",
      "台積電\n"
     ]
    }
   ],
   "source": [
    "#字典轉換\n",
    "td = { v: k for k, v in dt.items() }\n",
    "for i in range(10):\n",
    "    print(td[i])"
   ]
  },
  {
   "cell_type": "code",
   "execution_count": 23,
   "metadata": {},
   "outputs": [],
   "source": [
    "import pandas as pd\n",
    "# dataframe.rename(index= dict1, columns= dict2)\n",
    "data = pd.DataFrame(matrix).rename(index=td,columns=td)\n"
   ]
  },
  {
   "cell_type": "code",
   "execution_count": 24,
   "metadata": {
    "scrolled": true
   },
   "outputs": [
    {
     "data": {
      "text/html": [
       "<div>\n",
       "<style scoped>\n",
       "    .dataframe tbody tr th:only-of-type {\n",
       "        vertical-align: middle;\n",
       "    }\n",
       "\n",
       "    .dataframe tbody tr th {\n",
       "        vertical-align: top;\n",
       "    }\n",
       "\n",
       "    .dataframe thead th {\n",
       "        text-align: right;\n",
       "    }\n",
       "</style>\n",
       "<table border=\"1\" class=\"dataframe\">\n",
       "  <thead>\n",
       "    <tr style=\"text-align: right;\">\n",
       "      <th></th>\n",
       "      <th>世代</th>\n",
       "      <th>今日焦點</th>\n",
       "      <th>代工</th>\n",
       "      <th>億元</th>\n",
       "      <th>先進</th>\n",
       "    </tr>\n",
       "  </thead>\n",
       "  <tbody>\n",
       "    <tr>\n",
       "      <th>世代</th>\n",
       "      <td>8</td>\n",
       "      <td>2</td>\n",
       "      <td>5</td>\n",
       "      <td>5</td>\n",
       "      <td>14</td>\n",
       "    </tr>\n",
       "    <tr>\n",
       "      <th>今日焦點</th>\n",
       "      <td>2</td>\n",
       "      <td>0</td>\n",
       "      <td>47</td>\n",
       "      <td>49</td>\n",
       "      <td>19</td>\n",
       "    </tr>\n",
       "    <tr>\n",
       "      <th>代工</th>\n",
       "      <td>5</td>\n",
       "      <td>47</td>\n",
       "      <td>26</td>\n",
       "      <td>92</td>\n",
       "      <td>42</td>\n",
       "    </tr>\n",
       "    <tr>\n",
       "      <th>億元</th>\n",
       "      <td>5</td>\n",
       "      <td>49</td>\n",
       "      <td>92</td>\n",
       "      <td>728</td>\n",
       "      <td>27</td>\n",
       "    </tr>\n",
       "    <tr>\n",
       "      <th>先進</th>\n",
       "      <td>14</td>\n",
       "      <td>19</td>\n",
       "      <td>42</td>\n",
       "      <td>27</td>\n",
       "      <td>44</td>\n",
       "    </tr>\n",
       "  </tbody>\n",
       "</table>\n",
       "</div>"
      ],
      "text/plain": [
       "      世代  今日焦點  代工   億元  先進\n",
       "世代     8     2   5    5  14\n",
       "今日焦點   2     0  47   49  19\n",
       "代工     5    47  26   92  42\n",
       "億元     5    49  92  728  27\n",
       "先進    14    19  42   27  44"
      ]
     },
     "execution_count": 24,
     "metadata": {},
     "output_type": "execute_result"
    }
   ],
   "source": [
    "data.iloc[1:6,1:6]"
   ]
  },
  {
   "cell_type": "code",
   "execution_count": 25,
   "metadata": {},
   "outputs": [
    {
     "data": {
      "text/plain": [
       "台積電     1250\n",
       "億元       578\n",
       "營收       531\n",
       "奈米       524\n",
       "台積       519\n",
       "工商時報     464\n",
       "Name: 台積電, dtype: int32"
      ]
     },
     "execution_count": 25,
     "metadata": {},
     "output_type": "execute_result"
    }
   ],
   "source": [
    "# 與台積電最相關的前k名的名稱和次數\n",
    "text = '台積電'\n",
    "arr = np.array(data.loc[text])\n",
    "k = 6\n",
    "# 看前k多的出現次數\n",
    "b = arr.argsort()[-k:][::-1]\n",
    "data.iloc[b,dt[text]]"
   ]
  },
  {
   "cell_type": "code",
   "execution_count": 26,
   "metadata": {
    "scrolled": true
   },
   "outputs": [
    {
     "data": {
      "text/plain": [
       "Index([ '000',   '世代', '今日焦點',   '代工',   '億元',   '先進',   '創新',   '可望',   '台積',\n",
       "        '台積電',\n",
       "       ...\n",
       "          490,    491,    492,    493,    494,    495,    496,    497,    498,\n",
       "          499],\n",
       "      dtype='object', length=500)"
      ]
     },
     "execution_count": 26,
     "metadata": {},
     "output_type": "execute_result"
    }
   ],
   "source": [
    "data.columns"
   ]
  },
  {
   "cell_type": "code",
   "execution_count": 27,
   "metadata": {},
   "outputs": [
    {
     "data": {
      "text/html": [
       "<div>\n",
       "<style scoped>\n",
       "    .dataframe tbody tr th:only-of-type {\n",
       "        vertical-align: middle;\n",
       "    }\n",
       "\n",
       "    .dataframe tbody tr th {\n",
       "        vertical-align: top;\n",
       "    }\n",
       "\n",
       "    .dataframe thead th {\n",
       "        text-align: right;\n",
       "    }\n",
       "</style>\n",
       "<table border=\"1\" class=\"dataframe\">\n",
       "  <thead>\n",
       "    <tr style=\"text-align: right;\">\n",
       "      <th></th>\n",
       "      <th>000</th>\n",
       "      <th>世代</th>\n",
       "      <th>今日焦點</th>\n",
       "      <th>代工</th>\n",
       "      <th>億元</th>\n",
       "      <th>先進</th>\n",
       "      <th>創新</th>\n",
       "      <th>可望</th>\n",
       "      <th>台積</th>\n",
       "      <th>台積電</th>\n",
       "    </tr>\n",
       "  </thead>\n",
       "  <tbody>\n",
       "    <tr>\n",
       "      <th>000</th>\n",
       "      <td>4</td>\n",
       "      <td>1</td>\n",
       "      <td>3</td>\n",
       "      <td>6</td>\n",
       "      <td>14</td>\n",
       "      <td>1</td>\n",
       "      <td>1</td>\n",
       "      <td>6</td>\n",
       "      <td>11</td>\n",
       "      <td>26</td>\n",
       "    </tr>\n",
       "    <tr>\n",
       "      <th>世代</th>\n",
       "      <td>1</td>\n",
       "      <td>8</td>\n",
       "      <td>2</td>\n",
       "      <td>5</td>\n",
       "      <td>5</td>\n",
       "      <td>14</td>\n",
       "      <td>7</td>\n",
       "      <td>1</td>\n",
       "      <td>11</td>\n",
       "      <td>30</td>\n",
       "    </tr>\n",
       "    <tr>\n",
       "      <th>今日焦點</th>\n",
       "      <td>3</td>\n",
       "      <td>2</td>\n",
       "      <td>0</td>\n",
       "      <td>47</td>\n",
       "      <td>49</td>\n",
       "      <td>19</td>\n",
       "      <td>10</td>\n",
       "      <td>14</td>\n",
       "      <td>81</td>\n",
       "      <td>207</td>\n",
       "    </tr>\n",
       "    <tr>\n",
       "      <th>代工</th>\n",
       "      <td>6</td>\n",
       "      <td>5</td>\n",
       "      <td>47</td>\n",
       "      <td>26</td>\n",
       "      <td>92</td>\n",
       "      <td>42</td>\n",
       "      <td>10</td>\n",
       "      <td>31</td>\n",
       "      <td>73</td>\n",
       "      <td>231</td>\n",
       "    </tr>\n",
       "    <tr>\n",
       "      <th>億元</th>\n",
       "      <td>14</td>\n",
       "      <td>5</td>\n",
       "      <td>49</td>\n",
       "      <td>92</td>\n",
       "      <td>728</td>\n",
       "      <td>27</td>\n",
       "      <td>9</td>\n",
       "      <td>70</td>\n",
       "      <td>166</td>\n",
       "      <td>578</td>\n",
       "    </tr>\n",
       "    <tr>\n",
       "      <th>先進</th>\n",
       "      <td>1</td>\n",
       "      <td>14</td>\n",
       "      <td>19</td>\n",
       "      <td>42</td>\n",
       "      <td>27</td>\n",
       "      <td>44</td>\n",
       "      <td>11</td>\n",
       "      <td>12</td>\n",
       "      <td>37</td>\n",
       "      <td>128</td>\n",
       "    </tr>\n",
       "    <tr>\n",
       "      <th>創新</th>\n",
       "      <td>1</td>\n",
       "      <td>7</td>\n",
       "      <td>10</td>\n",
       "      <td>10</td>\n",
       "      <td>9</td>\n",
       "      <td>11</td>\n",
       "      <td>14</td>\n",
       "      <td>8</td>\n",
       "      <td>34</td>\n",
       "      <td>71</td>\n",
       "    </tr>\n",
       "    <tr>\n",
       "      <th>可望</th>\n",
       "      <td>6</td>\n",
       "      <td>1</td>\n",
       "      <td>14</td>\n",
       "      <td>31</td>\n",
       "      <td>70</td>\n",
       "      <td>12</td>\n",
       "      <td>8</td>\n",
       "      <td>18</td>\n",
       "      <td>56</td>\n",
       "      <td>153</td>\n",
       "    </tr>\n",
       "    <tr>\n",
       "      <th>台積</th>\n",
       "      <td>11</td>\n",
       "      <td>11</td>\n",
       "      <td>81</td>\n",
       "      <td>73</td>\n",
       "      <td>166</td>\n",
       "      <td>37</td>\n",
       "      <td>34</td>\n",
       "      <td>56</td>\n",
       "      <td>230</td>\n",
       "      <td>519</td>\n",
       "    </tr>\n",
       "    <tr>\n",
       "      <th>台積電</th>\n",
       "      <td>26</td>\n",
       "      <td>30</td>\n",
       "      <td>207</td>\n",
       "      <td>231</td>\n",
       "      <td>578</td>\n",
       "      <td>128</td>\n",
       "      <td>71</td>\n",
       "      <td>153</td>\n",
       "      <td>519</td>\n",
       "      <td>1250</td>\n",
       "    </tr>\n",
       "  </tbody>\n",
       "</table>\n",
       "</div>"
      ],
      "text/plain": [
       "      000  世代  今日焦點   代工   億元   先進  創新   可望   台積   台積電\n",
       "000     4   1     3    6   14    1   1    6   11    26\n",
       "世代      1   8     2    5    5   14   7    1   11    30\n",
       "今日焦點    3   2     0   47   49   19  10   14   81   207\n",
       "代工      6   5    47   26   92   42  10   31   73   231\n",
       "億元     14   5    49   92  728   27   9   70  166   578\n",
       "先進      1  14    19   42   27   44  11   12   37   128\n",
       "創新      1   7    10   10    9   11  14    8   34    71\n",
       "可望      6   1    14   31   70   12   8   18   56   153\n",
       "台積     11  11    81   73  166   37  34   56  230   519\n",
       "台積電    26  30   207  231  578  128  71  153  519  1250"
      ]
     },
     "execution_count": 27,
     "metadata": {},
     "output_type": "execute_result"
    }
   ],
   "source": [
    "# 顯示其中幾筆資料\n",
    "datasmall = data.iloc[0:10,0:10]\n",
    "datasmall"
   ]
  },
  {
   "cell_type": "code",
   "execution_count": 28,
   "metadata": {},
   "outputs": [
    {
     "data": {
      "image/png": "[encoded data removed]",
      "text/plain": [
       "<Figure size 864x864 with 1 Axes>"
      ]
     },
     "metadata": {},
     "output_type": "display_data"
    }
   ],
   "source": [
    "import matplotlib.pyplot as plt\n",
    "\n",
    "labels = [c for c in datasmall.columns]  # get abbv state names.\n",
    "\n",
    "fig = plt.figure(figsize=(12,12))  # figure so we can add axis\n",
    "ax = fig.add_subplot(111)  # define axis, so we can modify\n",
    "ax.matshow(datasmall, cmap=plt.cm.RdYlGn)  # display the matrix\n",
    "ax.set_xticks(np.arange(len(labels)))  # show them all!\n",
    "ax.set_yticks(np.arange(len(labels)))  # show them all!\n",
    "ax.set_xticklabels(labels)  # set to be the abbv (vs useless #)\n",
    "ax.set_yticklabels(labels)  # set to be the abbv (vs useless #)\n",
    "\n",
    "plt.show()"
   ]
  },
  {
   "cell_type": "code",
   "execution_count": 29,
   "metadata": {},
   "outputs": [
    {
     "data": {
      "image/png": "[encoded data removed]",
      "text/plain": [
       "<Figure size 432x288 with 2 Axes>"
      ]
     },
     "metadata": {},
     "output_type": "display_data"
    }
   ],
   "source": [
    "plt.imshow(datasmall, interpolation='nearest', cmap='bone', origin='lower')\n",
    "plt.colorbar(shrink=.92)\n",
    "\n",
    "plt.xticks(())\n",
    "plt.yticks(())\n",
    "plt.show()"
   ]
  },
  {
   "cell_type": "code",
   "execution_count": null,
   "metadata": {},
   "outputs": [],
   "source": []
  }
 ],
 "metadata": {
  "kernelspec": {
   "display_name": "Python 3",
   "language": "python",
   "name": "python3"
  },
  "language_info": {
   "codemirror_mode": {
    "name": "ipython",
    "version": 3
   },
   "file_extension": ".py",
   "mimetype": "text/x-python",
   "name": "python",
   "nbconvert_exporter": "python",
   "pygments_lexer": "ipython3",
   "version": "3.6.5"
  }
 },
 "nbformat": 4,
 "nbformat_minor": 2
}
