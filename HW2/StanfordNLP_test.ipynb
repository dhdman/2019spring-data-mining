{
 "cells": [
  {
   "cell_type": "code",
   "execution_count": 1,
   "metadata": {},
   "outputs": [],
   "source": [
    "import os\n",
    "from nltk.tag import StanfordPOSTagger\n",
    "from nltk.tag import StanfordNERTagger\n",
    "from nltk.parse.stanford import StanfordParser\n",
    "from nltk.tokenize import StanfordSegmenter\n",
    "from nltk import word_tokenize"
   ]
  },
  {
   "cell_type": "markdown",
   "metadata": {},
   "source": [
    "### 詞性標注 (POS)"
   ]
  },
  {
   "cell_type": "code",
   "execution_count": 2,
   "metadata": {},
   "outputs": [
    {
     "name": "stdout",
     "output_type": "stream",
     "text": [
      "[('美國', 'SYM'), ('總統', 'SYM'), ('川普', 'SYM'), ('再度', 'SYM'), ('突襲', 'SYM'), ('全球', 'SYM'), ('金融', 'SYM'), ('市場', 'SYM')]\n"
     ]
    }
   ],
   "source": [
    "model = './StanfordNLP/models/english-left3words-distsim.tagger'\n",
    "jar = './StanfordNLP/jars/stanford-postagger.jar'\n",
    "\n",
    "pos_tagger = StanfordPOSTagger(model,jar,encoding='utf8')\n",
    "text = pos_tagger.tag(word_tokenize(\"美國 總統 川普 再度 突襲 全球 金融 市場\"))\n",
    "print(text)"
   ]
  },
  {
   "cell_type": "markdown",
   "metadata": {},
   "source": [
    "### 命名實體辨識 (NER)"
   ]
  },
  {
   "cell_type": "code",
   "execution_count": 3,
   "metadata": {},
   "outputs": [
    {
     "name": "stdout",
     "output_type": "stream",
     "text": [
      "[('美國', 'FACILITY'), ('總統', 'FACILITY'), ('川普', 'FACILITY'), ('再度', 'O'), ('突襲', 'O'), ('全球', 'O'), ('金融', 'O'), ('市場', 'O')]\n"
     ]
    }
   ],
   "source": [
    "model = './StanfordNLP/models/chinese.misc.distsim.crf.ser.gz'\n",
    "jar = './StanfordNLP/jars/stanford-ner.jar'\n",
    "\n",
    "ner_tagger = StanfordNERTagger(model,jar)\n",
    "list1 = list(ner_tagger.tag('美國 總統 川普 再度 突襲 全球 金融 市場'.split()))\n",
    "print(list1)"
   ]
  },
  {
   "cell_type": "markdown",
   "metadata": {},
   "source": [
    "### 句法分析 (Parser)\n",
    "- 下載檔案 https://nlp.stanford.edu/software/stanford-parser-full-2018-10-17.zip\n",
    "- 將zip移至/Users/alexis，解壓並更改資料夾名稱為stanford-parser，即為CLASSPATH：/Users/alexis/stanford-parser\n",
    "- 進入上述路徑，以指令jar tvf stanford-parser-3.9.2-models.jar查看model路徑，即為model_path：edu/stanford/nlp/models/lexparser/chinesePCFG.ser.gz"
   ]
  },
  {
   "cell_type": "code",
   "execution_count": 4,
   "metadata": {},
   "outputs": [
    {
     "name": "stderr",
     "output_type": "stream",
     "text": [
      "/Users/alexis/anaconda3/lib/python3.7/site-packages/ipykernel_launcher.py:6: DeprecationWarning: The StanfordParser will be deprecated\n",
      "Please use \u001b[91mnltk.parse.corenlp.CoreNLPParser\u001b[0m instead.\n",
      "  \n"
     ]
    }
   ],
   "source": [
    "#os.environ[\"JAVA_HOME\"] = \"/Library/Java/JavaVirtualMachines/jdk-12.0.1.jdk\"\n",
    "os.environ[\"CLASSPATH\"] = \"/Users/alexis/stanford-parser\"\n",
    "os.environ[\"STANFORD_PARSER\"] =\"/Users/alexis/stanford-parser/stanford-parser.jar\"\n",
    "os.environ[\"STANFORD_MODELS\"] = \"/Users/alexis/stanford-parser/stanford-parser-3.9.2-models.jar\"\n",
    "\n",
    "parser = StanfordParser(model_path = \"edu/stanford/nlp/models/lexparser/chinesePCFG.ser.gz\")\n",
    "tree1 = list(parser.parse(\"美國 總統 川普 再度 突襲 全球 金融 市場\".split()))\n",
    "tree1[0].draw()"
   ]
  },
  {
   "cell_type": "code",
   "execution_count": null,
   "metadata": {},
   "outputs": [],
   "source": []
  }
 ],
 "metadata": {
  "kernelspec": {
   "display_name": "Python 3",
   "language": "python",
   "name": "python3"
  },
  "language_info": {
   "codemirror_mode": {
    "name": "ipython",
    "version": 3
   },
   "file_extension": ".py",
   "mimetype": "text/x-python",
   "name": "python",
   "nbconvert_exporter": "python",
   "pygments_lexer": "ipython3",
   "version": "3.7.1"
  }
 },
 "nbformat": 4,
 "nbformat_minor": 2
}
