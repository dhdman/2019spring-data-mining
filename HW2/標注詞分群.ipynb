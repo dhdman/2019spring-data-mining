{
 "cells": [
  {
   "cell_type": "code",
   "execution_count": 1,
   "metadata": {},
   "outputs": [],
   "source": [
    "import numpy as np\n",
    "import pandas as pd\n",
    "import matplotlib.pyplot as plt\n",
    "import json\n",
    "import os"
   ]
  },
  {
   "cell_type": "markdown",
   "metadata": {},
   "source": [
    "# 觀察漲跌股價與新聞數量的關係"
   ]
  },
  {
   "cell_type": "code",
   "execution_count": 2,
   "metadata": {},
   "outputs": [],
   "source": [
    "%matplotlib inline\n",
    "data_file = './News_stock_price/News_Stock_price.csv';\n",
    "df = pd.read_csv(data_file)\n",
    "#titles = list(df.columns)[1:]\n",
    "#df = df.iloc[:,1:]\n",
    "arr_date = df['Date']\n",
    "arr_price = df['After_price'] - df['Now_price']\n",
    "arr_ratio = arr_price / df['Now_price'] * 100"
   ]
  },
  {
   "cell_type": "code",
   "execution_count": 3,
   "metadata": {},
   "outputs": [],
   "source": [
    "#plt.title('price')\n",
    "#plt.plot(date1,price1)\n",
    "#plt.scatter(date1,ratio1)\n",
    "#plt.hist(ratio1)\n",
    "#plt.xlabel('Riskiness')\n",
    "#plt.ylabel('Expectation')\n",
    "#plt.show()"
   ]
  },
  {
   "cell_type": "code",
   "execution_count": 4,
   "metadata": {},
   "outputs": [
    {
     "data": {
      "image/png": "[encoded data removed]",
      "text/plain": [
       "<Figure size 432x288 with 1 Axes>"
      ]
     },
     "metadata": {
      "needs_background": "light"
     },
     "output_type": "display_data"
    }
   ],
   "source": [
    "plt.hist(arr_ratio)\n",
    "plt.xlabel('Raise/Fall percentage')\n",
    "plt.ylabel('number of news')\n",
    "plt.show()"
   ]
  },
  {
   "cell_type": "markdown",
   "metadata": {},
   "source": [
    "# 從JSON檔取出標註詞彙"
   ]
  },
  {
   "cell_type": "code",
   "execution_count": 5,
   "metadata": {},
   "outputs": [],
   "source": [
    "def get_token_by_ner(date):\n",
    "    arr_token = []\n",
    "    date = date.replace('-','')\n",
    "    file_path = './NER_human_label/' + date + '.ann.json'\n",
    "    if os.path.isfile(file_path):\n",
    "        with open(file_path) as json_file:  \n",
    "            data = json.load(json_file)\n",
    "            for e in data['entities']:\n",
    "                text = e['offsets'][0]['text']\n",
    "                arr_token.append(text)\n",
    "    else:\n",
    "        print(file_path + ' does not exist.')\n",
    "    return arr_token"
   ]
  },
  {
   "cell_type": "markdown",
   "metadata": {},
   "source": [
    "# 篩出漲幅超過3%的新聞"
   ]
  },
  {
   "cell_type": "code",
   "execution_count": 6,
   "metadata": {},
   "outputs": [
    {
     "name": "stdout",
     "output_type": "stream",
     "text": [
      "./NER_human_label/20190409.ann.json does not exist.\n",
      "./NER_human_label/20190408.ann.json does not exist.\n",
      "./NER_human_label/20190402.ann.json does not exist.\n",
      "./NER_human_label/20181120.ann.json does not exist.\n",
      "./NER_human_label/20181022.ann.json does not exist.\n",
      "./NER_human_label/20181021.ann.json does not exist.\n",
      "['半導體族群', '市值創新高', '傳承', '市場給予支持', '上漲', '市值', '創新高', '共治', '退休', '雙首長制', '平行共治制度', '劉德音', '魏哲家', '觀望', '營運', '成長', '貼息', 'ADR', '下跌', '跌幅', '開低', '貼息', '買超', '先進製程', '領先同業', '試產', '成長動能', '智慧型手機', '強敵', '先進製程', '領先同業', '拿下', '設計定案', 'tape-out', '風險試產', '創新', '進入市場', '市值', '破紀錄', '美國科技股', '多頭', 'ADR', '歷史新高', '攀高', '開盤', '過高點', '盤中', '歷史新高', '市值', '新高']\n"
     ]
    }
   ],
   "source": [
    "threshold_p = 3\n",
    "positive_words = []\n",
    "for i,r in enumerate(arr_ratio):\n",
    "    if r >= threshold_p:\n",
    "        d = arr_date[i]\n",
    "        token = get_token_by_ner(d)\n",
    "        positive_words = positive_words + token\n",
    "print(positive_words)"
   ]
  },
  {
   "cell_type": "markdown",
   "metadata": {},
   "source": [
    "# 篩出跌幅超過3%的新聞"
   ]
  },
  {
   "cell_type": "code",
   "execution_count": 7,
   "metadata": {},
   "outputs": [
    {
     "name": "stdout",
     "output_type": "stream",
     "text": [
      "./NER_human_label/20181129.ann.json does not exist.\n",
      "./NER_human_label/20181020.ann.json does not exist.\n",
      "./NER_human_label/20181019.ann.json does not exist.\n",
      "./NER_human_label/20181018.ann.json does not exist.\n",
      "./NER_human_label/20181017.ann.json does not exist.\n",
      "./NER_human_label/20181004.ann.json does not exist.\n",
      "['法說會', '外資圈', '7奈米製程', '現金股利', '資本支出', '營收季減']\n"
     ]
    }
   ],
   "source": [
    "threshold_n = -3\n",
    "negative_words = []\n",
    "for i,r in enumerate(arr_ratio):\n",
    "    if r <= threshold_n:\n",
    "        d = arr_date[i]\n",
    "        token = get_token_by_ner(d)\n",
    "        negative_words = negative_words + token\n",
    "print(negative_words)"
   ]
  },
  {
   "cell_type": "code",
   "execution_count": null,
   "metadata": {},
   "outputs": [],
   "source": []
  }
 ],
 "metadata": {
  "kernelspec": {
   "display_name": "Python 3",
   "language": "python",
   "name": "python3"
  },
  "language_info": {
   "codemirror_mode": {
    "name": "ipython",
    "version": 3
   },
   "file_extension": ".py",
   "mimetype": "text/x-python",
   "name": "python",
   "nbconvert_exporter": "python",
   "pygments_lexer": "ipython3",
   "version": "3.7.1"
  }
 },
 "nbformat": 4,
 "nbformat_minor": 2
}
