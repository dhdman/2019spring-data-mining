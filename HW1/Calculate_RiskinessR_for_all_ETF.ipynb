{
 "cells": [
  {
   "cell_type": "markdown",
   "metadata": {},
   "source": [
    "# Riskiness R (list)\n",
    "### 計算每支ETF的Riskiness R，並儲存"
   ]
  },
  {
   "cell_type": "code",
   "execution_count": 1,
   "metadata": {},
   "outputs": [],
   "source": [
    "import numpy as np\n",
    "from numpy import linspace, hstack\n",
    "import pandas as pd\n",
    "import time\n",
    "import datetime as dt\n",
    "import os \n",
    "from scipy.optimize import fsolve\n",
    "from scipy import stats\n",
    "from scipy.stats.kde import gaussian_kde\n",
    "from scipy.stats import norm\n",
    "from sympy import *\n",
    "import math\n",
    "from sklearn.neighbors.kde import KernelDensity"
   ]
  },
  {
   "cell_type": "markdown",
   "metadata": {},
   "source": [
    "### 過濾資料\n",
    "### 共32組，其中8組不足36筆，只取24組計算"
   ]
  },
  {
   "cell_type": "code",
   "execution_count": 2,
   "metadata": {},
   "outputs": [
    {
     "name": "stdout",
     "output_type": "stream",
     "text": [
      "./ETF_data_set/RE/Alternatives ETF List (35)/Alternatives ETF List (35)_return.csv\n",
      "./ETF_data_set/RE/Healthcare Equity ETF List (49)/Healthcare Equity ETF List (49)_return.csv\n",
      "./ETF_data_set/RE/Developed Markets ETF List 1 (100)/Developed Markets ETF List 1 (100)_return.csv\n",
      "./ETF_data_set/RE/Target Maturity Date Corporate Bond ETF List (24)/Target Maturity Date Corporate Bond ETF List (24)_return.csv\n",
      "./ETF_data_set/RE/Global ETF List (72)/Global ETF List (72)_return.csv\n",
      "./ETF_data_set/RE/Municipal Bond ETF List (29)/Municipal Bond ETF List (29)_return.csv\n",
      "./ETF_data_set/RE/Junk ETF List (43)/Junk ETF List (43)_return.csv\n",
      "./ETF_data_set/RE/Commodity ETF List (125)/Commodity ETF List (125)_return.csv\n",
      "./ETF_data_set/RE/Volatility ETF List (18)/Volatility ETF List (18)_return.csv\n",
      "./ETF_data_set/RE/Currency ETF List (36)/Currency ETF List (36)_return.csv\n",
      "./ETF_data_set/RE/Developed Markets ETF List 2 (100)/Developed Markets ETF List 2 (100)_return.csv\n",
      "./ETF_data_set/RE/Industrials Equity ETF List (37)/Industrials Equity ETF List (37)_return.csv\n",
      "./ETF_data_set/RE/Financials Equity ETF List (51)/Financials Equity ETF List (51)_return.csv\n",
      "./ETF_data_set/RE/Broad Asia ETF List (44)/Broad Asia ETF List (44)_return.csv\n",
      "./ETF_data_set/RE/Preferred Stock ETF List (12)/Preferred Stock ETF List (12)_return.csv\n",
      "./ETF_data_set/RE/Emerging Asia Pacific ETF List (114)/Emerging Asia Pacific ETF List (114)_return.csv\n",
      "./ETF_data_set/RE/Energy Equity ETF List (80)/Energy Equity ETF List (80)_return.csv\n",
      "./ETF_data_set/RE/Emerging Markets ETF List (79)/Emerging Markets ETF List (79)_return.csv\n",
      "./ETF_data_set/RE/Telecom Equity ETF List (10)/Telecom Equity ETF List (10)_return.csv\n",
      "./ETF_data_set/RE/Technology Equity ETF List (75)/Technology Equity ETF List (75)_return.csv\n",
      "./ETF_data_set/RE/Consumer Staples Equity ETF List (26)/Consumer Staples Equity ETF List (26)_return.csv\n",
      "./ETF_data_set/RE/Developed Asia Pacific ETF List (108)/Developed Asia Pacific ETF List (108)_return.csv\n",
      "./ETF_data_set/RE/Materials Equity ETF List (62)/Materials Equity ETF List (62)_return.csv\n",
      "./ETF_data_set/RE/Real Estate ETF List (48)/Real Estate ETF List (48)_return.csv\n",
      "./ETF_data_set/RE/Utilities Equity ETF List (24)/Utilities Equity ETF List (24)_return.csv\n",
      "./ETF_data_set/RE/Consumer Discretionary Equity ETF List (31)/Consumer Discretionary Equity ETF List (31)_return.csv\n",
      "./ETF_data_set/RE/Total Bond Market ETF List (82)/Total Bond Market ETF List (82)_return.csv\n",
      "./ETF_data_set/RE/Developed Markets ETF List 3 (93)/Developed Markets ETF List 3 (93)_return.csv\n",
      "./ETF_data_set/RE/Treasuries ETF List (51)/Treasuries ETF List (51)_return.csv\n",
      "./ETF_data_set/RE/Gold ETF List (17)/Gold ETF List (17)_return.csv\n",
      "./ETF_data_set/RE/Crude Oil ETF List (22)/Crude Oil ETF List (22)_return.csv\n",
      "./ETF_data_set/RE/Investment Grade Corporate ETF List (50)/Investment Grade Corporate ETF List (50)_return.csv\n",
      "\n",
      "\n",
      "有完整36筆資料的有 24 組\n"
     ]
    }
   ],
   "source": [
    "#cwd = os.getcwd()\n",
    "data_path = \"./ETF_data_set/RE\";\n",
    "\n",
    "c = 0\n",
    "for subdir in os.listdir(data_path):\n",
    "    subdir_path = os.path.join(data_path, subdir)\n",
    "    for file in os.listdir(subdir_path):\n",
    "        file_path = os.path.join(subdir_path, file)\n",
    "        df = pd.read_csv(file_path)\n",
    "        df = df.dropna()\n",
    "        #print(file)\n",
    "        print(file_path)\n",
    "        #print('共',df.shape[0],'筆資料')\n",
    "        if df.shape[0] == 36:\n",
    "            c = c + 1\n",
    "\n",
    "print('\\n')\n",
    "print('有完整36筆資料的有',c,'組')"
   ]
  },
  {
   "cell_type": "markdown",
   "metadata": {},
   "source": [
    "# functions"
   ]
  },
  {
   "cell_type": "code",
   "execution_count": 3,
   "metadata": {},
   "outputs": [],
   "source": [
    "def get_data_from_csv(file):\n",
    "    df = pd.DataFrame()\n",
    "    if os.path.isfile(file):\n",
    "        df = pd.read_csv(file)\n",
    "        df = df.dropna()\n",
    "        df.drop(df.columns[[0]], axis=1, inplace=True)\n",
    "    return df\n",
    "\n",
    "def cal_sharp_ratio(data):\n",
    "    total = len(data)\n",
    "    data = np.log(data)\n",
    "    mean = (data.mean())\n",
    "    std = data.std()\n",
    "    skew = data.skew()\n",
    "    kurt = data.kurt()\n",
    "    var = -1.96\n",
    "    Z = var + (skew * ((var**2) - 1) / 6) + (kurt * ((var**3) - 3*var) / 24) - ((skew**2) * (2*(var**3) - 5*var) / 36)\n",
    "    adj_var = (-0.5)*(std**2)*52-Z*std*math.sqrt(total)\n",
    "    cumprod_return = np.exp(data).cumprod()[-1]\n",
    "    sharpe_ratio = cumprod_return / adj_var\n",
    "    return sharpe_ratio\n",
    "\n",
    "def cal_omega(data,L):\n",
    "    probDensityFun = gaussian_kde(data)\n",
    "    x = np.linspace(-0.5,0.5,10000)        #將數據用平滑的方式算單點機率\n",
    "    p = (probDensityFun(x) / probDensityFun(x).sum())\n",
    "    p = p.cumsum()\n",
    "    p = pd.DataFrame(p,index=x)\n",
    "    omega = ((1-p).loc[L/100/52:].sum()) / (p.loc[:L/100/52].sum())\n",
    "    return omega[0]\n",
    "\n",
    "def f1(risk,returns):\n",
    "    return sum( np.exp(-1*returns/risk) ) - len(returns)\n",
    "\n",
    "def cal_riskiness_r(data):\n",
    "    rfrate = 2.45785 / 12 / 100  #月報酬\n",
    "    data = data - rfrate\n",
    "    guess = 10**(-5)\n",
    "    while (guess<1000):\n",
    "        risk = fsolve(f1,guess,data)\n",
    "        if risk[0] != guess:\n",
    "            break\n",
    "        guess = guess*10\n",
    "    return np.exp(-1/risk[0])\n",
    "\n",
    "def cal_index_and_save_file(group_name, etf_data):\n",
    "    etf_symbols = list(etf_data.columns)\n",
    "\n",
    "    list_riskinessr = []\n",
    "    list_omega = []\n",
    "\n",
    "    for i in range(etf_data.shape[1]):\n",
    "        etf_title = etf_symbols[i]\n",
    "        etf_return = etf_data.iloc[:,i]\n",
    "\n",
    "        r = cal_riskiness_r(etf_return)\n",
    "        list_riskinessr.append(r)\n",
    "\n",
    "        #L = USG3M.loc[etf_return.index[-1]]\n",
    "        #L = 2.45785 / 12 / 100  #月報酬\n",
    "        #omega = cal_omega(etf_return,L)\n",
    "        #list_omega.append(omega)\n",
    "\n",
    "    saved_file = './RiskinessR/' + group_name + '.csv'\n",
    "    #df2 = pd.DataFrame({'ETF':etf_symbols, 'RiskinessR':list_riskinessr, 'Omega':list_omega})\n",
    "    df2 = pd.DataFrame({'ETF':etf_symbols, 'RiskinessR':list_riskinessr})\n",
    "    df2.to_csv(saved_file, sep=',')"
   ]
  },
  {
   "cell_type": "markdown",
   "metadata": {},
   "source": [
    "\n",
    "# 一組一組算風險指標 R"
   ]
  },
  {
   "cell_type": "code",
   "execution_count": 4,
   "metadata": {},
   "outputs": [
    {
     "name": "stdout",
     "output_type": "stream",
     "text": [
      "(36, 21)\n",
      "Alternatives ETF List (35)\n"
     ]
    },
    {
     "name": "stderr",
     "output_type": "stream",
     "text": [
      "/Users/alexis/anaconda3/lib/python3.7/site-packages/scipy/optimize/minpack.py:163: RuntimeWarning: The iteration is not making good progress, as measured by the \n",
      "  improvement from the last ten iterations.\n",
      "  warnings.warn(msg, RuntimeWarning)\n",
      "/Users/alexis/anaconda3/lib/python3.7/site-packages/scipy/optimize/minpack.py:163: RuntimeWarning: The number of calls to function has reached maxfev = 400.\n",
      "  warnings.warn(msg, RuntimeWarning)\n"
     ]
    },
    {
     "name": "stdout",
     "output_type": "stream",
     "text": [
      "(36, 34)\n",
      "Healthcare Equity ETF List (49)\n",
      "(36, 80)\n",
      "Developed Markets ETF List 1 (100)\n",
      "(36, 16)\n",
      "Target Maturity Date Corporate Bond ETF List (24)\n",
      "(4, 40)\n",
      "Global ETF List (72)\n",
      "(36, 14)\n",
      "Municipal Bond ETF List (29)\n",
      "(36, 20)\n",
      "Junk ETF List (43)\n",
      "(36, 78)\n",
      "Commodity ETF List (125)\n",
      "(36, 8)\n",
      "Volatility ETF List (18)\n",
      "(36, 25)\n",
      "Currency ETF List (36)\n",
      "(36, 58)\n",
      "Developed Markets ETF List 2 (100)\n",
      "(7, 26)\n",
      "Industrials Equity ETF List (37)\n",
      "(36, 42)\n",
      "Financials Equity ETF List (51)\n",
      "(36, 27)\n",
      "Broad Asia ETF List (44)\n",
      "(36, 7)\n",
      "Preferred Stock ETF List (12)\n",
      "(4, 78)\n",
      "Emerging Asia Pacific ETF List (114)\n",
      "(36, 60)\n",
      "Energy Equity ETF List (80)\n",
      "(36, 44)\n",
      "Emerging Markets ETF List (79)\n",
      "(36, 8)\n",
      "Telecom Equity ETF List (10)\n",
      "(36, 47)\n",
      "Technology Equity ETF List (75)\n",
      "(36, 16)\n",
      "Consumer Staples Equity ETF List (26)\n",
      "(7, 61)\n",
      "Developed Asia Pacific ETF List (108)\n",
      "(36, 52)\n",
      "Materials Equity ETF List (62)\n",
      "(36, 35)\n",
      "Real Estate ETF List (48)\n",
      "(36, 17)\n",
      "Utilities Equity ETF List (24)\n",
      "(36, 22)\n",
      "Consumer Discretionary Equity ETF List (31)\n",
      "(28, 36)\n",
      "Total Bond Market ETF List (82)\n",
      "(32, 28)\n",
      "Developed Markets ETF List 3 (93)\n",
      "(3, 41)\n",
      "Treasuries ETF List (51)\n",
      "(36, 12)\n",
      "Gold ETF List (17)\n",
      "(36, 9)\n",
      "Crude Oil ETF List (22)\n",
      "(7, 22)\n",
      "Investment Grade Corporate ETF List (50)\n"
     ]
    }
   ],
   "source": [
    "data_path = \"./ETF_data_set/RE\";\n",
    "for subdir in os.listdir(data_path):\n",
    "    subdir_path = os.path.join(data_path,subdir)\n",
    "    for file in os.listdir(subdir_path):\n",
    "        file_path = os.path.join(subdir_path, file)\n",
    "        etf_data = get_data_from_csv(file_path)\n",
    "        print(etf_data.shape)\n",
    "        group_name = subdir\n",
    "        print(group_name)\n",
    "        cal_index_and_save_file(group_name, etf_data)"
   ]
  },
  {
   "cell_type": "code",
   "execution_count": null,
   "metadata": {},
   "outputs": [],
   "source": []
  }
 ],
 "metadata": {
  "kernelspec": {
   "display_name": "Python 3",
   "language": "python",
   "name": "python3"
  },
  "language_info": {
   "codemirror_mode": {
    "name": "ipython",
    "version": 3
   },
   "file_extension": ".py",
   "mimetype": "text/x-python",
   "name": "python",
   "nbconvert_exporter": "python",
   "pygments_lexer": "ipython3",
   "version": "3.7.1"
  }
 },
 "nbformat": 4,
 "nbformat_minor": 2
}
