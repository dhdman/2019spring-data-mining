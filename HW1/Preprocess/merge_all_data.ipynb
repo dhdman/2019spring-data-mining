{
 "cells": [
  {
   "cell_type": "code",
   "execution_count": 14,
   "metadata": {},
   "outputs": [],
   "source": [
    "data = pd.read_csv('C:\\\\Users\\\\USER\\\\github\\\\HW1--data-mining\\\\ETF_data_set\\\\filter_date_data_ETF.csv')"
   ]
  },
  {
   "cell_type": "code",
   "execution_count": 15,
   "metadata": {},
   "outputs": [
    {
     "data": {
      "text/html": [
       "<div>\n",
       "<style scoped>\n",
       "    .dataframe tbody tr th:only-of-type {\n",
       "        vertical-align: middle;\n",
       "    }\n",
       "\n",
       "    .dataframe tbody tr th {\n",
       "        vertical-align: top;\n",
       "    }\n",
       "\n",
       "    .dataframe thead th {\n",
       "        text-align: right;\n",
       "    }\n",
       "</style>\n",
       "<table border=\"1\" class=\"dataframe\">\n",
       "  <thead>\n",
       "    <tr style=\"text-align: right;\">\n",
       "      <th></th>\n",
       "      <th>Unnamed: 0</th>\n",
       "      <th>Symbol</th>\n",
       "      <th>ETF Name</th>\n",
       "      <th>Asset Class</th>\n",
       "      <th>Total Assets</th>\n",
       "      <th>YTD</th>\n",
       "      <th>Avg Volume</th>\n",
       "      <th>Previous Closing Price</th>\n",
       "      <th>1-Day Change</th>\n",
       "      <th>Inverse</th>\n",
       "      <th>...</th>\n",
       "      <th>Returns Rating</th>\n",
       "      <th>Volatility Rating</th>\n",
       "      <th>Dividend Rating</th>\n",
       "      <th>Concentration Rating</th>\n",
       "      <th>ESG Score</th>\n",
       "      <th>ESG Score Peer Percentile (%)</th>\n",
       "      <th>ESG Score Global Percentile (%)</th>\n",
       "      <th>Carbon Intensity (Tons of CO2e / $M Sales)</th>\n",
       "      <th>SRI Exclusion Criteria (%)</th>\n",
       "      <th>Sustainable Impact Solutions (%)</th>\n",
       "    </tr>\n",
       "  </thead>\n",
       "  <tbody>\n",
       "    <tr>\n",
       "      <th>0</th>\n",
       "      <td>0</td>\n",
       "      <td>VWO</td>\n",
       "      <td>Vanguard FTSE Emerging Markets ETF</td>\n",
       "      <td>Equity</td>\n",
       "      <td>US$60,569,126,307.00</td>\n",
       "      <td>8.85%</td>\n",
       "      <td>22,156,650</td>\n",
       "      <td>US$41.47</td>\n",
       "      <td>-0.74%</td>\n",
       "      <td>No</td>\n",
       "      <td>...</td>\n",
       "      <td>B+</td>\n",
       "      <td>B</td>\n",
       "      <td>B+</td>\n",
       "      <td>A+</td>\n",
       "      <td>4.31</td>\n",
       "      <td>28.37%</td>\n",
       "      <td>14.14%</td>\n",
       "      <td>389.41</td>\n",
       "      <td>2.87%</td>\n",
       "      <td>4.00%</td>\n",
       "    </tr>\n",
       "    <tr>\n",
       "      <th>1</th>\n",
       "      <td>1</td>\n",
       "      <td>IEMG</td>\n",
       "      <td>iShares Core MSCI Emerging Markets ETF</td>\n",
       "      <td>Equity</td>\n",
       "      <td>US$57,736,122,727.00</td>\n",
       "      <td>8.99%</td>\n",
       "      <td>24,323,588</td>\n",
       "      <td>US$51.39</td>\n",
       "      <td>-0.56%</td>\n",
       "      <td>No</td>\n",
       "      <td>...</td>\n",
       "      <td>B+</td>\n",
       "      <td>B+</td>\n",
       "      <td>B</td>\n",
       "      <td>A</td>\n",
       "      <td>4.31</td>\n",
       "      <td>27.56%</td>\n",
       "      <td>14.00%</td>\n",
       "      <td>341.67</td>\n",
       "      <td>3.26%</td>\n",
       "      <td>4.06%</td>\n",
       "    </tr>\n",
       "    <tr>\n",
       "      <th>2</th>\n",
       "      <td>2</td>\n",
       "      <td>EEM</td>\n",
       "      <td>iShares MSCI Emerging Markets ETF</td>\n",
       "      <td>Equity</td>\n",
       "      <td>US$33,806,372,014.00</td>\n",
       "      <td>9.47%</td>\n",
       "      <td>95,219,072</td>\n",
       "      <td>US$42.76</td>\n",
       "      <td>-0.79%</td>\n",
       "      <td>No</td>\n",
       "      <td>...</td>\n",
       "      <td>B</td>\n",
       "      <td>B</td>\n",
       "      <td>B</td>\n",
       "      <td>A</td>\n",
       "      <td>4.34</td>\n",
       "      <td>31.40%</td>\n",
       "      <td>14.72%</td>\n",
       "      <td>344.66</td>\n",
       "      <td>3.21%</td>\n",
       "      <td>4.32%</td>\n",
       "    </tr>\n",
       "  </tbody>\n",
       "</table>\n",
       "<p>3 rows × 55 columns</p>\n",
       "</div>"
      ],
      "text/plain": [
       "   Unnamed: 0 Symbol                                ETF Name Asset Class  \\\n",
       "0           0    VWO      Vanguard FTSE Emerging Markets ETF      Equity   \n",
       "1           1   IEMG  iShares Core MSCI Emerging Markets ETF      Equity   \n",
       "2           2    EEM       iShares MSCI Emerging Markets ETF      Equity   \n",
       "\n",
       "           Total Assets     YTD  Avg Volume Previous Closing Price  \\\n",
       "0  US$60,569,126,307.00   8.85%  22,156,650              US$41.47    \n",
       "1  US$57,736,122,727.00   8.99%  24,323,588              US$51.39    \n",
       "2  US$33,806,372,014.00   9.47%  95,219,072              US$42.76    \n",
       "\n",
       "  1-Day Change Inverse  ... Returns Rating Volatility Rating Dividend Rating  \\\n",
       "0       -0.74%      No  ...             B+                 B              B+   \n",
       "1       -0.56%      No  ...             B+                B+               B   \n",
       "2       -0.79%      No  ...              B                 B               B   \n",
       "\n",
       "  Concentration Rating ESG Score ESG Score Peer Percentile (%)  \\\n",
       "0                   A+      4.31                        28.37%   \n",
       "1                    A      4.31                        27.56%   \n",
       "2                    A      4.34                        31.40%   \n",
       "\n",
       "  ESG Score Global Percentile (%) Carbon Intensity (Tons of CO2e / $M Sales)  \\\n",
       "0                          14.14%                                     389.41   \n",
       "1                          14.00%                                     341.67   \n",
       "2                          14.72%                                     344.66   \n",
       "\n",
       "  SRI Exclusion Criteria (%) Sustainable Impact Solutions (%)  \n",
       "0                      2.87%                            4.00%  \n",
       "1                      3.26%                            4.06%  \n",
       "2                      3.21%                            4.32%  \n",
       "\n",
       "[3 rows x 55 columns]"
      ]
     },
     "execution_count": 15,
     "metadata": {},
     "output_type": "execute_result"
    }
   ],
   "source": [
    "data.head(3)"
   ]
  },
  {
   "cell_type": "code",
   "execution_count": 16,
   "metadata": {},
   "outputs": [],
   "source": [
    "ETF_name = data['Symbol'].to_list()"
   ]
  },
  {
   "cell_type": "code",
   "execution_count": 24,
   "metadata": {},
   "outputs": [
    {
     "data": {
      "text/plain": [
       "198"
      ]
     },
     "execution_count": 24,
     "metadata": {},
     "output_type": "execute_result"
    }
   ],
   "source": [
    "lenlist = []\n",
    "for name in ETF_name :\n",
    "    df = pd.read_csv('C:\\\\Users\\\\USER\\\\github\\\\HW1--data-mining\\\\Download\\\\{}.csv'.format(name))\n",
    "    lenlist.append(len(df))\n",
    "max(lenlist)"
   ]
  },
  {
   "cell_type": "code",
   "execution_count": 25,
   "metadata": {},
   "outputs": [],
   "source": [
    "lonestname = []\n",
    "for name in ETF_name :\n",
    "    df = pd.read_csv('C:\\\\Users\\\\USER\\\\github\\\\HW1--data-mining\\\\Download\\\\{}.csv'.format(name))\n",
    "    if len(df) == 198 :\n",
    "        lonestname.append(name)"
   ]
  },
  {
   "cell_type": "code",
   "execution_count": 26,
   "metadata": {},
   "outputs": [
    {
     "data": {
      "text/plain": [
       "['ADRE']"
      ]
     },
     "execution_count": 26,
     "metadata": {},
     "output_type": "execute_result"
    }
   ],
   "source": [
    "lonestname"
   ]
  },
  {
   "cell_type": "code",
   "execution_count": 27,
   "metadata": {},
   "outputs": [],
   "source": [
    "longestdate = pd.read_csv('C:\\\\Users\\\\USER\\\\github\\\\HW1--data-mining\\\\Download\\\\{}.csv'.format('ADRE'))\n",
    "longestdate = longestdate[['Date','Adj Close']]\n",
    "for name in ETF_name :\n",
    "    #if name == 'ADRE'\n",
    "        #pass\n",
    "    #else :\n",
    "    df = pd.read_csv('C:\\\\Users\\\\USER\\\\github\\\\HW1--data-mining\\\\Download\\\\{}.csv'.format(name))\n",
    "    df = df[['Date','Adj Close']]\n",
    "    longestdate = longestdate.merge(df,how='outer',on = 'Date')\n"
   ]
  },
  {
   "cell_type": "code",
   "execution_count": 34,
   "metadata": {},
   "outputs": [],
   "source": [
    "columnsname = ['Date','ADRE']\n",
    "for name in ETF_name :\n",
    "    columnsname.append(name)\n",
    "    "
   ]
  },
  {
   "cell_type": "code",
   "execution_count": 36,
   "metadata": {},
   "outputs": [],
   "source": [
    "longestdate.columns = columnsname"
   ]
  },
  {
   "cell_type": "code",
   "execution_count": 44,
   "metadata": {},
   "outputs": [],
   "source": [
    "mergealldf = longestdate.drop(longestdate.iloc[:,1:2],axis=1)"
   ]
  },
  {
   "cell_type": "code",
   "execution_count": 46,
   "metadata": {},
   "outputs": [],
   "source": [
    "mergealldf.to_csv('Merge_all_data.csv')"
   ]
  },
  {
   "cell_type": "code",
   "execution_count": null,
   "metadata": {},
   "outputs": [],
   "source": []
  }
 ],
 "metadata": {
  "kernelspec": {
   "display_name": "Python 3",
   "language": "python",
   "name": "python3"
  },
  "language_info": {
   "codemirror_mode": {
    "name": "ipython",
    "version": 3
   },
   "file_extension": ".py",
   "mimetype": "text/x-python",
   "name": "python",
   "nbconvert_exporter": "python",
   "pygments_lexer": "ipython3",
   "version": "3.7.2"
  }
 },
 "nbformat": 4,
 "nbformat_minor": 2
}
