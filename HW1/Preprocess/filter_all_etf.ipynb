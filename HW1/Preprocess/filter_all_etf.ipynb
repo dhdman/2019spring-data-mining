{
 "cells": [
  {
   "cell_type": "code",
   "execution_count": 47,
   "metadata": {},
   "outputs": [],
   "source": [
    "import numpy as np\n",
    "import pandas as pd\n",
    "from datetime import datetime\n",
    "from bs4 import BeautifulSoup\n",
    "from selenium import webdriver\n",
    "import time\n",
    "import requests\n",
    "import os\n",
    "from pathlib import Path, PureWindowsPath"
   ]
  },
  {
   "cell_type": "code",
   "execution_count": 81,
   "metadata": {},
   "outputs": [],
   "source": [
    "def load_data (etfcsvpath) :\n",
    "    etfdata = pd.read_csv(etfcsvpath)\n",
    "    return etfdata\n",
    "\n",
    "def changetime (dateline,etfdata,listdate) :\n",
    "    dateline = datetime(2015,12,1)\n",
    "    listtime = etfdata['Inception']\n",
    "    for time in listtime :\n",
    "        if '/' in time :\n",
    "            time = time.replace('/','-')\n",
    "        try :\n",
    "            listdate.append(datetime.strptime(time,'%Y-%m-%d'))\n",
    "        except :\n",
    "            listdate.append(datetime.strptime(time,'%d-%m-%Y'))\n",
    "    return listdate\n",
    "\n",
    "def filter_date(etfdata,listdate,dateline) :\n",
    "    dateline = datetime(2015,12,1)\n",
    "    etfdata['Inception'] = listdate\n",
    "    filter = (etfdata['Inception'] <= dateline)\n",
    "    clean_data = etfdata[filter]\n",
    "    return clean_data\n",
    "    \n",
    "def save_data(clean_data , path):\n",
    "    clean_data.to_csv(path)"
   ]
  },
  {
   "cell_type": "code",
   "execution_count": 66,
   "metadata": {},
   "outputs": [],
   "source": [
    "download_path = \"C:\\\\Users\\\\USER\\\\github\\\\HW1--data-mining\\\\HW1\\\\ETF_data_set\\\\dataset\"\n",
    "file_path_list = []\n",
    "file_name =[]\n",
    "for file in os.listdir(download_path):\n",
    "    file_path_list.append(os.path.join(download_path, file))\n",
    "    file_name.append(file)"
   ]
  },
  {
   "cell_type": "code",
   "execution_count": 67,
   "metadata": {},
   "outputs": [
    {
     "name": "stdout",
     "output_type": "stream",
     "text": [
      "C:\\Users\\USER\\github\\HW1--data-mining\\HW1\\ETF_data_set\\dataset\\Broad Asia ETF List (44).csv\n"
     ]
    }
   ],
   "source": [
    "print(PureWindowsPath(file_path_list[1]))"
   ]
  },
  {
   "cell_type": "code",
   "execution_count": 87,
   "metadata": {
    "scrolled": false
   },
   "outputs": [],
   "source": [
    "for path  in file_path_list  :\n",
    "        etfdata = pd.read_csv(PureWindowsPath(path))\n",
    "        listdate = []\n",
    "        dateline = 0\n",
    "        listdate = changetime(dateline,etfdata,listdate)\n",
    "        clean_data = filter_date(etfdata,listdate,dateline)\n",
    "        count = 0\n",
    "        file = file_name[count]\n",
    "        save_data(clean_data,'C:/Users/USER/github/HW1--data-mining/HW1/ETF_data_set/filter_data/filter {}'.format(file))\n",
    "        count +=1"
   ]
  },
  {
   "cell_type": "code",
   "execution_count": 90,
   "metadata": {},
   "outputs": [
    {
     "name": "stdout",
     "output_type": "stream",
     "text": [
      "Alternatives ETF List (35).csv\n",
      "Broad Asia ETF List (44).csv\n",
      "Commodity ETF List (125).csv\n",
      "Consumer Discretionary Equity ETF List (31).csv\n",
      "Consumer Staples Equity ETF List (26).csv\n",
      "Crude Oil ETF List (22).csv\n",
      "Currency ETF List (36).csv\n",
      "Developed Asia Pacific ETF List (108).csv\n",
      "Developed Markets ETF List 1 (100).csv\n",
      "Developed Markets ETF List 2 (100).csv\n",
      "Developed Markets ETF List 3 (93).csv\n",
      "Emerging Asia Pacific ETF List (114).csv\n",
      "Emerging Markets ETF List (79).csv\n",
      "Energy Equity ETF List (80).csv\n",
      "Financials Equity ETF List (51).csv\n",
      "Global ETF List (72).csv\n",
      "Gold ETF List (17).csv\n",
      "Healthcare Equity ETF List (49).csv\n",
      "Industrials Equity ETF List (37).csv\n",
      "Investment Grade Corporate ETF List (50).csv\n",
      "Junk ETF List (43).csv\n",
      "Materials Equity ETF List (62).csv\n",
      "Municipal Bond ETF List (29).csv\n",
      "Preferred Stock ETF List (12).csv\n",
      "Real Estate ETF List (48).csv\n",
      "Target Maturity Date Corporate Bond ETF List (24).csv\n",
      "Technology Equity ETF List (75).csv\n",
      "Telecom Equity ETF List (10).csv\n",
      "Total Bond Market ETF List (82).csv\n",
      "Treasuries ETF List (51).csv\n",
      "Utilities Equity ETF List (24).csv\n",
      "Volatility ETF List (18).csv\n"
     ]
    }
   ],
   "source": [
    "for i in file_name :\n",
    "    print(i)"
   ]
  }
 ],
 "metadata": {
  "kernelspec": {
   "display_name": "Python 3",
   "language": "python",
   "name": "python3"
  },
  "language_info": {
   "codemirror_mode": {
    "name": "ipython",
    "version": 3
   },
   "file_extension": ".py",
   "mimetype": "text/x-python",
   "name": "python",
   "nbconvert_exporter": "python",
   "pygments_lexer": "ipython3",
   "version": "3.7.2"
  }
 },
 "nbformat": 4,
 "nbformat_minor": 2
}
