{
 "cells": [
  {
   "cell_type": "code",
   "execution_count": 1,
   "metadata": {},
   "outputs": [],
   "source": [
    "import numpy as np\n",
    "import pandas as pd\n",
    "from datetime import datetime\n",
    "from bs4 import BeautifulSoup\n",
    "from selenium import webdriver\n",
    "import time\n",
    "import requests\n",
    "import os\n",
    "from pathlib import Path, PureWindowsPath"
   ]
  },
  {
   "cell_type": "code",
   "execution_count": 2,
   "metadata": {},
   "outputs": [],
   "source": [
    "def load_data (etfcsvpath) :\n",
    "    etfdata = pd.read_csv(etfcsvpath)\n",
    "    return etfdata \n",
    "\n",
    "\n",
    "def find_longer (path): \n",
    "    df = pd.read_csv(path)\n",
    "    lenlist.append(len(df))\n",
    "    maxlen =max(lenlist)\n",
    "    return maxlen\n",
    "\n",
    "def find_long_name (maxlen,path) :\n",
    "    df = pd.read_csv(path)\n",
    "    if len(df) == maxlen :\n",
    "        lonestpath.append(path)\n",
    "    return lonestpath\n",
    "\n",
    "def merge (first_etf,path) :\n",
    "    df = pd.read_csv(path)\n",
    "    df = df[['Date','Adj Close']]\n",
    "    merge_data = first_etf.merge(df,how='outer',on = 'Date')\n",
    "    return merge_data\n",
    "\n",
    "def name_all_columns(first_etf_name,merge_data,savepath,filename) :\n",
    "    columnsname = ['Date',first_etf_name]\n",
    "    for name in ETF_name :\n",
    "        columnsname.append(name)\n",
    "    merge_data.columns = columnsname\n",
    "    mergealldf = merge_data.drop(merge_data.iloc[:,1:2],axis=1)\n",
    "    mergealldf.to_csv(savepath+filename+'.csv')\n",
    "    return mergealldf"
   ]
  },
  {
   "cell_type": "code",
   "execution_count": 4,
   "metadata": {},
   "outputs": [
    {
     "name": "stdout",
     "output_type": "stream",
     "text": [
      "C:\\Users\\USER\\github\\HW1--data-mining\\HW1\\ETF_data_set\\merge_data\\Alternatives ETF List (35)\\資料夾已存在\n",
      "已新增資料夾\n",
      "已新增資料夾\n",
      "已新增資料夾\n",
      "已新增資料夾\n",
      "已新增資料夾\n",
      "已新增資料夾\n",
      "已新增資料夾\n",
      "已新增資料夾\n",
      "已新增資料夾\n",
      "已新增資料夾\n",
      "已新增資料夾\n",
      "已新增資料夾\n",
      "已新增資料夾\n",
      "已新增資料夾\n",
      "已新增資料夾\n",
      "已新增資料夾\n",
      "已新增資料夾\n",
      "已新增資料夾\n",
      "已新增資料夾\n",
      "已新增資料夾\n",
      "已新增資料夾\n",
      "已新增資料夾\n",
      "已新增資料夾\n",
      "已新增資料夾\n",
      "已新增資料夾\n",
      "已新增資料夾\n",
      "已新增資料夾\n",
      "已新增資料夾\n",
      "已新增資料夾\n",
      "已新增資料夾\n",
      "已新增資料夾\n"
     ]
    },
    {
     "ename": "NotADirectoryError",
     "evalue": "[WinError 267] 目錄名稱無效。: 'C:\\\\Users\\\\USER\\\\github\\\\HW1--data-mining\\\\HW1\\\\ETF_data_set\\\\dataset\\\\Alternatives ETF List (35).csv'",
     "output_type": "error",
     "traceback": [
      "\u001b[1;31m---------------------------------------------------------------------------\u001b[0m",
      "\u001b[1;31mNotADirectoryError\u001b[0m                        Traceback (most recent call last)",
      "\u001b[1;32m<ipython-input-4-9e58bb12cdf4>\u001b[0m in \u001b[0;36m<module>\u001b[1;34m\u001b[0m\n\u001b[0;32m     20\u001b[0m     \u001b[0mfile_path_list\u001b[0m \u001b[1;33m=\u001b[0m \u001b[1;33m[\u001b[0m\u001b[1;33m]\u001b[0m\u001b[1;33m\u001b[0m\u001b[1;33m\u001b[0m\u001b[0m\n\u001b[0;32m     21\u001b[0m     \u001b[0mfile_name\u001b[0m \u001b[1;33m=\u001b[0m\u001b[1;33m[\u001b[0m\u001b[1;33m]\u001b[0m\u001b[1;33m\u001b[0m\u001b[1;33m\u001b[0m\u001b[0m\n\u001b[1;32m---> 22\u001b[1;33m     \u001b[1;32mfor\u001b[0m \u001b[0mfile\u001b[0m \u001b[1;32min\u001b[0m \u001b[0mos\u001b[0m\u001b[1;33m.\u001b[0m\u001b[0mlistdir\u001b[0m\u001b[1;33m(\u001b[0m\u001b[0mdownload_path\u001b[0m\u001b[1;33m)\u001b[0m\u001b[1;33m:\u001b[0m\u001b[1;33m\u001b[0m\u001b[1;33m\u001b[0m\u001b[0m\n\u001b[0m\u001b[0;32m     23\u001b[0m         \u001b[0mfile_path_list\u001b[0m\u001b[1;33m.\u001b[0m\u001b[0mappend\u001b[0m\u001b[1;33m(\u001b[0m\u001b[0mos\u001b[0m\u001b[1;33m.\u001b[0m\u001b[0mpath\u001b[0m\u001b[1;33m.\u001b[0m\u001b[0mjoin\u001b[0m\u001b[1;33m(\u001b[0m\u001b[0mdownload_path\u001b[0m\u001b[1;33m,\u001b[0m \u001b[0mfile\u001b[0m\u001b[1;33m)\u001b[0m\u001b[1;33m)\u001b[0m\u001b[1;33m\u001b[0m\u001b[1;33m\u001b[0m\u001b[0m\n\u001b[0;32m     24\u001b[0m         \u001b[0mfile_name\u001b[0m\u001b[1;33m.\u001b[0m\u001b[0mappend\u001b[0m\u001b[1;33m(\u001b[0m\u001b[0mfile\u001b[0m\u001b[1;33m)\u001b[0m\u001b[1;33m\u001b[0m\u001b[1;33m\u001b[0m\u001b[0m\n",
      "\u001b[1;31mNotADirectoryError\u001b[0m: [WinError 267] 目錄名稱無效。: 'C:\\\\Users\\\\USER\\\\github\\\\HW1--data-mining\\\\HW1\\\\ETF_data_set\\\\dataset\\\\Alternatives ETF List (35).csv'"
     ]
    }
   ],
   "source": [
    "download_path = \"C:\\\\Users\\\\USER\\\\github\\\\HW1--data-mining\\\\HW1\\\\ETF_data_set\\\\filter\\\\\"\n",
    "file_path_list = []\n",
    "file_name =[]\n",
    "for file in os.listdir(download_path):\n",
    "    file_path_list.append(os.path.join(download_path, file))\n",
    "    file_name.append(file)\n",
    "\n",
    "name_path = \"C:\\\\Users\\\\USER\\\\github\\\\HW1--data-mining\\\\HW1\\\\ETF_data_set\\\\dataset\\\\\"\n",
    "name_path_list = []\n",
    "file_name_etf =[]\n",
    "for file in os.listdir(name_path):\n",
    "    file_path_list.append(os.path.join(name_path, file))\n",
    "    file_name_etf.append(file[:-4])    \n",
    "\n",
    "\n",
    "count = 0    \n",
    "\n",
    "for file in file_path_list :\n",
    "    download_path = file\n",
    "    file_path_list = []\n",
    "    file_name =[]\n",
    "    for file in os.listdir(download_path):\n",
    "        file_path_list.append(os.path.join(download_path, file))\n",
    "        file_name.append(file)\n",
    "    \n",
    "    \n",
    "    save_path = \"C:\\\\Users\\\\USER\\\\github\\\\HW1--data-mining\\\\HW1\\\\ETF_data_set\\\\merge_data\\\\{}\\\\\".format(file_name_etf[count])\n",
    "    if os.path.exists(save_path) and os.path.isdir(save_path):\n",
    "            print(save_path + '資料夾已存在')\n",
    "    else:\n",
    "            os.makedirs(save_path)\n",
    "            print('已新增資料夾')\n",
    "            \n",
    "            \n",
    "            \n",
    "            \n",
    "            \n",
    "    lenlist = []\n",
    "    lonestpath = []\n",
    "    for path in file_path_list :\n",
    "        maxlen = find_longer(path)\n",
    "    for path in file_path_list :\n",
    "        lonestpath = find_long_name(maxlen,path)\n",
    "        \n",
    "        \n",
    "        \n",
    "    ETF_name = []\n",
    "\n",
    "    for name in file_name :\n",
    "        ETF_name.append(name[:-4])\n",
    "    df = pd.read_csv(lonestpath[0])\n",
    "    first_etf = df[['Date','Adj Close']]\n",
    "    \n",
    "    \n",
    "    \n",
    "    for path in file_path_list :\n",
    "    \n",
    "        etfdata  = load_data(path)\n",
    "    \n",
    "        first_etf = merge(first_etf,path)\n",
    "\n",
    "    name_all_columns(lonestpath[0][-8:-1],first_etf,save_path,file_name_etf[count]+'_merge')\n",
    "    \n",
    "    count +=1"
   ]
  },
  {
   "cell_type": "code",
   "execution_count": 7,
   "metadata": {},
   "outputs": [
    {
     "data": {
      "text/plain": [
       "'C:\\\\Users\\\\USER\\\\github\\\\HW1--data-mining\\\\HW1\\\\ETF_data_set\\\\dataset\\\\Alternatives ETF List (35).csv'"
      ]
     },
     "execution_count": 7,
     "metadata": {},
     "output_type": "execute_result"
    }
   ],
   "source": [
    "file"
   ]
  },
  {
   "cell_type": "code",
   "execution_count": 61,
   "metadata": {},
   "outputs": [
    {
     "name": "stdout",
     "output_type": "stream",
     "text": [
      "C:\\Users\\USER\\github\\HW1--data-mining\\HW1\\ETF_data_set\\dataset\\Alternatives ETF List\\資料夾已存在\n"
     ]
    }
   ],
   "source": [
    "import os\n",
    "download_path = \"C:\\\\Users\\\\USER\\\\github\\\\HW1--data-mining\\\\HW1\\\\ETF_data_set\\\\dataset\\\\Preprocessfilter Alternatives ETF List (35).csv\\\\\"\n",
    "file_path_list = []\n",
    "file_name =[]\n",
    "for file in os.listdir(download_path):\n",
    "    file_path_list.append(os.path.join(download_path, file))\n",
    "    file_name.append(file)\n",
    "    \n",
    "    \n",
    "save_path = \"C:\\\\Users\\\\USER\\\\github\\\\HW1--data-mining\\\\HW1\\\\ETF_data_set\\\\dataset\\\\Alternatives ETF List\\\\\"\n",
    "if os.path.exists(save_path) and os.path.isdir(save_path):\n",
    "        print(save_path + '資料夾已存在')\n",
    "else:\n",
    "        os.makedirs(save_path)\n",
    "        print('已新增資料夾')"
   ]
  },
  {
   "cell_type": "code",
   "execution_count": null,
   "metadata": {},
   "outputs": [],
   "source": [
    "lenlist = []\n",
    "lonestpath = []\n",
    "for path in file_path_list :\n",
    "    maxlen = find_longer(path)\n",
    "for path in file_path_list :\n",
    "    lonestpath = find_long_name(maxlen,path)"
   ]
  },
  {
   "cell_type": "code",
   "execution_count": 128,
   "metadata": {},
   "outputs": [],
   "source": [
    "ETF_name = []\n",
    "\n",
    "for name in file_name :\n",
    "    ETF_name.append(name[:-4])\n",
    "df = pd.read_csv(lonestpath[0])\n",
    "first_etf = df[['Date','Adj Close']]"
   ]
  },
  {
   "cell_type": "code",
   "execution_count": 129,
   "metadata": {},
   "outputs": [],
   "source": [
    "for path in file_path_list :\n",
    "    \n",
    "    etfdata  = load_data(path)\n",
    "    \n",
    "    first_etf = merge(first_etf,path)\n",
    "\n",
    "    name_all_columns(lonestpath[0][-8:-1],first_etf,save_path,'test')\n"
   ]
  }
 ],
 "metadata": {
  "kernelspec": {
   "display_name": "Python 3",
   "language": "python",
   "name": "python3"
  },
  "language_info": {
   "codemirror_mode": {
    "name": "ipython",
    "version": 3
   },
   "file_extension": ".py",
   "mimetype": "text/x-python",
   "name": "python",
   "nbconvert_exporter": "python",
   "pygments_lexer": "ipython3",
   "version": "3.7.2"
  }
 },
 "nbformat": 4,
 "nbformat_minor": 2
}
