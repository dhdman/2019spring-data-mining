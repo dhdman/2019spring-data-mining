{
 "cells": [
  {
   "cell_type": "code",
   "execution_count": 1,
   "metadata": {},
   "outputs": [],
   "source": [
    "import numpy as np\n",
    "import pandas as pd\n",
    "import time\n",
    "import requests"
   ]
  },
  {
   "cell_type": "code",
   "execution_count": 2,
   "metadata": {},
   "outputs": [],
   "source": [
    "data = pd.read_csv('C:\\\\Users\\\\USER\\\\github\\\\HW1--data-mining\\\\ETF_data_set\\\\ETF_removefist7.csv')"
   ]
  },
  {
   "cell_type": "code",
   "execution_count": 4,
   "metadata": {},
   "outputs": [
    {
     "data": {
      "text/html": [
       "<div>\n",
       "<style scoped>\n",
       "    .dataframe tbody tr th:only-of-type {\n",
       "        vertical-align: middle;\n",
       "    }\n",
       "\n",
       "    .dataframe tbody tr th {\n",
       "        vertical-align: top;\n",
       "    }\n",
       "\n",
       "    .dataframe thead th {\n",
       "        text-align: right;\n",
       "    }\n",
       "</style>\n",
       "<table border=\"1\" class=\"dataframe\">\n",
       "  <thead>\n",
       "    <tr style=\"text-align: right;\">\n",
       "      <th></th>\n",
       "      <th>Unnamed: 0</th>\n",
       "      <th>Symbol</th>\n",
       "      <th>ETF Name</th>\n",
       "      <th>Asset Class</th>\n",
       "      <th>Total Assets</th>\n",
       "      <th>YTD</th>\n",
       "      <th>Avg Volume</th>\n",
       "      <th>Previous Closing Price</th>\n",
       "      <th>1-Day Change</th>\n",
       "      <th>Inverse</th>\n",
       "      <th>...</th>\n",
       "      <th>Returns Rating</th>\n",
       "      <th>Volatility Rating</th>\n",
       "      <th>Dividend Rating</th>\n",
       "      <th>Concentration Rating</th>\n",
       "      <th>ESG Score</th>\n",
       "      <th>ESG Score Peer Percentile (%)</th>\n",
       "      <th>ESG Score Global Percentile (%)</th>\n",
       "      <th>Carbon Intensity (Tons of CO2e / $M Sales)</th>\n",
       "      <th>SRI Exclusion Criteria (%)</th>\n",
       "      <th>Sustainable Impact Solutions (%)</th>\n",
       "    </tr>\n",
       "  </thead>\n",
       "  <tbody>\n",
       "    <tr>\n",
       "      <th>0</th>\n",
       "      <td>0</td>\n",
       "      <td>EEM</td>\n",
       "      <td>iShares MSCI Emerging Markets ETF</td>\n",
       "      <td>Equity</td>\n",
       "      <td>US$33,806,372,014.00</td>\n",
       "      <td>9.47%</td>\n",
       "      <td>95,219,072</td>\n",
       "      <td>US$42.76</td>\n",
       "      <td>-0.79%</td>\n",
       "      <td>No</td>\n",
       "      <td>...</td>\n",
       "      <td>B</td>\n",
       "      <td>B</td>\n",
       "      <td>B</td>\n",
       "      <td>A</td>\n",
       "      <td>4.34</td>\n",
       "      <td>31.40%</td>\n",
       "      <td>14.72%</td>\n",
       "      <td>344.66</td>\n",
       "      <td>3.21%</td>\n",
       "      <td>4.32%</td>\n",
       "    </tr>\n",
       "    <tr>\n",
       "      <th>1</th>\n",
       "      <td>1</td>\n",
       "      <td>VWO</td>\n",
       "      <td>Vanguard FTSE Emerging Markets ETF</td>\n",
       "      <td>Equity</td>\n",
       "      <td>US$60,569,126,307.00</td>\n",
       "      <td>8.85%</td>\n",
       "      <td>22,156,650</td>\n",
       "      <td>US$41.47</td>\n",
       "      <td>-0.74%</td>\n",
       "      <td>No</td>\n",
       "      <td>...</td>\n",
       "      <td>B+</td>\n",
       "      <td>B</td>\n",
       "      <td>B+</td>\n",
       "      <td>A+</td>\n",
       "      <td>4.31</td>\n",
       "      <td>28.37%</td>\n",
       "      <td>14.14%</td>\n",
       "      <td>389.41</td>\n",
       "      <td>2.87%</td>\n",
       "      <td>4.00%</td>\n",
       "    </tr>\n",
       "    <tr>\n",
       "      <th>2</th>\n",
       "      <td>2</td>\n",
       "      <td>SPEM</td>\n",
       "      <td>SPDR Portfolio Emerging Markets ETF</td>\n",
       "      <td>Equity</td>\n",
       "      <td>US$2,260,221,490.00</td>\n",
       "      <td>8.90%</td>\n",
       "      <td>1,023,716</td>\n",
       "      <td>US$35.24</td>\n",
       "      <td>-0.59%</td>\n",
       "      <td>No</td>\n",
       "      <td>...</td>\n",
       "      <td>NaN</td>\n",
       "      <td>NaN</td>\n",
       "      <td>NaN</td>\n",
       "      <td>NaN</td>\n",
       "      <td>4.36</td>\n",
       "      <td>36.28%</td>\n",
       "      <td>15.21%</td>\n",
       "      <td>408.03</td>\n",
       "      <td>3.32%</td>\n",
       "      <td>4.07%</td>\n",
       "    </tr>\n",
       "  </tbody>\n",
       "</table>\n",
       "<p>3 rows × 55 columns</p>\n",
       "</div>"
      ],
      "text/plain": [
       "   Unnamed: 0 Symbol                             ETF Name Asset Class  \\\n",
       "0           0    EEM    iShares MSCI Emerging Markets ETF      Equity   \n",
       "1           1    VWO   Vanguard FTSE Emerging Markets ETF      Equity   \n",
       "2           2   SPEM  SPDR Portfolio Emerging Markets ETF      Equity   \n",
       "\n",
       "            Total Assets    YTD  Avg Volume Previous Closing Price  \\\n",
       "0  US$33,806,372,014.00   9.47%  95,219,072               US$42.76   \n",
       "1  US$60,569,126,307.00   8.85%  22,156,650               US$41.47   \n",
       "2   US$2,260,221,490.00   8.90%   1,023,716               US$35.24   \n",
       "\n",
       "  1-Day Change Inverse  ... Returns Rating Volatility Rating Dividend Rating  \\\n",
       "0       -0.79%      No  ...              B                 B               B   \n",
       "1       -0.74%      No  ...             B+                 B              B+   \n",
       "2       -0.59%      No  ...            NaN               NaN             NaN   \n",
       "\n",
       "  Concentration Rating ESG Score ESG Score Peer Percentile (%)  \\\n",
       "0                    A      4.34                        31.40%   \n",
       "1                   A+      4.31                        28.37%   \n",
       "2                  NaN      4.36                        36.28%   \n",
       "\n",
       "  ESG Score Global Percentile (%) Carbon Intensity (Tons of CO2e / $M Sales)  \\\n",
       "0                          14.72%                                     344.66   \n",
       "1                          14.14%                                     389.41   \n",
       "2                          15.21%                                     408.03   \n",
       "\n",
       "  SRI Exclusion Criteria (%) Sustainable Impact Solutions (%)  \n",
       "0                      3.21%                            4.32%  \n",
       "1                      2.87%                            4.00%  \n",
       "2                      3.32%                            4.07%  \n",
       "\n",
       "[3 rows x 55 columns]"
      ]
     },
     "execution_count": 4,
     "metadata": {},
     "output_type": "execute_result"
    }
   ],
   "source": [
    "data.head(3)"
   ]
  },
  {
   "cell_type": "code",
   "execution_count": 6,
   "metadata": {},
   "outputs": [],
   "source": [
    "ETF_name = data['Symbol'].to_list"
   ]
  },
  {
   "cell_type": "code",
   "execution_count": 8,
   "metadata": {},
   "outputs": [
    {
     "ename": "TypeError",
     "evalue": "'method' object is not subscriptable",
     "output_type": "error",
     "traceback": [
      "\u001b[1;31m---------------------------------------------------------------------------\u001b[0m",
      "\u001b[1;31mTypeError\u001b[0m                                 Traceback (most recent call last)",
      "\u001b[1;32m<ipython-input-8-f50446412527>\u001b[0m in \u001b[0;36m<module>\u001b[1;34m\u001b[0m\n\u001b[1;32m----> 1\u001b[1;33m \u001b[0mETF_name\u001b[0m\u001b[1;33m[\u001b[0m\u001b[1;36m0\u001b[0m\u001b[1;33m]\u001b[0m\u001b[1;33m\u001b[0m\u001b[1;33m\u001b[0m\u001b[0m\n\u001b[0m",
      "\u001b[1;31mTypeError\u001b[0m: 'method' object is not subscriptable"
     ]
    }
   ],
   "source": [
    "ETF_name[0]"
   ]
  },
  {
   "cell_type": "code",
   "execution_count": null,
   "metadata": {},
   "outputs": [],
   "source": []
  },
  {
   "cell_type": "code",
   "execution_count": null,
   "metadata": {},
   "outputs": [],
   "source": []
  },
  {
   "cell_type": "code",
   "execution_count": null,
   "metadata": {},
   "outputs": [],
   "source": []
  }
 ],
 "metadata": {
  "kernelspec": {
   "display_name": "Python 3",
   "language": "python",
   "name": "python3"
  },
  "language_info": {
   "codemirror_mode": {
    "name": "ipython",
    "version": 3
   },
   "file_extension": ".py",
   "mimetype": "text/x-python",
   "name": "python",
   "nbconvert_exporter": "python",
   "pygments_lexer": "ipython3",
   "version": "3.7.2"
  }
 },
 "nbformat": 4,
 "nbformat_minor": 2
}
