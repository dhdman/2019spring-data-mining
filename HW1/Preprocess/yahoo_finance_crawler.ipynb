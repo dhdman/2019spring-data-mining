{
 "cells": [
  {
   "cell_type": "code",
   "execution_count": 2,
   "metadata": {},
   "outputs": [],
   "source": [
    "#!/usr/bin/env python\n",
    "# coding: utf-8\n",
    "# In[1]:\n",
    "from selenium import webdriver\n",
    "import numpy as np\n",
    "import pandas as pd\n",
    "import time\n",
    "import requests\n",
    "from bs4 import BeautifulSoup\n",
    "from selenium import webdriver\n",
    "driver = webdriver.Chrome('C:\\\\Users\\\\USER\\\\Desktop\\\\chromedriver')\n",
    "# In[3]:\n",
    "filename = \"C:/Users/USER/github/HW1--data-mining/ETF_data_set/filter_date_data_ETF.csv\"\n",
    "df = pd.read_csv(filename)"
   ]
  },
  {
   "cell_type": "code",
   "execution_count": 3,
   "metadata": {
    "scrolled": true
   },
   "outputs": [
    {
     "name": "stdout",
     "output_type": "stream",
     "text": [
      "VWO\n"
     ]
    },
    {
     "ename": "IndexError",
     "evalue": "list index out of range",
     "output_type": "error",
     "traceback": [
      "\u001b[1;31m---------------------------------------------------------------------------\u001b[0m",
      "\u001b[1;31mIndexError\u001b[0m                                Traceback (most recent call last)",
      "\u001b[1;32m<ipython-input-3-e3509822e6e9>\u001b[0m in \u001b[0;36m<module>\u001b[1;34m\u001b[0m\n\u001b[0;32m      9\u001b[0m \u001b[1;33m\u001b[0m\u001b[0m\n\u001b[0;32m     10\u001b[0m     \u001b[0marrows\u001b[0m \u001b[1;33m=\u001b[0m \u001b[0mdriver\u001b[0m\u001b[1;33m.\u001b[0m\u001b[0mfind_elements_by_css_selector\u001b[0m \u001b[1;33m(\u001b[0m\u001b[1;34m\".historical div div span svg\"\u001b[0m\u001b[1;33m)\u001b[0m\u001b[1;33m\u001b[0m\u001b[1;33m\u001b[0m\u001b[0m\n\u001b[1;32m---> 11\u001b[1;33m     \u001b[0marrows\u001b[0m \u001b[1;33m[\u001b[0m\u001b[1;36m0\u001b[0m\u001b[1;33m]\u001b[0m\u001b[1;33m.\u001b[0m\u001b[0mclick\u001b[0m \u001b[1;33m(\u001b[0m\u001b[1;33m)\u001b[0m\u001b[1;33m\u001b[0m\u001b[1;33m\u001b[0m\u001b[0m\n\u001b[0m\u001b[0;32m     12\u001b[0m     \u001b[0mtime\u001b[0m\u001b[1;33m.\u001b[0m\u001b[0msleep\u001b[0m \u001b[1;33m(\u001b[0m\u001b[1;36m4\u001b[0m\u001b[1;33m)\u001b[0m\u001b[1;33m\u001b[0m\u001b[1;33m\u001b[0m\u001b[0m\n\u001b[0;32m     13\u001b[0m \u001b[1;33m\u001b[0m\u001b[0m\n",
      "\u001b[1;31mIndexError\u001b[0m: list index out of range"
     ]
    }
   ],
   "source": [
    "for symbol in df['Symbol']:\n",
    "    print(symbol)\n",
    "    url = 'https://finance.yahoo.com/quote/{}/history?period1=1110384000&period2=1552665600&interval=1mo&filter=history&frequency=1mo'.format(symbol)\n",
    "    driver.get(url)\n",
    "    \n",
    "    \n",
    "    \n",
    "    ### select historical\n",
    "    \n",
    "    arrows = driver.find_elements_by_css_selector (\".historical div div span svg\")\n",
    "    arrows [0].click ()\n",
    "    time.sleep (4)\n",
    "    \n",
    "    \n",
    "    ### select timetrend term\n",
    "    \n",
    "    durations = driver.find_elements_by_css_selector (\"[data-test=\\\"date-picker-menu\\\"] div span\")\n",
    "    for duration in durations :\n",
    "        print('time_span = ', duration.text)\n",
    "        if duration.text == \"MAX\" :\n",
    "            duration.click ()\n",
    "            time.sleep (4)\n",
    "            break\n",
    "            \n",
    "            \n",
    "            \n",
    "    ### select done buttom\n",
    "    \n",
    "    buttons = driver.find_elements_by_css_selector (\"[data-test=\\\"date-picker-menu\\\"] div button\")\n",
    "    for button in buttons :\n",
    "        print('buttom = ',button.text)\n",
    "        if button.text == \"Done\" :\n",
    "            button.click ()\n",
    "            time.sleep (4)\n",
    "            break\n",
    "            \n",
    "            \n",
    "    ### select apply buttom\n",
    "    \n",
    "    buttons = driver.find_elements_by_css_selector (\"button span\")\n",
    "    for button in buttons :\n",
    "        print('buttom = ',button.text)\n",
    "        if button.text == \"Apply\" :\n",
    "            button.click ()\n",
    "            time.sleep (4)\n",
    "            break\n",
    "            \n",
    "            \n",
    "            \n",
    "    ### select download \n",
    "    \n",
    "    links = driver.find_elements_by_css_selector (\"a span\")\n",
    "    for link in links :\n",
    "        print('link =',link.text)\n",
    "        if link.text == \"Download Data\" :\n",
    "            #link.click ()                      <===========  download already so we don't run it\n",
    "            #time.sleep (4)   \n",
    "            break\n",
    "            \n",
    "            "
   ]
  },
  {
   "cell_type": "code",
   "execution_count": 3,
   "metadata": {},
   "outputs": [],
   "source": [
    "driver.quit()"
   ]
  },
  {
   "cell_type": "code",
   "execution_count": null,
   "metadata": {},
   "outputs": [],
   "source": []
  },
  {
   "cell_type": "code",
   "execution_count": null,
   "metadata": {},
   "outputs": [],
   "source": []
  }
 ],
 "metadata": {
  "kernelspec": {
   "display_name": "Python 3",
   "language": "python",
   "name": "python3"
  },
  "language_info": {
   "codemirror_mode": {
    "name": "ipython",
    "version": 3
   },
   "file_extension": ".py",
   "mimetype": "text/x-python",
   "name": "python",
   "nbconvert_exporter": "python",
   "pygments_lexer": "ipython3",
   "version": "3.7.2"
  }
 },
 "nbformat": 4,
 "nbformat_minor": 2
}
