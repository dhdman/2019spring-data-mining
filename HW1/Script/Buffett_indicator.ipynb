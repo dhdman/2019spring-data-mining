{
 "cells": [
  {
   "cell_type": "markdown",
   "metadata": {},
   "source": [
    "# 從 World Bank 取得 Buffett indicator"
   ]
  },
  {
   "cell_type": "code",
   "execution_count": 1,
   "metadata": {},
   "outputs": [],
   "source": [
    "from selenium import webdriver\n",
    "from selenium.webdriver.chrome.options import Options\n",
    "import numpy as np\n",
    "import pandas as pd\n",
    "import requests\n",
    "from bs4 import BeautifulSoup\n",
    "import time\n",
    "import os \n",
    "import zipfile"
   ]
  },
  {
   "cell_type": "code",
   "execution_count": 2,
   "metadata": {},
   "outputs": [
    {
     "name": "stdout",
     "output_type": "stream",
     "text": [
      "./temp資料夾已存在\n"
     ]
    }
   ],
   "source": [
    "# 指定下載檔案存放路徑\n",
    "download_path = \"./temp\";\n",
    "\n",
    "# 檢查路徑是否存在\n",
    "if os.path.exists(download_path) and os.path.isdir(download_path):\n",
    "    print(download_path + '資料夾已存在')\n",
    "else:\n",
    "    os.makedirs(download_path)\n",
    "    print('已新增資料夾')\n",
    "\n",
    "# 設定下載檔案存放路徑\n",
    "prefs = {\"download.default_directory\" : download_path}\n",
    "options = webdriver.ChromeOptions()\n",
    "options.add_experimental_option(\"prefs\",prefs)\n",
    "\n",
    "# 將存放路徑清空\n",
    "for file in os.listdir(download_path):\n",
    "    file_path = os.path.join(download_path, file)\n",
    "    try:\n",
    "        if os.path.isfile(file_path):\n",
    "            os.unlink(file_path)\n",
    "    except Exception as e:\n",
    "        print(e)"
   ]
  },
  {
   "cell_type": "code",
   "execution_count": 3,
   "metadata": {},
   "outputs": [],
   "source": [
    "# 開啟瀏覽器\n",
    "path = \"./chromedriver\"\n",
    "driver = webdriver.Chrome(executable_path=path,options=options)"
   ]
  },
  {
   "cell_type": "code",
   "execution_count": 4,
   "metadata": {},
   "outputs": [
    {
     "name": "stdout",
     "output_type": "stream",
     "text": [
      "進入網頁!\n",
      "本程式需時15秒進行下載，請耐心等候...\n",
      "下載好了!\n"
     ]
    }
   ],
   "source": [
    "# 下載檔案(zip file)\n",
    "url = 'https://data.worldbank.org/indicator/CM.MKT.LCAP.GD.ZS'\n",
    "driver.get(url)\n",
    "print(\"進入網頁!\")\n",
    "button = driver.find_elements_by_link_text('CSV')\n",
    "print('本程式需時15秒進行下載，請耐心等候...')\n",
    "button[0].click()\n",
    "time.sleep(15)\n",
    "if len(os.listdir(download_path)) > 0:\n",
    "    print(\"下載好了!\")\n",
    "    driver.close()\n",
    "else:\n",
    "    print('未下載成功，請重新執行本區塊。')"
   ]
  },
  {
   "cell_type": "code",
   "execution_count": 5,
   "metadata": {},
   "outputs": [],
   "source": [
    "# 解壓縮\n",
    "files = os.listdir(download_path)\n",
    "paths = [os.path.join(download_path,filename) for filename in files]\n",
    "zip_file = max(paths,key=os.path.getctime)\n",
    "zip_ref = zipfile.ZipFile(zip_file,'r')\n",
    "zip_ref.extractall(download_path)\n",
    "zip_ref.close()"
   ]
  },
  {
   "cell_type": "code",
   "execution_count": 6,
   "metadata": {},
   "outputs": [
    {
     "name": "stdout",
     "output_type": "stream",
     "text": [
      "  Country Name Country Code  \\\n",
      "0        Aruba          ABW   \n",
      "1  Afghanistan          AFG   \n",
      "2       Angola          AGO   \n",
      "3      Albania          ALB   \n",
      "4      Andorra          AND   \n",
      "\n",
      "                                      Indicator Name     Indicator Code  1960  \\\n",
      "0  Market capitalization of listed domestic compa...  CM.MKT.LCAP.GD.ZS   NaN   \n",
      "1  Market capitalization of listed domestic compa...  CM.MKT.LCAP.GD.ZS   NaN   \n",
      "2  Market capitalization of listed domestic compa...  CM.MKT.LCAP.GD.ZS   NaN   \n",
      "3  Market capitalization of listed domestic compa...  CM.MKT.LCAP.GD.ZS   NaN   \n",
      "4  Market capitalization of listed domestic compa...  CM.MKT.LCAP.GD.ZS   NaN   \n",
      "\n",
      "   1961  1962  1963  1964  1965     ...       2010  2011  2012  2013  2014  \\\n",
      "0   NaN   NaN   NaN   NaN   NaN     ...        NaN   NaN   NaN   NaN   NaN   \n",
      "1   NaN   NaN   NaN   NaN   NaN     ...        NaN   NaN   NaN   NaN   NaN   \n",
      "2   NaN   NaN   NaN   NaN   NaN     ...        NaN   NaN   NaN   NaN   NaN   \n",
      "3   NaN   NaN   NaN   NaN   NaN     ...        NaN   NaN   NaN   NaN   NaN   \n",
      "4   NaN   NaN   NaN   NaN   NaN     ...        NaN   NaN   NaN   NaN   NaN   \n",
      "\n",
      "   2015  2016  2017  2018  Unnamed: 63  \n",
      "0   NaN   NaN   NaN   NaN          NaN  \n",
      "1   NaN   NaN   NaN   NaN          NaN  \n",
      "2   NaN   NaN   NaN   NaN          NaN  \n",
      "3   NaN   NaN   NaN   NaN          NaN  \n",
      "4   NaN   NaN   NaN   NaN          NaN  \n",
      "\n",
      "[5 rows x 64 columns]\n"
     ]
    }
   ],
   "source": [
    "# 讀出檔案中前5筆資料\n",
    "data_file = zip_file.replace('zip','csv')\n",
    "df = pd.read_csv(data_file,skiprows=4)\n",
    "print(df.head())"
   ]
  },
  {
   "cell_type": "code",
   "execution_count": 7,
   "metadata": {},
   "outputs": [
    {
     "data": {
      "text/html": [
       "<div>\n",
       "<style scoped>\n",
       "    .dataframe tbody tr th:only-of-type {\n",
       "        vertical-align: middle;\n",
       "    }\n",
       "\n",
       "    .dataframe tbody tr th {\n",
       "        vertical-align: top;\n",
       "    }\n",
       "\n",
       "    .dataframe thead th {\n",
       "        text-align: right;\n",
       "    }\n",
       "</style>\n",
       "<table border=\"1\" class=\"dataframe\">\n",
       "  <thead>\n",
       "    <tr style=\"text-align: right;\">\n",
       "      <th></th>\n",
       "      <th>Country Name</th>\n",
       "      <th>Country Code</th>\n",
       "      <th>Indicator Name</th>\n",
       "      <th>Indicator Code</th>\n",
       "      <th>1960</th>\n",
       "      <th>1961</th>\n",
       "      <th>1962</th>\n",
       "      <th>1963</th>\n",
       "      <th>1964</th>\n",
       "      <th>1965</th>\n",
       "      <th>...</th>\n",
       "      <th>2010</th>\n",
       "      <th>2011</th>\n",
       "      <th>2012</th>\n",
       "      <th>2013</th>\n",
       "      <th>2014</th>\n",
       "      <th>2015</th>\n",
       "      <th>2016</th>\n",
       "      <th>2017</th>\n",
       "      <th>2018</th>\n",
       "      <th>Unnamed: 63</th>\n",
       "    </tr>\n",
       "  </thead>\n",
       "  <tbody>\n",
       "    <tr>\n",
       "      <th>249</th>\n",
       "      <td>United States</td>\n",
       "      <td>USA</td>\n",
       "      <td>Market capitalization of listed domestic compa...</td>\n",
       "      <td>CM.MKT.LCAP.GD.ZS</td>\n",
       "      <td>NaN</td>\n",
       "      <td>NaN</td>\n",
       "      <td>NaN</td>\n",
       "      <td>NaN</td>\n",
       "      <td>NaN</td>\n",
       "      <td>NaN</td>\n",
       "      <td>...</td>\n",
       "      <td>115.49734</td>\n",
       "      <td>100.791221</td>\n",
       "      <td>115.555794</td>\n",
       "      <td>143.994423</td>\n",
       "      <td>151.085494</td>\n",
       "      <td>138.336379</td>\n",
       "      <td>146.861593</td>\n",
       "      <td>165.650862</td>\n",
       "      <td>NaN</td>\n",
       "      <td>NaN</td>\n",
       "    </tr>\n",
       "  </tbody>\n",
       "</table>\n",
       "<p>1 rows × 64 columns</p>\n",
       "</div>"
      ],
      "text/plain": [
       "      Country Name Country Code  \\\n",
       "249  United States          USA   \n",
       "\n",
       "                                        Indicator Name     Indicator Code  \\\n",
       "249  Market capitalization of listed domestic compa...  CM.MKT.LCAP.GD.ZS   \n",
       "\n",
       "     1960  1961  1962  1963  1964  1965     ...            2010        2011  \\\n",
       "249   NaN   NaN   NaN   NaN   NaN   NaN     ...       115.49734  100.791221   \n",
       "\n",
       "           2012        2013        2014        2015        2016        2017  \\\n",
       "249  115.555794  143.994423  151.085494  138.336379  146.861593  165.650862   \n",
       "\n",
       "     2018  Unnamed: 63  \n",
       "249   NaN          NaN  \n",
       "\n",
       "[1 rows x 64 columns]"
      ]
     },
     "execution_count": 7,
     "metadata": {},
     "output_type": "execute_result"
    }
   ],
   "source": [
    "# 讀取美國單一國家的資料(每年的指標數值)\n",
    "df.loc[df['Country Code']=='USA']"
   ]
  },
  {
   "cell_type": "code",
   "execution_count": 8,
   "metadata": {},
   "outputs": [
    {
     "data": {
      "text/plain": [
       "249    165.650862\n",
       "Name: 2017, dtype: float64"
      ]
     },
     "execution_count": 8,
     "metadata": {},
     "output_type": "execute_result"
    }
   ],
   "source": [
    "# 讀取美國2017年的指標值 (2018尚未有數值)\n",
    "df[df['Country Code']=='USA']['2017']"
   ]
  },
  {
   "cell_type": "code",
   "execution_count": null,
   "metadata": {},
   "outputs": [],
   "source": []
  }
 ],
 "metadata": {
  "kernelspec": {
   "display_name": "Python 3",
   "language": "python",
   "name": "python3"
  },
  "language_info": {
   "codemirror_mode": {
    "name": "ipython",
    "version": 3
   },
   "file_extension": ".py",
   "mimetype": "text/x-python",
   "name": "python",
   "nbconvert_exporter": "python",
   "pygments_lexer": "ipython3",
   "version": "3.7.2"
  }
 },
 "nbformat": 4,
 "nbformat_minor": 2
}
