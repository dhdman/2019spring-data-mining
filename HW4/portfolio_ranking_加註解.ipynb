{
 "cells": [
  {
   "cell_type": "code",
   "execution_count": null,
   "metadata": {},
   "outputs": [],
   "source": [
    "import pandas as pd\n",
    "import numpy as np\n",
    "import matplotlib.pyplot as plt\n",
    "import datetime as dt\n",
    "import seaborn as sns\n",
    "from scipy import stats\n",
    "import math as m\n",
    "from sklearn.neighbors.kde import KernelDensity\n",
    "from sympy import *\n",
    "from scipy.stats.kde import gaussian_kde\n",
    "from scipy.stats import norm\n",
    "from numpy import linspace, hstack\n",
    "import requests \n",
    "from bs4 import BeautifulSoup\n",
    "import urllib.request\n",
    "import os\n",
    "#from pyquery import PyQuery as pq\n",
    "import pickle\n",
    "from selenium import webdriver\n",
    "import time\n",
    "import calendar\n",
    "import warnings\n",
    "warnings.filterwarnings('ignore')\n",
    "\n",
    "\n",
    "def compute_riskiness(data,i):\n",
    "#    print data.var()/(2*data.mean())\n",
    "    probDensityFun = gaussian_kde(data)\n",
    "    x = linspace(-0.2,0.2,200)\n",
    "    p=(probDensityFun(x)/probDensityFun(x).sum())\n",
    "    g=list(map(lambda x: m.exp(-x*i), x))\n",
    "    return 1-p.dot(g)\n",
    "\n",
    "def compute_riskiness_r(data):\n",
    "    if data.mean()<0:\n",
    "        temp_past=1\n",
    "        i=0\n",
    "        while temp_past>=-1e-6 and compute_riskiness(data,i)>=-1e-6:\n",
    "            temp_past=compute_riskiness(data,i)\n",
    "            i=i-1\n",
    "        i=i+1\n",
    "        temp_past=1\n",
    "        j=0\n",
    "        while temp_past>=-1e-6 and compute_riskiness(data,i+j/10.0)>=-1e-6:\n",
    "            temp_past=compute_riskiness(data,i+j/10.0)\n",
    "            j=j-1\n",
    "        j=j+1\n",
    "        temp_past=1\n",
    "        k=0\n",
    "        while temp_past>=-1e-6 and compute_riskiness(data,i+j/10.0+k/100.0)>=-1e-6:\n",
    "            temp_past=compute_riskiness(data,i+j/10.0+k/100.0)\n",
    "            k=k-1\n",
    "        k=k+1\n",
    "        return i+j/10.0+k/100.0\n",
    "    else:\n",
    "        temp_past=1\n",
    "        i=0\n",
    "        while temp_past>=-1e-6 and compute_riskiness(data,i)>=-1e-6:\n",
    "            temp_past=compute_riskiness(data,i)\n",
    "            i=i+1\n",
    "        i=i-1\n",
    "        temp_past=1\n",
    "        j=0\n",
    "        while temp_past>=-1e-6 and compute_riskiness(data,i+j/10.0)>=-1e-6:\n",
    "            temp_past=compute_riskiness(data,i+j/10.0)\n",
    "            j=j+1\n",
    "        j=j-1\n",
    "        temp_past=1\n",
    "        k=0\n",
    "        while temp_past>=-1e-6 and compute_riskiness(data,i+j/10.0+k/100.0)>=-1e-6:\n",
    "            temp_past=compute_riskiness(data,i+j/10.0+k/100.0)\n",
    "            k=k+1\n",
    "        k=k-1\n",
    "        return i+j/10.0+k/100.0\n",
    "    \n",
    "def check_download_file(com_data):\n",
    "    options = webdriver.ChromeOptions()\n",
    "    prefs = {'download.default_directory': './data_yahoo'}\n",
    "    options.add_experimental_option('prefs', prefs)\n",
    "    browser=webdriver.Chrome(options=options) \n",
    "    \n",
    "    for s in Symbol:\n",
    "        data = com_data[s].values\n",
    "        if (np.sum(np.isnan(data)) > 10):\n",
    "            os.remove(f'./data_yahoo/{s}.csv')\n",
    "            date_time=Inception.loc[s]\n",
    "            date_time=dt.datetime.strptime(date_time, '%d/%m/%Y').strftime(\"%m/%d/%Y\")\n",
    "            get_single_symbol(s,browser,date_time,5)\n",
    "    browser.quit()\n",
    "    \n",
    "def get_single_symbol(symbol,browser,date,wait = 3):\n",
    "    # check directory\n",
    "    if not os.path.isdir('./data_yahoo'):\n",
    "        os.mkdir('./data_yahoo')\n",
    "    \n",
    "    filepath = f'./data_yahoo/{symbol}.csv'\n",
    "    if os.path.isfile(filepath):\n",
    "        print('File exist')\n",
    "        return \n",
    "    \n",
    "    url = f'https://finance.yahoo.com/quote/{symbol}/history?p={symbol}'\n",
    "    browser.get(url)\n",
    "    browser.find_element_by_css_selector(\"[class='C(t) O(n):f Tsh($actionBlueTextShadow) Bd(n) Bgc(t) Fz(14px) Pos(r) T(-1px) Bd(n):f Bxsh(n):f Cur(p) W(190px)']\").click()\n",
    "    start_date = browser.find_element_by_css_selector(\"[class='Bdrs(0) Bxsh(n)! Fz(s) Bxz(bb) D(ib) Bg(n) Pend(5px) Px(8px) Py(0) H(34px) Lh(34px) Bd O(n):f O(n):h Bdc($c-fuji-grey-c) Bdc($c-fuji-blue-1-b):f M(0) Pstart(10px) Bgc(white) W(90px) Mt(5px)']\")\n",
    "    start_date.clear()\n",
    "    start_date.send_keys(date)\n",
    "    end_date = browser.find_element_by_css_selector(\"[class='Bdrs(0) Bxsh(n)! Fz(s) Bxz(bb) D(ib) Bg(n) Pend(5px) Px(8px) Py(0) H(34px) Lh(34px) Bd O(n):f O(n):h Bdc($c-fuji-grey-c) Bdc($c-fuji-blue-1-b):f M(0) Pstart(10px) Bgc(white) W(90px) Mt(5px) Mstart(15px)']\")\n",
    "    end_date.clear()\n",
    "    end_date.send_keys(today)\n",
    "\n",
    "    try:\n",
    "        browser.find_element_by_css_selector(\"[class=' Bgc($c-fuji-blue-1-b) Bdrs(3px) Px(20px) Miw(100px) Whs(nw) Fz(s) Fw(500) C(white) Bgc($actionBlueHover):h Bd(0) D(ib) Cur(p) Td(n)  Py(9px) Miw(80px)! Fl(start)']\").click()\n",
    "    except:\n",
    "        browser.find_element_by_css_selector(\"[class=' Bd Bdc($c-fuji-blue-1-b) Bdrs(3px) Px(20px) Miw(100px) Whs(nw) Fz(s) Fw(500) D(ib) C($c-fuji-blue-1-b) Bdc($actionBlueHover):h C($actionBlueHover):h Cur(p) Td(n)  Py(8px) cancel Miw(80px)! Fl(end)']\").click()\n",
    "        browser.find_element_by_css_selector(\"[class='C(t) O(n):f Tsh($actionBlueTextShadow) Bd(n) Bgc(t) Fz(14px) Pos(r) T(-1px) Bd(n):f Bxsh(n):f Cur(p) W(190px)']\").click()\n",
    "        browser.find_element_by_css_selector(\"[class=' Bgc($c-fuji-blue-1-b) Bdrs(3px) Px(20px) Miw(100px) Whs(nw) Fz(s) Fw(500) C(white) Bgc($actionBlueHover):h Bd(0) D(ib) Cur(p) Td(n)  Py(9px) Miw(80px)! Fl(start)']\").click()\n",
    "\n",
    "    browser.find_element_by_css_selector(\"[class=' Bgc($c-fuji-blue-1-b) Bdrs(3px) Px(20px) Miw(100px) Whs(nw) Fz(s) Fw(500) C(white) Bgc($actionBlueHover):h Bd(0) D(ib) Cur(p) Td(n)  Py(9px) Fl(end)']\").click()\n",
    "    time.sleep(5)\n",
    "    browser.find_element_by_css_selector(\"[class='Fl(end) Mt(3px) Cur(p)']\").click()\n",
    "    time.sleep(wait)\n",
    "\n",
    "    while not os.path.isfile(filepath):\n",
    "        browser.find_element_by_css_selector(\"[class='Fl(end) Mt(3px) Cur(p)']\").click()\n",
    "        time.sleep(wait)\n",
    "\n",
    "    print('Download',symbol)\n",
    "    \n",
    "def get_all_symbol_csv(dic):\n",
    "    \n",
    "    # check directory\n",
    "    if not os.path.isdir('./data_yahoo'):\n",
    "        os.mkdir('./data_yahoo')\n",
    "\n",
    "    options = webdriver.ChromeOptions()\n",
    "    prefs = {'download.default_directory': './data_yahoo'}\n",
    "    options.add_experimental_option('prefs', prefs)\n",
    "    browser = webdriver.Chrome(options=options) \n",
    "    \n",
    "    for s in Symbol:\n",
    "        try:\n",
    "            date_time = Inception.loc[s]\n",
    "            date_time = dt.datetime.strptime(date_time, '%d/%m/%Y').strftime(\"%m/%d/%Y\")\n",
    "            get_single_symbol(s,browser,date_time)\n",
    "        except:\n",
    "            continue\n",
    "\n",
    "    browser.quit()\n",
    "    \n",
    "def combine_data(dic,last_day_of_month):\n",
    "    com_data = pd.DataFrame(last_day_of_month[::-1],columns=['Date'])\n",
    "        \n",
    "    for s in Symbol:\n",
    "        data = pd.read_csv(f'./data_yahoo/{s}.csv')\n",
    "        data['Date'] = pd.to_datetime(data['Date'], format=\"%Y-%m-%d\")\n",
    "        \n",
    "        # Mask\n",
    "        mask = [False for i in range(data['Date'].shape[0])]\n",
    "        for day in last_day_of_month:\n",
    "            temp = data['Date'] == day\n",
    "            mask |= temp\n",
    "        data = data[mask]\n",
    "        \n",
    "        data_close = data[['Date','Close']].reset_index(drop=True)\n",
    "        data_close = data_close.rename(columns={'Close':s})\n",
    "        com_data = com_data.merge(data_close,on='Date',how='left')\n",
    "        \n",
    "    # check directory\n",
    "    if not os.path.isdir('./Combine_data'):\n",
    "        os.mkdir('./Combine_data')\n",
    "    com_data.to_csv('./Combine_data/com_data.csv')\n",
    "    \n",
    "    return com_data\n",
    "\n",
    "def combine_daily_data(Symbol):\n",
    "    com_data = pd.DataFrame()\n",
    "    for s in Symbol:\n",
    "        data = pd.read_csv(f'./data_yahoo/{s}.csv',index_col=0,parse_dates=True)[\"Adj Close\"]\n",
    "        com_data = pd.concat([com_data,data],axis=1)\n",
    "    com_data.columns = Symbol\n",
    "    return com_data\n",
    "\n",
    "def check_download_file(com_data):\n",
    "    options = webdriver.ChromeOptions()\n",
    "    prefs = {'download.default_directory': './data_yahoo'}\n",
    "    options.add_experimental_option('prefs', prefs)\n",
    "    browser=webdriver.Chrome(options=options) \n",
    "    \n",
    "    for s in Symbol:\n",
    "        data = com_data[s].values\n",
    "        if (np.sum(np.isnan(data)) > 10):\n",
    "            os.remove(f'./data_yahoo/{s}.csv')\n",
    "            get_single_symbol(s,browser,5)\n",
    "    browser.quit()"
   ]
  },
  {
   "cell_type": "code",
   "execution_count": null,
   "metadata": {},
   "outputs": [],
   "source": [
    "# USG3M.xlsx檔案裡有三組資料，但因為沒有head，看不懂是什麼資料，似乎與無風險利率有關\n",
    "bond_rate = pd.read_excel(\"USG3M.xlsx\",index_col=0,parse_dates=True,header=None)\n",
    "\n",
    "# 取第一組資料\n",
    "USG3M = bond_rate[1]\n",
    "\n",
    "Inception = pd.read_excel(\"origin_list.xlsm\",index_col=0)[\"Inception\"]\n",
    "# 取出ETF名稱(簡寫)\n",
    "Symbol = list(Inception.index)\n",
    "# 取得今天日期 (月/日/年)\n",
    "today = str(dt.datetime.today().month)+\"/\"+str(dt.datetime.today().day)+\"/\"+str(dt.datetime.today().year)\n",
    "\n",
    "# ***** 從Yahoo下載ETF資料(爬蟲)，不用執行 *****\n",
    "#get_all_symbol_csv(Symbol)\n",
    "\n",
    "# 把所有ETF資料合在一個dataframe\n",
    "etf_data = combine_daily_data(Symbol)\n",
    "etf_data.head()"
   ]
  },
  {
   "cell_type": "code",
   "execution_count": null,
   "metadata": {},
   "outputs": [],
   "source": [
    "day = etf_data.index[0]\n",
    "index_num = 0\n",
    "while day != etf_data.index[-1]:\n",
    "    if (etf_data.index[index_num+1]-etf_data.index[index_num]).days != 1:\n",
    "        for i in range(1,(etf_data.index[index_num+1]-etf_data.index[index_num]).days):\n",
    "            etf_data.loc[etf_data.index[index_num]+dt.timedelta(i)] = etf_data.loc[etf_data.index[index_num]]\n",
    "    etf_data = etf_data.sort_index()\n",
    "    index_num = index_num + (etf_data.index[index_num+1] - etf_data.index[index_num]).days\n",
    "    day = etf_data.index[index_num]"
   ]
  },
  {
   "cell_type": "code",
   "execution_count": null,
   "metadata": {},
   "outputs": [],
   "source": [
    "remove_columns = []\n",
    "for i in range(etf_data.shape[1]):\n",
    "    try:\n",
    "        etf_data.iloc[:,i].dropna().astype(float)\n",
    "    except:\n",
    "        remove_columns.append(etf_data.columns[i])\n",
    "for x in remove_columns:\n",
    "    etf_data.pop(x)"
   ]
  },
  {
   "cell_type": "code",
   "execution_count": null,
   "metadata": {},
   "outputs": [],
   "source": [
    "# 取出週五的index\n",
    "week_index = []\n",
    "for i in range(etf_data.shape[0]):\n",
    "    if etf_data.index[i].isoweekday()==5:\n",
    "        week_index.append(etf_data.index[i])\n",
    "week_index = week_index[:-1]"
   ]
  },
  {
   "cell_type": "code",
   "execution_count": null,
   "metadata": {},
   "outputs": [],
   "source": [
    "# 取出每月1號index\n",
    "month_index = []\n",
    "for i in range(etf_data.shape[0]):\n",
    "    if etf_data.index[i].day==1:\n",
    "        month_index.append(etf_data.index[i])"
   ]
  },
  {
   "cell_type": "code",
   "execution_count": null,
   "metadata": {},
   "outputs": [],
   "source": [
    "etf_data_week = etf_data.loc[week_index]\n",
    "etf_data_month = etf_data.loc[month_index]\n",
    "#etf_data_week.to_csv(\"etf_data_week.csv\")\n",
    "#etf_data_month.to_csv(\"etf_data_month.csv\")\n",
    "print(etf_data_week.shape)\n",
    "print(etf_data_month.shape)"
   ]
  },
  {
   "cell_type": "code",
   "execution_count": null,
   "metadata": {},
   "outputs": [],
   "source": [
    "#etf_data_week=pd.read_csv(\"etf_data_week.csv\",index_col=0,parse_dates=True)\n",
    "#etf_data_month=pd.read_csv(\"etf_data_month.csv\",index_col=0,parse_dates=True)"
   ]
  },
  {
   "cell_type": "code",
   "execution_count": null,
   "metadata": {},
   "outputs": [],
   "source": [
    "etf_data_week_return = etf_data_week/etf_data_week.shift(1)\n",
    "etf_data_month_return = etf_data_month/etf_data_month.shift(1)\n",
    "print(etf_data_week_return.shape)\n",
    "print(etf_data_month_return.shape)"
   ]
  },
  {
   "cell_type": "markdown",
   "metadata": {},
   "source": [
    "### 以下7段是取EWM這支ETF來畫圖，可以跳過"
   ]
  },
  {
   "cell_type": "code",
   "execution_count": null,
   "metadata": {},
   "outputs": [],
   "source": [
    "data_for_plot_week = etf_data_week_return[\"EWM\"][1:]\n",
    "data_for_plot_month = etf_data_month_return[\"EWM\"][1:]"
   ]
  },
  {
   "cell_type": "code",
   "execution_count": null,
   "metadata": {
    "scrolled": true
   },
   "outputs": [],
   "source": [
    "plt.figure(figsize=(10,10))\n",
    "plt.hist(data_for_plot_week,bins='auto', color='#0504aa',alpha=0.7, rwidth=0.85)\n",
    "plt.show()\n",
    "plt.figure(figsize=(10,10))\n",
    "sns.set_style('darkgrid')\n",
    "sns.distplot(data_for_plot_week)\n",
    "plt.show()"
   ]
  },
  {
   "cell_type": "code",
   "execution_count": null,
   "metadata": {},
   "outputs": [],
   "source": [
    "plt.figure(figsize=(10,10))\n",
    "plt.hist(data_for_plot_month,bins='auto', color='#0504aa',alpha=0.7, rwidth=0.85)\n",
    "plt.show()\n",
    "plt.figure(figsize=(10,10))\n",
    "sns.set_style('darkgrid')\n",
    "sns.distplot(data_for_plot_month)\n",
    "plt.show()"
   ]
  },
  {
   "cell_type": "code",
   "execution_count": null,
   "metadata": {},
   "outputs": [],
   "source": [
    "fig = plt.figure(figsize=(10,10))\n",
    "res = stats.probplot(data_for_plot_week,dist=\"norm\", plot=plt)\n",
    "plt.title(\"Probplot for normal\")\n",
    "plt.show()\n",
    "fig = plt.figure(figsize=(10,10))\n",
    "res = stats.probplot(np.log(data_for_plot_week),dist=\"norm\", plot=plt)\n",
    "plt.title(\"Probplot for normal\")\n",
    "plt.show()"
   ]
  },
  {
   "cell_type": "code",
   "execution_count": null,
   "metadata": {},
   "outputs": [],
   "source": [
    "fig = plt.figure(figsize=(10,10))\n",
    "res = stats.probplot(data_for_plot_month,dist=\"norm\", plot=plt)\n",
    "plt.title(\"Probplot for normal\")\n",
    "plt.show()\n",
    "fig = plt.figure(figsize=(10,10))\n",
    "res = stats.probplot(np.log(data_for_plot_month),dist=\"norm\", plot=plt)\n",
    "plt.title(\"Probplot for normal\")\n",
    "plt.show()"
   ]
  },
  {
   "cell_type": "code",
   "execution_count": null,
   "metadata": {},
   "outputs": [],
   "source": [
    "temp=[]\n",
    "for i in range(-1000,1000):\n",
    "    temp.append(compute_riskiness(data_for_plot.iloc[0:156]-1,i/100.0))"
   ]
  },
  {
   "cell_type": "code",
   "execution_count": null,
   "metadata": {},
   "outputs": [],
   "source": [
    "plt.figure(figsize=(10,5))\n",
    "plt.plot(range(-1000,1000),temp)\n",
    "plt.show()"
   ]
  },
  {
   "cell_type": "markdown",
   "metadata": {},
   "source": [
    "### omega 週資料"
   ]
  },
  {
   "cell_type": "code",
   "execution_count": null,
   "metadata": {},
   "outputs": [],
   "source": [
    "# 每週有一個omega, why?\n",
    "omega_combine_week = pd.DataFrame()\n",
    "columns_name = []\n",
    "\n",
    "for k in range(etf_data_week_return.shape[1]):\n",
    "    print(k)\n",
    "    temp_etf = etf_data_week_return.iloc[:,k].dropna()\n",
    "    omega = []\n",
    "    if len(temp_etf) >= 156:\n",
    "        columns_name.append(etf_data_week_return.columns[k])\n",
    "    for i in range(156,len(temp_etf)+1):\n",
    "        # 機率密度\n",
    "        probDensityFun = gaussian_kde(temp_etf.iloc[i-156:i]-1)\n",
    "        x = np.linspace(-0.5,0.5,10000)\n",
    "        # 無風險利率\n",
    "        L = USG3M.loc[temp_etf.iloc[i-156:i].index[-1]]\n",
    "        p = (probDensityFun(x)/probDensityFun(x).sum())\n",
    "        p = p.cumsum()\n",
    "        p = pd.DataFrame(p,index=x)\n",
    "        omega.append(((1-p).loc[L/100/52:].sum())/(p.loc[:L/100/52].sum()))\n",
    "    omega = pd.DataFrame(omega,index=temp_etf.index[155:])\n",
    "    omega_combine_week = pd.concat([omega_combine_week,omega],axis=1)\n",
    "omega_combine_week.columns = columns_name"
   ]
  },
  {
   "cell_type": "markdown",
   "metadata": {},
   "source": [
    "### omega月資料"
   ]
  },
  {
   "cell_type": "code",
   "execution_count": null,
   "metadata": {},
   "outputs": [],
   "source": [
    "omega_combine_month = pd.DataFrame()\n",
    "columns_name = []\n",
    "for k in range(etf_data_month_return.shape[1]):\n",
    "    print(k)\n",
    "    temp_etf=etf_data_month_return.iloc[:,k].dropna()\n",
    "    omega=[]\n",
    "    if len(temp_etf)>=36:\n",
    "        columns_name.append(etf_data_month_return.columns[k])\n",
    "    for i in range(36,len(temp_etf)+1):\n",
    "        probDensityFun = gaussian_kde(temp_etf.iloc[i-36:i]-1)\n",
    "        x=np.linspace(-0.5,0.5,10000)\n",
    "        L=USG3M.loc[temp_etf.iloc[i-36:i].index[-1]]\n",
    "        p=(probDensityFun(x)/probDensityFun(x).sum())\n",
    "        p=p.cumsum()\n",
    "        p=pd.DataFrame(p,index=x)\n",
    "        omega.append(((1-p).loc[L/100/12:].sum())/(p.loc[:L/100/12].sum()))\n",
    "    omega=pd.DataFrame(omega,index=temp_etf.index[35:])\n",
    "    omega_combine_month=pd.concat([omega_combine_month,omega],axis=1)\n",
    "omega_combine_month.columns=columns_name"
   ]
  },
  {
   "cell_type": "markdown",
   "metadata": {},
   "source": [
    "### riskiness r週資料"
   ]
  },
  {
   "cell_type": "code",
   "execution_count": null,
   "metadata": {},
   "outputs": [],
   "source": [
    "riskiness_combine_week=pd.DataFrame()\n",
    "columns_name=[]\n",
    "for k in range(etf_data_week_return.shape[1]):\n",
    "    print(k)\n",
    "    temp_etf=etf_data_week_return.iloc[:,k].dropna()\n",
    "    riskiness=[]\n",
    "    if len(temp_etf)>=156:\n",
    "        columns_name.append(etf_data_week_return.columns[k])\n",
    "        for i in range(156,len(temp_etf)+1):\n",
    "            riskiness.append(compute_riskiness_r(temp_etf.iloc[i-156:i]-1))\n",
    "        riskiness=pd.DataFrame(riskiness,index=temp_etf.index[155:])\n",
    "        riskiness=riskiness[0].map(lambda x: m.exp(-x))\n",
    "        riskiness=pd.DataFrame(riskiness,index=temp_etf.index[155:])\n",
    "        riskiness_combine_week=pd.concat([riskiness_combine_week,riskiness],axis=1)\n",
    "riskiness_combine_week.columns=columns_name"
   ]
  },
  {
   "cell_type": "markdown",
   "metadata": {},
   "source": [
    "### riskiness r月資料"
   ]
  },
  {
   "cell_type": "code",
   "execution_count": null,
   "metadata": {},
   "outputs": [],
   "source": [
    "riskiness_combine_month=pd.DataFrame()\n",
    "columns_name=[]\n",
    "for k in range(etf_data_month_return.shape[1]):\n",
    "    print(k)\n",
    "    temp_etf=etf_data_month_return.iloc[:,k].dropna()\n",
    "    riskiness=[]\n",
    "    if len(temp_etf)>=36:\n",
    "        columns_name.append(etf_data_month_return.columns[k])\n",
    "        for i in range(36,len(temp_etf)+1):\n",
    "            riskiness.append(compute_riskiness_r(temp_etf.iloc[i-36:i]-1))\n",
    "        riskiness=pd.DataFrame(riskiness,index=temp_etf.index[35:])\n",
    "        riskiness=riskiness[0].map(lambda x: m.exp(-x))\n",
    "        riskiness=pd.DataFrame(riskiness,index=temp_etf.index[35:])\n",
    "        riskiness_combine_month=pd.concat([riskiness_combine_month,riskiness],axis=1)\n",
    "riskiness_combine_month.columns=columns_name"
   ]
  },
  {
   "cell_type": "markdown",
   "metadata": {},
   "source": [
    "### 存檔"
   ]
  },
  {
   "cell_type": "code",
   "execution_count": null,
   "metadata": {},
   "outputs": [],
   "source": [
    "omega_combine_week.to_csv(\"omega_combine_week.csv\")\n",
    "omega_combine_month.to_csv(\"omega_combine_month.csv\")\n",
    "riskiness_combine_week.to_csv(\"riskiness_combine_week.csv\")\n",
    "riskiness_combine_month.to_csv(\"riskiness_combine_month.csv\")"
   ]
  },
  {
   "cell_type": "markdown",
   "metadata": {},
   "source": [
    "### adjust sharp ratio週資料"
   ]
  },
  {
   "cell_type": "code",
   "execution_count": null,
   "metadata": {},
   "outputs": [],
   "source": [
    "adj_combine_week = pd.DataFrame()\n",
    "cumprod_combine_week=pd.DataFrame()\n",
    "columns_name=[]\n",
    "for k in range(etf_data_week_return.shape[1]):\n",
    "    temp_etf=etf_data_week_return.iloc[:,k].dropna()\n",
    "    temp_etf=np.log(temp_etf)\n",
    "    adj_var=[]\n",
    "    cumprod_return=[]\n",
    "    if len(temp_etf)>=156:\n",
    "        columns_name.append(etf_data_week_return.columns[k])\n",
    "        for i in range(156,len(temp_etf)+1):\n",
    "            mean=(temp_etf.iloc[i-156:i].mean())\n",
    "            std=temp_etf.iloc[i-156:i].std()\n",
    "            skew=temp_etf.iloc[i-156:i].skew()\n",
    "            kurt=temp_etf.iloc[i-156:i].kurt()\n",
    "            var=-1.96\n",
    "            Z=var+(skew*((var**2)-1)/6)+(kurt*((var**3)-3*var)/24)-((skew**2)*(2*(var**3)-5*var)/36)\n",
    "            adj_var.append((-0.5)*(std**2)*52-Z*std*m.sqrt(156))\n",
    "            cumprod_return.append(np.exp(temp_etf.iloc[i-156:i]).cumprod()[-1])\n",
    "        adj_var=pd.DataFrame(adj_var,index=temp_etf.index[155:])\n",
    "        adj_combine_week=pd.concat([adj_combine_week,adj_var],axis=1)\n",
    "        cumprod_return=pd.DataFrame(cumprod_return,index=temp_etf.index[155:])\n",
    "        cumprod_combine_week=pd.concat([cumprod_combine_week,cumprod_return],axis=1)\n",
    "adj_combine_week.columns=columns_name\n",
    "cumprod_combine_week.columns=columns_name\n",
    "sharpe_adj_combine_week=cumprod_combine_week/adj_combine_week"
   ]
  },
  {
   "cell_type": "markdown",
   "metadata": {},
   "source": [
    "### adjust sharp ratio月資料"
   ]
  },
  {
   "cell_type": "code",
   "execution_count": null,
   "metadata": {},
   "outputs": [],
   "source": [
    "adj_combine_month=pd.DataFrame()\n",
    "cumprod_combine_month=pd.DataFrame()\n",
    "columns_name=[]\n",
    "for k in range(etf_data_month_return.shape[1]):\n",
    "    temp_etf=etf_data_month_return.iloc[:,k].dropna()\n",
    "    temp_etf=np.log(temp_etf)\n",
    "    adj_var=[]\n",
    "    cumprod_return=[]\n",
    "    if len(temp_etf)>=36:\n",
    "        columns_name.append(etf_data_month_return.columns[k])\n",
    "        for i in range(36,len(temp_etf)+1):\n",
    "            mean=(temp_etf.iloc[i-36:i].mean())\n",
    "            std=temp_etf.iloc[i-36:i].std()\n",
    "            skew=temp_etf.iloc[i-36:i].skew()\n",
    "            kurt=temp_etf.iloc[i-36:i].kurt()\n",
    "            var=-1.96\n",
    "            Z=var+(skew*((var**2)-1)/6)+(kurt*((var**3)-3*var)/24)-((skew**2)*(2*(var**3)-5*var)/36)\n",
    "            adj_var.append((-0.5)*(std**2)*52-Z*std*m.sqrt(36))\n",
    "            cumprod_return.append(np.exp(temp_etf.iloc[i-36:i]).cumprod()[-1])\n",
    "        adj_var=pd.DataFrame(adj_var,index=temp_etf.index[35:])\n",
    "        adj_combine_month=pd.concat([adj_combine_month,adj_var],axis=1)\n",
    "        cumprod_return=pd.DataFrame(cumprod_return,index=temp_etf.index[35:])\n",
    "        cumprod_combine_month=pd.concat([cumprod_combine_month,cumprod_return],axis=1)\n",
    "adj_combine_month.columns=columns_name\n",
    "cumprod_combine_month.columns=columns_name\n",
    "sharpe_adj_combine_month=cumprod_combine_month/adj_combine_month"
   ]
  },
  {
   "cell_type": "code",
   "execution_count": null,
   "metadata": {},
   "outputs": [],
   "source": [
    "plt.figure(figsize=(20,10))\n",
    "plt.plot(adj_combine_week[\"EWM\"])\n",
    "plt.plot(pd.rolling_std(data_for_plot,window=156)*m.sqrt(52),color='y')\n",
    "#ax1=plt.twinx()\n",
    "#ax1.plot(riskiness_combine[\"EWM\"],color='r')\n",
    "plt.show()"
   ]
  },
  {
   "cell_type": "code",
   "execution_count": null,
   "metadata": {},
   "outputs": [],
   "source": [
    "plt.figure(figsize=(20,10))\n",
    "plt.plot(etf_data[\"EWM\"])\n",
    "plt.title('EWM')\n",
    "ax1=plt.twinx()\n",
    "ax1.plot(sharpe_adj_combine_week[\"EWM\"],color='y')\n",
    "ax1.plot(omega_combine_week[\"EWM\"],color='r')\n",
    "ax2=plt.twinx()\n",
    "ax2.plot(riskiness_combine_week[\"EWM\"].map(lambda x: -log(x)),color='g')\n",
    "plt.show()"
   ]
  },
  {
   "cell_type": "markdown",
   "metadata": {},
   "source": [
    "### 排序"
   ]
  },
  {
   "cell_type": "code",
   "execution_count": null,
   "metadata": {},
   "outputs": [],
   "source": [
    "omega_combine_week_rank=omega_combine_week.rank(axis=1)\n",
    "riskiness_combine_week_rank=riskiness_combine_week.rank(ascending=False,axis=1)\n",
    "sharpe_adj_combine_week_rank=sharpe_adj_combine_week.rank(axis=1)\n",
    "adj_combine_week_rank=adj_combine_week.rank(ascending=False,axis=1)"
   ]
  },
  {
   "cell_type": "code",
   "execution_count": null,
   "metadata": {},
   "outputs": [],
   "source": [
    "omega_combine_month_rank=omega_combine_month.rank(axis=1)\n",
    "riskiness_combine_month_rank=riskiness_combine_month.rank(ascending=False,axis=1)\n",
    "sharpe_adj_combine_month_rank=sharpe_adj_combine_month.rank(axis=1)\n",
    "adj_combine_month_rank=adj_combine_month.rank(ascending=False,axis=1)"
   ]
  },
  {
   "cell_type": "code",
   "execution_count": null,
   "metadata": {},
   "outputs": [],
   "source": [
    "weight_omega_week=pd.DataFrame(columns=omega_combine_week_rank.columns)\n",
    "for i in range(omega_combine_week.shape[0]):\n",
    "    date_now=omega_combine_week.index[i]\n",
    "    weight_omega_week.loc[date_now]=0\n",
    "    weight_omega_week.loc[date_now][omega_combine_week_rank.iloc[i,:].dropna().sort_values()[-10:].index]=0.1\n",
    "weight_riskiness_week=pd.DataFrame(columns=riskiness_combine_week_rank.columns)\n",
    "for i in range(riskiness_combine_week.shape[0]):\n",
    "    date_now=riskiness_combine_week.index[i]\n",
    "    weight_riskiness_week.loc[date_now]=0\n",
    "    weight_riskiness_week.loc[date_now][riskiness_combine_week_rank.iloc[i,:].dropna().sort_values()[-10:].index]=0.1\n",
    "weight_sharpe_week=pd.DataFrame(columns=sharpe_adj_combine_week_rank.columns)\n",
    "for i in range(sharpe_adj_combine_week.shape[0]):\n",
    "    date_now=sharpe_adj_combine_week_rank.index[i]\n",
    "    weight_sharpe_week.loc[date_now]=0\n",
    "    weight_sharpe_week.loc[date_now][sharpe_adj_combine_week_rank.iloc[i,:].dropna().sort_values()[-10:].index]=0.1"
   ]
  },
  {
   "cell_type": "code",
   "execution_count": null,
   "metadata": {},
   "outputs": [],
   "source": [
    "weight_omega_month=pd.DataFrame(columns=omega_combine_month_rank.columns)\n",
    "for i in range(omega_combine_month.shape[0]):\n",
    "    date_now=omega_combine_month.index[i]\n",
    "    weight_omega_month.loc[date_now]=0\n",
    "    weight_omega_month.loc[date_now][omega_combine_month_rank.iloc[i,:].dropna().sort_values()[-10:].index]=0.1\n",
    "weight_riskiness_month=pd.DataFrame(columns=riskiness_combine_month_rank.columns)\n",
    "for i in range(riskiness_combine_month.shape[0]):\n",
    "    date_now=riskiness_combine_month.index[i]\n",
    "    weight_riskiness_month.loc[date_now]=0\n",
    "    weight_riskiness_month.loc[date_now][riskiness_combine_month_rank.iloc[i,:].dropna().sort_values()[-10:].index]=0.1\n",
    "weight_sharpe_month=pd.DataFrame(columns=sharpe_adj_combine_month_rank.columns)\n",
    "for i in range(sharpe_adj_combine_month.shape[0]):\n",
    "    date_now=sharpe_adj_combine_month_rank.index[i]\n",
    "    weight_sharpe_month.loc[date_now]=0\n",
    "    weight_sharpe_month.loc[date_now][sharpe_adj_combine_month_rank.iloc[i,:].dropna().sort_values()[-10:].index]=0.1"
   ]
  },
  {
   "cell_type": "code",
   "execution_count": null,
   "metadata": {
    "scrolled": true
   },
   "outputs": [],
   "source": [
    "enough_index_week=omega_combine_week_rank[omega_combine_week_rank.max(axis=1)>30].index\n",
    "enough_index_month=omega_combine_month_rank[omega_combine_month_rank.max(axis=1)>30].index"
   ]
  },
  {
   "cell_type": "code",
   "execution_count": null,
   "metadata": {},
   "outputs": [],
   "source": [
    "allocation_omega_week=((weight_omega_week.shift(1))*etf_data_week_return).sum(axis=1)[enough_index_week]\n",
    "allocation_riskiness_week=((weight_riskiness_week.shift(1))*etf_data_week_return).sum(axis=1)[enough_index_week]\n",
    "allocation_sharpe_week=((weight_sharpe_week.shift(1))*etf_data_week_return).sum(axis=1)[enough_index_week]\n",
    "allocation_omega_week_price=allocation_omega_week.cumprod()\n",
    "allocation_riskiness_week_price=allocation_riskiness_week.cumprod()\n",
    "allocation_sharpe_week_price=allocation_sharpe_week.cumprod()"
   ]
  },
  {
   "cell_type": "code",
   "execution_count": null,
   "metadata": {},
   "outputs": [],
   "source": [
    "allocation_omega_month=((weight_omega_month.shift(1))*etf_data_month_return).sum(axis=1)[enough_index_month]\n",
    "allocation_riskiness_month=((weight_riskiness_month.shift(1))*etf_data_month_return).sum(axis=1)[enough_index_month]\n",
    "allocation_sharpe_month=((weight_sharpe_month.shift(1))*etf_data_month_return).sum(axis=1)[enough_index_month]\n",
    "allocation_omega_month_price=allocation_omega_month.cumprod()\n",
    "allocation_riskiness_month_price=allocation_riskiness_month.cumprod()\n",
    "allocation_sharpe_month_price=allocation_sharpe_month.cumprod()"
   ]
  },
  {
   "cell_type": "code",
   "execution_count": null,
   "metadata": {
    "scrolled": true
   },
   "outputs": [],
   "source": [
    "average_corr_week=[]\n",
    "for i in range(omega_combine_week_rank.shape[1]):\n",
    "    average_corr_week.append((pd.concat([omega_combine_week_rank.iloc[:,i].dropna(),riskiness_combine_week_rank.iloc[:,i].dropna(),sharpe_adj_combine_week_rank.iloc[:,i].dropna()],axis=1).corr().sum().sum()-3)/6)\n",
    "print(np.array(average_corr_week).mean())"
   ]
  },
  {
   "cell_type": "code",
   "execution_count": null,
   "metadata": {},
   "outputs": [],
   "source": [
    "average_corr_month=[]\n",
    "for i in range(omega_combine_month_rank.shape[1]):\n",
    "    average_corr_month.append((pd.concat([omega_combine_month_rank.iloc[:,i].dropna(),riskiness_combine_month_rank.iloc[:,i].dropna(),sharpe_adj_combine_month_rank.iloc[:,i].dropna()],axis=1).corr().sum().sum()-3)/6)\n",
    "print(np.array(average_corr_month).mean())"
   ]
  },
  {
   "cell_type": "code",
   "execution_count": null,
   "metadata": {},
   "outputs": [],
   "source": [
    "plt.figure(figsize=(20,10))\n",
    "plt.plot(average_corr_week,label='week')\n",
    "plt.plot(average_corr_month,label='month')\n",
    "plt.legend()\n",
    "plt.show()"
   ]
  },
  {
   "cell_type": "code",
   "execution_count": null,
   "metadata": {},
   "outputs": [],
   "source": [
    "add_rank_week=omega_combine_week_rank+riskiness_combine_week_rank+sharpe_adj_combine_week_rank\n",
    "add_rank_month=omega_combine_month_rank+riskiness_combine_month_rank+sharpe_adj_combine_month_rank"
   ]
  },
  {
   "cell_type": "code",
   "execution_count": null,
   "metadata": {},
   "outputs": [],
   "source": [
    "weight_week=pd.DataFrame(columns=add_rank_week.columns)\n",
    "for i in range(add_rank_week.shape[0]):\n",
    "    date_now=add_rank_week.index[i]\n",
    "    weight_week.loc[date_now]=0\n",
    "    weight_week.loc[date_now][add_rank_week.iloc[i,:].dropna().sort_values()[-10:].index]=0.1\n",
    "allocation_week=((weight_week.shift(1))*etf_data_week_return).sum(axis=1)[enough_index_week]"
   ]
  },
  {
   "cell_type": "code",
   "execution_count": null,
   "metadata": {},
   "outputs": [],
   "source": [
    "weight_month=pd.DataFrame(columns=add_rank_month.columns)\n",
    "for i in range(add_rank_month.shape[0]):\n",
    "    date_now=add_rank_month.index[i]\n",
    "    weight_month.loc[date_now]=0\n",
    "    weight_month.loc[date_now][add_rank_month.iloc[i,:].dropna().sort_values()[-10:].index]=0.1\n",
    "allocation_month=((weight_month.shift(1))*etf_data_month_return).sum(axis=1)[enough_index_month]"
   ]
  },
  {
   "cell_type": "code",
   "execution_count": null,
   "metadata": {},
   "outputs": [],
   "source": [
    "plt.figure(figsize=(20,10))\n",
    "plt.plot(allocation_omega_week_price,label='omega')\n",
    "plt.plot(allocation_riskiness_week_price,label='riskiness')\n",
    "plt.plot(allocation_sharpe_week_price,label='sharpe')\n",
    "plt.plot(allocation_week.cumprod(),label='add')\n",
    "plt.legend()\n",
    "plt.show()"
   ]
  },
  {
   "cell_type": "code",
   "execution_count": null,
   "metadata": {},
   "outputs": [],
   "source": [
    "plt.figure(figsize=(20,10))\n",
    "plt.plot(allocation_omega_month_price,label='omega')\n",
    "plt.plot(allocation_riskiness_month_price,label='riskiness')\n",
    "plt.plot(allocation_sharpe_month_price,label='sharpe')\n",
    "plt.plot(allocation_month.cumprod(),label='add')\n",
    "plt.legend()\n",
    "plt.show()"
   ]
  },
  {
   "cell_type": "code",
   "execution_count": null,
   "metadata": {
    "scrolled": false
   },
   "outputs": [],
   "source": [
    "plt.style.use('ggplot')\n",
    "a=(allocation_omega_month_price[-1]**(12.0/allocation_omega_month_price.shape[0])-1)*100\n",
    "b=allocation_omega_month.std()*365\n",
    "c=a/b\n",
    "e=(allocation_riskiness_month_price[-1]**(12.0/allocation_riskiness_month_price.shape[0])-1)*100\n",
    "f=allocation_riskiness_month.std()*365\n",
    "g=e/f\n",
    "h=(allocation_sharpe_month_price[-1]**(12.0/allocation_sharpe_month_price.shape[0])-1)*100\n",
    "i=allocation_sharpe_month.std()*365\n",
    "j=h/i\n",
    "a='%s'%  (np.round(a,2))+'%'\n",
    "b='%s'%  (np.round(b,2))+'%'\n",
    "c='%s'%  (np.round(c,2))\n",
    "e='%s'%  (np.round(e,2))+'%'\n",
    "f='%s'%  (np.round(f,2))+'%'\n",
    "g='%s'%  (np.round(g,2))\n",
    "h='%s'%  (np.round(h,2))+'%'\n",
    "i='%s'%  (np.round(i,2))+'%'\n",
    "j='%s'%  (np.round(j,2))\n",
    "time=allocation_omega_month.index\n",
    "x=allocation_omega_month_price[0]\n",
    "drawdown_omega=min(allocation_omega_month_price[0]-1,0)\n",
    "for i in range(1,len(allocation_omega_month_price)):\n",
    "    if allocation_omega_month_price[i]>x:\n",
    "        x=allocation_omega_month_price[i]\n",
    "    drawdown_omega=np.append(drawdown_omega,-(1-allocation_omega_month_price[i]/x))\n",
    "x=allocation_riskiness_month_price[0]\n",
    "drawdown_riskiness=min(allocation_riskiness_month_price[0]-1,0)\n",
    "for i in range(1,len(allocation_riskiness_month_price)):\n",
    "    if allocation_riskiness_month_price[i]>x:\n",
    "        x=allocation_riskiness_month_price[i]\n",
    "    drawdown_riskiness=np.append(drawdown_riskiness,-(1-allocation_riskiness_month_price[i]/x))\n",
    "x=allocation_sharpe_month_price[0]\n",
    "drawdown_sharpe=min(allocation_sharpe_month_price[0]-1,0)\n",
    "for i in range(1,len(allocation_sharpe_month_price)):\n",
    "    if allocation_sharpe_month_price[i]>x:\n",
    "        x=allocation_sharpe_month_price[i]\n",
    "    drawdown_sharpe=np.append(drawdown_sharpe,-(1-allocation_sharpe_month_price[i]/x))\n",
    "k=pd.DataFrame(drawdown_omega).min().iloc[0]*-100\n",
    "l=pd.DataFrame(drawdown_riskiness).min().iloc[0]*-100\n",
    "m=pd.DataFrame(drawdown_sharpe).min().iloc[0]*-100\n",
    "k='%s'%  (np.round(k,2))+'%'\n",
    "l='%s'%  (np.round(l,2))+'%'\n",
    "m='%s'%  (np.round(m,2))+'%'\n",
    "fig = plt.figure(figsize=(20,10))\n",
    "plt.plot(time,np.log(allocation_omega_month_price),label='omega')\n",
    "plt.plot(time,np.log(allocation_riskiness_month_price),label='riskiness')\n",
    "plt.plot(time,np.log(allocation_sharpe_month_price),label='riskiness')\n",
    "plt.legend()\n",
    "col_labels=['return','std','sharp','max_drawdown']\n",
    "row_labels=['omega','riskiness','sharpe']\n",
    "table_vals=[[a,b,c,k],[e,f,g,l],[h,i,j,m]]\n",
    "plt.table(cellText=table_vals,rowLabels=row_labels,colLabels=col_labels,loc='lower right',colWidths = [0.15]*4)\n",
    "plt.show()\n",
    "fig = plt.figure(figsize=(15,10))\n",
    "ax1 = fig.add_subplot(3, 1, 1)\n",
    "ax2 = fig.add_subplot(3, 1, 2)\n",
    "ax3 = fig.add_subplot(3, 1, 3)\n",
    "ax1.fill_between(time,0,drawdown_omega,facecolor='red')\n",
    "ax1.set_ylim(ymax = 0, ymin = -0.4)\n",
    "ax1.legend()\n",
    "ax2.fill_between(time,0,drawdown_riskiness,facecolor='red')\n",
    "ax2.set_ylim(ymax = 0, ymin = -0.4)\n",
    "ax2.legend()\n",
    "ax3.fill_between(time,0,drawdown_sharpe,facecolor='red')\n",
    "ax3.set_ylim(ymax = 0, ymin = -0.4)\n",
    "ax3.legend()\n",
    "plt.show()"
   ]
  }
 ],
 "metadata": {
  "kernelspec": {
   "display_name": "Python 3",
   "language": "python",
   "name": "python3"
  },
  "language_info": {
   "codemirror_mode": {
    "name": "ipython",
    "version": 3
   },
   "file_extension": ".py",
   "mimetype": "text/x-python",
   "name": "python",
   "nbconvert_exporter": "python",
   "pygments_lexer": "ipython3",
   "version": "3.7.1"
  }
 },
 "nbformat": 4,
 "nbformat_minor": 2
}
