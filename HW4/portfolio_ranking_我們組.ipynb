{
 "cells": [
  {
   "cell_type": "markdown",
   "metadata": {},
   "source": [
    "# HW4 :  ETF 評比績效理論實作 "
   ]
  },
  {
   "cell_type": "code",
   "execution_count": 1,
   "metadata": {},
   "outputs": [],
   "source": [
    "import pandas as pd\n",
    "import numpy as np\n",
    "import datetime as dt\n",
    "from scipy.optimize import fsolve\n",
    "from scipy import stats\n",
    "import math\n",
    "from sklearn.neighbors.kde import KernelDensity\n",
    "from sympy import *\n",
    "from scipy.stats.kde import gaussian_kde\n",
    "from scipy.stats import norm\n",
    "from numpy import linspace, hstack\n",
    "import os\n",
    "import time"
   ]
  },
  {
   "cell_type": "code",
   "execution_count": 2,
   "metadata": {},
   "outputs": [],
   "source": [
    "def get_data_from_csv(file):\n",
    "    df = []\n",
    "    if os.path.isfile(file):\n",
    "        df = pd.read_csv(file,index_col=1)\n",
    "        df = df.drop(['sn'], axis=1)\n",
    "    return df\n",
    "\n",
    "def cal_sharp_ratio(data):\n",
    "    total = len(data)\n",
    "    data = np.log(data)\n",
    "    mean = (data.mean())\n",
    "    std = data.std()\n",
    "    skew = data.skew()\n",
    "    kurt = data.kurt()\n",
    "    var = -1.96\n",
    "    Z = var + (skew * ((var**2) - 1) / 6) + (kurt * ((var**3) - 3*var) / 24) - ((skew**2) * (2*(var**3) - 5*var) / 36)\n",
    "    adj_var = (-0.5)*(std**2)*52-Z*std*math.sqrt(total)\n",
    "    cumprod_return = np.exp(data).cumprod()[-1]\n",
    "    sharpe_ratio = cumprod_return / adj_var\n",
    "    return sharpe_ratio\n",
    "\n",
    "def cal_omega(data,L):\n",
    "    probDensityFun = gaussian_kde(data)\n",
    "    x = np.linspace(-0.5,0.5,10000)        #將數據用平滑的方式算單點機率\n",
    "    p = (probDensityFun(x) / probDensityFun(x).sum())\n",
    "    p = p.cumsum()\n",
    "    p = pd.DataFrame(p,index=x)\n",
    "    omega = ((1-p).loc[L/100/52:].sum()) / (p.loc[:L/100/52].sum())\n",
    "    return omega[0]\n",
    "\n",
    "def f1(risk,returns):\n",
    "    return sum( np.exp(-1*returns/risk) ) - len(returns)\n",
    "\n",
    "def cal_riskiness_r(data):\n",
    "    rfrate = 2.45785 / 12 / 100  #月報酬\n",
    "    data = data-1 - rfrate\n",
    "    guess = 10**(-5)\n",
    "    while (guess<1000):\n",
    "        risk = fsolve(f1,guess,data)\n",
    "        if risk[0] != guess:\n",
    "            break\n",
    "        guess = guess*10\n",
    "    return np.exp(-1/risk[0])"
   ]
  },
  {
   "cell_type": "markdown",
   "metadata": {},
   "source": [
    "# 讀取ETF原始資料"
   ]
  },
  {
   "cell_type": "code",
   "execution_count": 3,
   "metadata": {},
   "outputs": [
    {
     "name": "stdout",
     "output_type": "stream",
     "text": [
      "週資料共 173 筆\n",
      "月資料共 40 筆\n",
      "(173, 48)\n",
      "(40, 44)\n",
      "(172, 48)\n",
      "(39, 44)\n",
      "['ADRE', 'BBRC', 'BICK', 'BKF', 'DBEM', 'DEM', 'DGRE', 'DGS', 'DVYE', 'EDC', 'EDIV', 'EDOG', 'EDZ', 'EEB', 'EELV', 'EEM', 'EEMO', 'EEMS', 'EET', 'EEV', 'EMCG', 'EMFM', 'EMIF', 'EMQQ', 'EUM', 'EWEM', 'EWX', 'FEM', 'FEMS', 'FNDE', 'GEM', 'HEEM', 'HILO', 'IEMG', 'JPEM', 'PIE', 'PXH', 'PXR', 'QEMM', 'ROAM', 'SCHE', 'SDEM', 'SPEM', 'TLEH', 'TLTE', 'VWO', 'XCEM', 'XSOE']\n"
     ]
    }
   ],
   "source": [
    "# USG3M.xlsx檔案裡有三組資料，但因為沒有head，看不懂是什麼資料，似乎與無風險利率有關\n",
    "bond_rate = pd.read_excel(\"data/USG3M.xlsx\",index_col=0,parse_dates=True,header=None)\n",
    "\n",
    "# 取第一組資料\n",
    "USG3M = bond_rate[1]\n",
    "\n",
    "# 取得今天日期 (月/日/年)\n",
    "#today = str(dt.datetime.today().month)+\"/\"+str(dt.datetime.today().day)+\"/\"+str(dt.datetime.today().year)\n",
    "\n",
    "# 取出ETF資料\n",
    "etf_data_weekly = get_data_from_csv('./data/weekly/Emerging Markets ETF List (79)_merge.csv')\n",
    "etf_data_weekly = etf_data_weekly.dropna()\n",
    "print('週資料共',etf_data_weekly.shape[0],'筆')\n",
    "\n",
    "etf_data_monthly = get_data_from_csv('./data/monthly/Emerging Markets ETF List (79)_merge.csv')\n",
    "etf_data_monthly = etf_data_monthly.dropna()\n",
    "print('月資料共',etf_data_monthly.shape[0],'筆')\n",
    "\n",
    "# 將ETF price換算成return\n",
    "etf_return_weekly = etf_data_weekly / etf_data_weekly.shift(1)\n",
    "etf_return_monthly = etf_data_monthly / etf_data_monthly.shift(1)\n",
    "print(etf_return_weekly.shape)\n",
    "print(etf_return_monthly.shape)\n",
    "\n",
    "# 移除無限大的資料\n",
    "etf_return_weekly = etf_return_weekly.replace([np.inf, -np.inf], np.nan).dropna()\n",
    "etf_return_monthly = etf_return_monthly.replace([np.inf, -np.inf], np.nan).dropna()\n",
    "print(etf_return_weekly.shape)\n",
    "print(etf_return_monthly.shape)\n",
    "\n",
    "# 取出ETF名稱(簡寫)\n",
    "etf_symbols = list(etf_data_weekly.columns)\n",
    "print(etf_symbols)"
   ]
  },
  {
   "cell_type": "code",
   "execution_count": 4,
   "metadata": {},
   "outputs": [
    {
     "data": {
      "text/plain": [
       "48"
      ]
     },
     "execution_count": 4,
     "metadata": {},
     "output_type": "execute_result"
    }
   ],
   "source": [
    "etf_return_weekly.shape[1]"
   ]
  },
  {
   "cell_type": "markdown",
   "metadata": {},
   "source": [
    "# 指標A : Adjust Sharpe Ratios"
   ]
  },
  {
   "cell_type": "markdown",
   "metadata": {},
   "source": [
    "### sharpe ratio 週資料"
   ]
  },
  {
   "cell_type": "code",
   "execution_count": 5,
   "metadata": {},
   "outputs": [
    {
     "name": "stdout",
     "output_type": "stream",
     "text": [
      "done\n"
     ]
    }
   ],
   "source": [
    "sharpe_ratio_weekly = {}\n",
    "\n",
    "# 取出每支ETF的return，計算sharpe ratio\n",
    "for i in range(etf_return_weekly.shape[1]):\n",
    "    etf_name = etf_symbols[i]\n",
    "    etf_return = etf_return_weekly.iloc[:,i]\n",
    "    sharp_ratio = cal_sharp_ratio(etf_return)\n",
    "    sharpe_ratio_weekly[etf_name] = sharp_ratio\n",
    "    \n",
    "# 排序，取前10名\n",
    "sorted_sharpe_ratio_weekly = sorted(sharpe_ratio_weekly.items(), key=lambda kv: kv[1])\n",
    "top_sharpe_ratio_weekly = sorted_sharpe_ratio_weekly[:10]\n",
    "\n",
    "# 整理dataframe\n",
    "ranking_sharpe_ratio_weekly = pd.DataFrame(top_sharpe_ratio_weekly,columns=['ETF_Symbol','val'])\n",
    "ranking_sharpe_ratio_weekly['Ranking'] = list(range(1,11))\n",
    "ranking_sharpe_ratio_weekly = ranking_sharpe_ratio_weekly.drop(['val'],axis=1)\n",
    "ranking_sharpe_ratio_weekly = ranking_sharpe_ratio_weekly.set_index('Ranking')\n",
    "\n",
    "print('done')"
   ]
  },
  {
   "cell_type": "markdown",
   "metadata": {},
   "source": [
    "### sharpe ratio 月資料"
   ]
  },
  {
   "cell_type": "code",
   "execution_count": 6,
   "metadata": {},
   "outputs": [
    {
     "name": "stdout",
     "output_type": "stream",
     "text": [
      "done\n"
     ]
    }
   ],
   "source": [
    "sharpe_ratio_monthly = {}\n",
    "\n",
    "# 取出每支ETF的return，計算sharpe ratio\n",
    "for i in range(etf_return_monthly.shape[1]):\n",
    "    etf_name = etf_symbols[i]\n",
    "    etf_return = etf_return_monthly.iloc[:,i]\n",
    "    sharp_ratio = cal_sharp_ratio(etf_return)\n",
    "    sharpe_ratio_monthly[etf_name] = sharp_ratio\n",
    "    \n",
    "# 排序，取前10名\n",
    "sorted_sharpe_ratio_monthly = sorted(sharpe_ratio_monthly.items(), key=lambda kv: kv[1])\n",
    "top_sharpe_ratio_monthly = sorted_sharpe_ratio_monthly[:10]\n",
    "ranking_sharpe_ratio_monthly = pd.DataFrame(top_sharpe_ratio_monthly,columns=['ETF_Symbol','val'])\n",
    "\n",
    "# 整理dataframe\n",
    "ranking_sharpe_ratio_monthly = pd.DataFrame(top_sharpe_ratio_monthly,columns=['ETF_Symbol','val'])\n",
    "ranking_sharpe_ratio_monthly['Ranking'] = list(range(1,11))\n",
    "ranking_sharpe_ratio_monthly = ranking_sharpe_ratio_monthly.drop(['val'],axis=1)\n",
    "ranking_sharpe_ratio_monthly = ranking_sharpe_ratio_monthly.set_index('Ranking')\n",
    "\n",
    "print('done')"
   ]
  },
  {
   "cell_type": "markdown",
   "metadata": {},
   "source": [
    "# 指標B : Omega "
   ]
  },
  {
   "cell_type": "markdown",
   "metadata": {},
   "source": [
    "### omega 週資料"
   ]
  },
  {
   "cell_type": "code",
   "execution_count": 7,
   "metadata": {},
   "outputs": [
    {
     "name": "stderr",
     "output_type": "stream",
     "text": [
      "C:\\Users\\R\\Anaconda3\\lib\\site-packages\\ipykernel_launcher.py:25: RuntimeWarning: invalid value encountered in true_divide\n"
     ]
    },
    {
     "name": "stdout",
     "output_type": "stream",
     "text": [
      "done\n"
     ]
    }
   ],
   "source": [
    "omega_weekly = {}\n",
    "\n",
    "# 取出每支ETF的return資料計算omega\n",
    "for i in range(etf_return_weekly.shape[1]):\n",
    "    etf_name = etf_symbols[i]\n",
    "    etf_return = etf_return_weekly.iloc[:,i]\n",
    "    L = USG3M.loc[etf_return.index[-1]]\n",
    "    omega = cal_omega(etf_return,L)\n",
    "    # 應移除NaN ???\n",
    "    if not math.isnan(omega):\n",
    "        omega_weekly[etf_name] = omega\n",
    "\n",
    "# 排序, 取前10名\n",
    "sorted_omega_weekly = sorted(omega_weekly.items(), key=lambda kv: kv[1])\n",
    "omega_top_weekly = sorted_omega_weekly[:10]\n",
    "\n",
    "# 整理dataframe\n",
    "ranking_omega_weekly = pd.DataFrame(omega_top_weekly,columns=['ETF_Symbol','val'])\n",
    "ranking_omega_weekly['Ranking'] = list(range(1,ranking_omega_weekly.shape[0]+1))\n",
    "ranking_omega_weekly = ranking_omega_weekly.drop(['val'],axis=1)\n",
    "ranking_omega_weekly = ranking_omega_weekly.set_index('Ranking')\n",
    "\n",
    "print('done')"
   ]
  },
  {
   "cell_type": "markdown",
   "metadata": {},
   "source": [
    "### omega 月資料"
   ]
  },
  {
   "cell_type": "code",
   "execution_count": 8,
   "metadata": {},
   "outputs": [
    {
     "name": "stdout",
     "output_type": "stream",
     "text": [
      "done\n"
     ]
    }
   ],
   "source": [
    "omega_monthly = {}\n",
    "\n",
    "# 取出每支ETF的return資料計算omega\n",
    "for i in range(etf_return_monthly.shape[1]):\n",
    "    #print(i)\n",
    "    etf_name = etf_symbols[i]\n",
    "    etf_return = etf_return_monthly.iloc[:,i]\n",
    "    L = USG3M.loc[etf_return.index[-1]]\n",
    "    omega = cal_omega(etf_return,L)\n",
    "    #print(omega)\n",
    "    # 應移除NaN ???\n",
    "    if not math.isnan(omega):\n",
    "        omega_monthly[etf_name] = omega\n",
    "\n",
    "# 排序, 取前10名\n",
    "sorted_omega_monthly = sorted(omega_monthly.items(), key=lambda kv: kv[1])\n",
    "omega_top_monthly = sorted_omega_monthly[:10]\n",
    "\n",
    "# 整理dataframe\n",
    "ranking_omega_monthly = pd.DataFrame(omega_top_monthly,columns=['ETF_Symbol','val'])\n",
    "ranking_omega_monthly['Ranking'] = list(range(1,ranking_omega_monthly.shape[0]+1))\n",
    "ranking_omega_monthly = ranking_omega_monthly.drop(['val'],axis=1)\n",
    "ranking_omega_monthly = ranking_omega_monthly.set_index('Ranking')\n",
    "\n",
    "print('done')"
   ]
  },
  {
   "cell_type": "markdown",
   "metadata": {},
   "source": [
    "# 指標C : Riskiness R"
   ]
  },
  {
   "cell_type": "markdown",
   "metadata": {},
   "source": [
    "### riskiness r 週資料"
   ]
  },
  {
   "cell_type": "code",
   "execution_count": 9,
   "metadata": {},
   "outputs": [
    {
     "name": "stderr",
     "output_type": "stream",
     "text": [
      "C:\\Users\\R\\Anaconda3\\lib\\site-packages\\scipy\\optimize\\minpack.py:163: RuntimeWarning: The iteration is not making good progress, as measured by the \n",
      "  improvement from the last ten iterations.\n",
      "  warnings.warn(msg, RuntimeWarning)\n",
      "C:\\Users\\R\\Anaconda3\\lib\\site-packages\\scipy\\optimize\\minpack.py:163: RuntimeWarning: The number of calls to function has reached maxfev = 400.\n",
      "  warnings.warn(msg, RuntimeWarning)\n"
     ]
    },
    {
     "name": "stdout",
     "output_type": "stream",
     "text": [
      "done\n"
     ]
    }
   ],
   "source": [
    "riskiness_r_weekly = {}\n",
    "\n",
    "for i in range(etf_return_weekly.shape[1]):\n",
    "    etf_name = etf_symbols[i]\n",
    "    etf_return = etf_return_weekly.iloc[:,i]\n",
    "    r = cal_riskiness_r(etf_return)\n",
    "    riskiness_r_weekly[etf_name] = r\n",
    "\n",
    "# 排序, 取前10名\n",
    "sorted_riskiness_r_weekly = sorted(riskiness_r_weekly.items(), key=lambda kv: kv[1])\n",
    "top_riskiness_r_weekly = sorted_riskiness_r_weekly[:10]\n",
    "\n",
    "# 整理dataframe\n",
    "ranking_riskiness_r_weekly = pd.DataFrame(top_riskiness_r_weekly,columns=['ETF_Symbol','val'])\n",
    "ranking_riskiness_r_weekly['Ranking'] = list(range(1,11))\n",
    "ranking_riskiness_r_weekly = ranking_riskiness_r_weekly.drop(['val'],axis=1)\n",
    "ranking_riskiness_r_weekly = ranking_riskiness_r_weekly.set_index('Ranking')\n",
    "\n",
    "print('done')"
   ]
  },
  {
   "cell_type": "markdown",
   "metadata": {},
   "source": [
    "### riskiness r 月資料"
   ]
  },
  {
   "cell_type": "code",
   "execution_count": 10,
   "metadata": {},
   "outputs": [
    {
     "name": "stderr",
     "output_type": "stream",
     "text": [
      "C:\\Users\\R\\Anaconda3\\lib\\site-packages\\scipy\\optimize\\minpack.py:163: RuntimeWarning: The iteration is not making good progress, as measured by the \n",
      "  improvement from the last ten iterations.\n",
      "  warnings.warn(msg, RuntimeWarning)\n",
      "C:\\Users\\R\\Anaconda3\\lib\\site-packages\\scipy\\optimize\\minpack.py:163: RuntimeWarning: The number of calls to function has reached maxfev = 400.\n",
      "  warnings.warn(msg, RuntimeWarning)\n"
     ]
    },
    {
     "name": "stdout",
     "output_type": "stream",
     "text": [
      "done\n"
     ]
    }
   ],
   "source": [
    "riskiness_r_monthly = {}\n",
    "\n",
    "for i in range(etf_return_monthly.shape[1]):\n",
    "    etf_name = etf_symbols[i]\n",
    "    etf_return = etf_return_monthly.iloc[:,i]\n",
    "    r = cal_riskiness_r(etf_return)\n",
    "    riskiness_r_monthly[etf_name] = r\n",
    "\n",
    "# 排序, 取前10名\n",
    "sorted_riskiness_r_monthly = sorted(riskiness_r_monthly.items(), key=lambda kv: kv[1])\n",
    "top_riskiness_r_monthly = sorted_riskiness_r_monthly[:10]\n",
    "\n",
    "# 整理dataframe\n",
    "ranking_riskiness_r_monthly = pd.DataFrame(top_riskiness_r_monthly,columns=['ETF_Symbol','val'])\n",
    "ranking_riskiness_r_monthly['Ranking'] = list(range(1,11))\n",
    "ranking_riskiness_r_monthly = ranking_riskiness_r_monthly.drop(['val'],axis=1)\n",
    "ranking_riskiness_r_monthly = ranking_riskiness_r_monthly.set_index('Ranking')\n",
    "\n",
    "print('done')"
   ]
  },
  {
   "cell_type": "markdown",
   "metadata": {},
   "source": [
    "# 週資料排名"
   ]
  },
  {
   "cell_type": "code",
   "execution_count": 11,
   "metadata": {},
   "outputs": [
    {
     "name": "stdout",
     "output_type": "stream",
     "text": [
      "週資料分析組\n",
      "==========\n",
      "A 評比指標\n",
      "----------\n",
      "        ETF_Symbol\n",
      "Ranking           \n",
      "1              EDZ\n",
      "2              PXR\n",
      "3              EEV\n",
      "4              EDC\n",
      "5              EUM\n",
      "6              EET\n",
      "7             EEMO\n",
      "8             EMQQ\n",
      "9              PIE\n",
      "10            EMCG\n",
      "\n",
      "B 評比指標\n",
      "----------\n",
      "        ETF_Symbol\n",
      "Ranking           \n",
      "1              PXR\n",
      "2              EDZ\n",
      "3              EDC\n",
      "4             EEMO\n",
      "5              EET\n",
      "6              EEV\n",
      "7             EMQQ\n",
      "\n",
      "C 評比指標\n",
      "----------\n",
      "        ETF_Symbol\n",
      "Ranking           \n",
      "1              EWX\n",
      "2             HEEM\n",
      "3             HILO\n",
      "4             QEMM\n",
      "5             ROAM\n",
      "6             XCEM\n",
      "7              PXH\n",
      "8             FNDE\n",
      "9              EEB\n",
      "10            DVYE\n",
      "\n"
     ]
    }
   ],
   "source": [
    "print('週資料分析組')\n",
    "print('==========')\n",
    "\n",
    "print('A 評比指標')\n",
    "print('----------')\n",
    "print(ranking_sharpe_ratio_weekly)\n",
    "print()\n",
    "\n",
    "print('B 評比指標')\n",
    "print('----------')\n",
    "print(ranking_omega_weekly)\n",
    "print()\n",
    "\n",
    "print('C 評比指標')\n",
    "print('----------')\n",
    "print(ranking_riskiness_r_weekly)\n",
    "print()"
   ]
  },
  {
   "cell_type": "markdown",
   "metadata": {},
   "source": [
    "# 月資料排名"
   ]
  },
  {
   "cell_type": "code",
   "execution_count": 12,
   "metadata": {},
   "outputs": [
    {
     "name": "stdout",
     "output_type": "stream",
     "text": [
      "月資料分析組\n",
      "==========\n",
      "A 評比指標\n",
      "----------\n",
      "        ETF_Symbol\n",
      "Ranking           \n",
      "1              EDZ\n",
      "2              EEV\n",
      "3             EMQQ\n",
      "4             EEMO\n",
      "5              EDC\n",
      "6              EET\n",
      "7             EMIF\n",
      "8              PIE\n",
      "9             EEMS\n",
      "10            IEMG\n",
      "\n",
      "B 評比指標\n",
      "----------\n",
      "        ETF_Symbol\n",
      "Ranking           \n",
      "1              EDZ\n",
      "2              EDC\n",
      "3              EET\n",
      "4              EEV\n",
      "5             EMIF\n",
      "6             EEMO\n",
      "7              PIE\n",
      "8             FEMS\n",
      "9             EDOG\n",
      "10             FEM\n",
      "\n",
      "C 評比指標\n",
      "----------\n",
      "        ETF_Symbol\n",
      "Ranking           \n",
      "1             ADRE\n",
      "2             BICK\n",
      "3             DVYE\n",
      "4             EELV\n",
      "5             SCHE\n",
      "6             JPEM\n",
      "7             FEMS\n",
      "8             HILO\n",
      "9              DGS\n",
      "10             EUM\n",
      "\n"
     ]
    }
   ],
   "source": [
    "print('月資料分析組')\n",
    "print('==========')\n",
    "\n",
    "print('A 評比指標')\n",
    "print('----------')\n",
    "print(ranking_sharpe_ratio_monthly)\n",
    "print()\n",
    "\n",
    "print('B 評比指標')\n",
    "print('----------')\n",
    "print(ranking_omega_monthly)\n",
    "print()\n",
    "\n",
    "print('C 評比指標')\n",
    "print('----------')\n",
    "print(ranking_riskiness_r_monthly)\n",
    "print()"
   ]
  },
  {
   "cell_type": "markdown",
   "metadata": {},
   "source": [
    "# 合併排列"
   ]
  },
  {
   "cell_type": "markdown",
   "metadata": {},
   "source": [
    "### 週資料"
   ]
  },
  {
   "cell_type": "code",
   "execution_count": 13,
   "metadata": {},
   "outputs": [
    {
     "name": "stdout",
     "output_type": "stream",
     "text": [
      "週資料\n",
      "   Ranking   指標A   指標B   指標C\n",
      "0        1   EDZ   PXR   EWX\n",
      "1        2   PXR   EDZ  HEEM\n",
      "2        3   EEV   EDC  HILO\n",
      "3        4   EDC  EEMO  QEMM\n",
      "4        5   EUM   EET  ROAM\n",
      "5        6   EET   EEV  XCEM\n",
      "6        7  EEMO  EMQQ   PXH\n",
      "7        8  EMQQ     -  FNDE\n",
      "8        9   PIE     -   EEB\n",
      "9       10  EMCG     -  DVYE\n",
      "\n"
     ]
    }
   ],
   "source": [
    "c1 = ranking_sharpe_ratio_weekly['ETF_Symbol'].values.tolist()\n",
    "\n",
    "c2 = ranking_omega_weekly['ETF_Symbol'].values.tolist()\n",
    "# 補0\n",
    "for i in range(10):\n",
    "    if i>=len(c2):\n",
    "        c2.append('-')\n",
    "        \n",
    "c3 = ranking_riskiness_r_weekly['ETF_Symbol'].values.tolist()\n",
    "\n",
    "dict1 = {'Ranking':ranking_sharpe_ratio_weekly.index,'指標A':c1,'指標B':c2,'指標C':c3}\n",
    "weekly_reanking = pd.DataFrame(dict1)\n",
    "\n",
    "print('週資料')\n",
    "print(weekly_reanking)\n",
    "print()"
   ]
  },
  {
   "cell_type": "markdown",
   "metadata": {},
   "source": [
    "### 月資料"
   ]
  },
  {
   "cell_type": "code",
   "execution_count": 14,
   "metadata": {},
   "outputs": [
    {
     "name": "stdout",
     "output_type": "stream",
     "text": [
      "月資料\n",
      "   Ranking   指標A   指標B   指標C\n",
      "0        1   EDZ   EDZ  ADRE\n",
      "1        2   EEV   EDC  BICK\n",
      "2        3  EMQQ   EET  DVYE\n",
      "3        4  EEMO   EEV  EELV\n",
      "4        5   EDC  EMIF  SCHE\n",
      "5        6   EET  EEMO  JPEM\n",
      "6        7  EMIF   PIE  FEMS\n",
      "7        8   PIE  FEMS  HILO\n",
      "8        9  EEMS  EDOG   DGS\n",
      "9       10  IEMG   FEM   EUM\n",
      "\n"
     ]
    }
   ],
   "source": [
    "c1 = ranking_sharpe_ratio_monthly['ETF_Symbol'].values.tolist()\n",
    "\n",
    "c2 = ranking_omega_monthly['ETF_Symbol'].values.tolist()\n",
    "# 補0\n",
    "for i in range(10):\n",
    "    if i>=len(c2):\n",
    "        c2.append('-')\n",
    "        \n",
    "c3 = ranking_riskiness_r_monthly['ETF_Symbol'].values.tolist()\n",
    "\n",
    "dict1 = {'Ranking':ranking_sharpe_ratio_monthly.index,'指標A':c1,'指標B':c2,'指標C':c3}\n",
    "monthly_reanking = pd.DataFrame(dict1)\n",
    "\n",
    "print('月資料')\n",
    "print(monthly_reanking)\n",
    "print()"
   ]
  },
  {
   "cell_type": "code",
   "execution_count": null,
   "metadata": {},
   "outputs": [],
   "source": []
  }
 ],
 "metadata": {
  "kernelspec": {
   "display_name": "Python 3",
   "language": "python",
   "name": "python3"
  },
  "language_info": {
   "codemirror_mode": {
    "name": "ipython",
    "version": 3
   },
   "file_extension": ".py",
   "mimetype": "text/x-python",
   "name": "python",
   "nbconvert_exporter": "python",
   "pygments_lexer": "ipython3",
   "version": "3.6.5"
  }
 },
 "nbformat": 4,
 "nbformat_minor": 2
}
